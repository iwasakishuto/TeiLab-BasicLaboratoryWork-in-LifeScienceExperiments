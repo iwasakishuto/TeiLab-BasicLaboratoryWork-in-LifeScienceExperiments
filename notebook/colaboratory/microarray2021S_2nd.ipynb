{
  "nbformat": 4,
  "nbformat_minor": 0,
  "metadata": {
    "colab": {
      "name": "microarray2021S-2nd.ipynb",
      "provenance": [],
      "collapsed_sections": [],
      "authorship_tag": "ABX9TyM+7ZHzVeWNHi5k7cd9m9AV",
      "include_colab_link": true
    },
    "kernelspec": {
      "name": "python3",
      "display_name": "Python 3"
    },
    "language_info": {
      "name": "python"
    }
  },
  "cells": [
    {
      "cell_type": "markdown",
      "metadata": {
        "id": "view-in-github",
        "colab_type": "text"
      },
      "source": [
        "<a href=\"https://colab.research.google.com/github/iwasakishuto/TeiLab-BasicLaboratoryWork-in-LifeScienceExperiments/blob/develop/notebook/colaboratory/microarray2021S_2nd.ipynb\" target=\"_parent\"><img src=\"https://colab.research.google.com/assets/colab-badge.svg\" alt=\"Open In Colab\"/></a>"
      ]
    },
    {
      "cell_type": "markdown",
      "metadata": {
        "id": "oWI1uX_28_4J"
      },
      "source": [
        "# マイクロアレイ解析 \\~2021 Spring Semester\\~\n",
        "\n",
        "- [程研HP](http://ui-tei.rnai.jp/)\n",
        "- [実習wiki](http://ui-tei.rnai.jp/microarray/doku.php?id=2021)\n",
        "- [`teilab` Package (Github)](https://github.com/iwasakishuto/TeiLab-BasicLaboratoryWork-in-LifeScienceExperiments)\n",
        "- [`teilab` Documentation](https://iwasakishuto.github.io/TeiLab-BasicLaboratoryWork-in-LifeScienceExperiments/index.html)\n",
        "\n",
        "　今回の実習では、網羅的に遺伝子の発現を解析する手法である**マイクロアレイ**について、\n",
        "\n",
        "- **wet(実験)**：siRNAを導入した細胞からRNAを抽出し、マイクロアレイ実験を行う。マイクロアレイの原理や操作手順を理解する。\n",
        "- **dyr(解析)**：全mRNAの変動量を、マイクロアレイデータの特徴を踏まえて解析する。マイクロアレイデータの解析手法を理解する。\n",
        "\n",
        "の両側面から学んでいただきますが、このNotebookでは、そのうち **dry(解析)** パートに関して、プログラミング言語 [Python](https://www.python.org/) を使って実際の解析の流れを、手を動かしながら学んでいただくことになります。"
      ]
    },
    {
      "cell_type": "markdown",
      "metadata": {
        "id": "2DvK4mUIdpK9"
      },
      "source": [
        "***\n",
        "***"
      ]
    },
    {
      "cell_type": "markdown",
      "metadata": {
        "id": "obLHBlmJ-VOY"
      },
      "source": [
        "#### 一言\n",
        "\n",
        "　今回dryパートの実習を担当させていただく、程研M1の岩崎（生情11期）です。よろしくお願いします。\n",
        "\n",
        "　この実習が終わった時には、**全員が「マイクロアレイ解析結構Pythonでできるし、あんなことやこんなことも自分でプログラムを書いて調べてみたい！！」** と思っていただけることを目指して頑張りますので、わからないことがあればなんでも遠慮なく質問してください！！\n",
        "\n",
        "　また、**「解析手法に絶対はない」** ので、是非積極的に色々な解析を試みて、面白い結果を出してきてください！！！（ぜひ一緒に議論しましょう！）"
      ]
    },
    {
      "cell_type": "markdown",
      "metadata": {
        "id": "ZlpTJECN_wwd"
      },
      "source": [
        "***\n",
        "***"
      ]
    },
    {
      "cell_type": "markdown",
      "metadata": {
        "id": "GNimcRoz_z5T"
      },
      "source": [
        "## 0. 環境構築\n",
        "\n",
        "　それでは解析を始めていきましょう！！解析に必要なデータや、各種ツールを揃えていきます。といっても、必要なプログラムはまとめて[パッケージ化しておいた](https://github.com/iwasakishuto/TeiLab-BasicLaboratoryWork-in-LifeScienceExperiments)ので、以下のコードを実行するだけで全て揃います。"
      ]
    },
    {
      "cell_type": "markdown",
      "metadata": {
        "id": "oFyY1GpDd-H1"
      },
      "source": [
        "### 0.1 必要なツールの準備"
      ]
    },
    {
      "cell_type": "code",
      "metadata": {
        "id": "MRPXtd-G7_I7"
      },
      "source": [
        "! pip install \"git+https://github.com/iwasakishuto/TeiLab-BasicLaboratoryWork-in-LifeScienceExperiments.git\" --ignore-requires-python"
      ],
      "execution_count": null,
      "outputs": []
    },
    {
      "cell_type": "markdown",
      "metadata": {
        "id": "kiN-_LowAgiZ"
      },
      "source": [
        "ここで\n",
        "\n",
        "```\n",
        "ERROR: XXX has requirement YYY==<version> but you'll have YYY <version> which is incompatible.\n",
        "WARNING: The following packages were previously imported in this runtime\n",
        "```\n",
        "\n",
        "のようなエラーが出る分には（確認する限り、今回の実習では）問題ありません。"
      ]
    },
    {
      "cell_type": "markdown",
      "metadata": {
        "id": "QuX_nwH1VNS2"
      },
      "source": [
        "　ただ、以下のようなメッセージが出ると思うので、言われた通りにruntimeをrestartしましょう。\n",
        "\n",
        "```\n",
        "WARNING: The following packages were previously imported in this runtime:\n",
        "  [matplotlib,mpl_toolkits,numpy,pandas]\n",
        "You must restart the runtime in order to use newly installed versions.\n",
        "```"
      ]
    },
    {
      "cell_type": "code",
      "metadata": {
        "id": "kDHnry508BkU"
      },
      "source": [
        "# 以下のコマンドでエラーが出なければ、準備はOKです！\n",
        "from teilab.question import ask\n",
        "ret = ask(\n",
        "    text=\"好きな言葉を入力してください。\", \n",
        "    username=\"あなたの名前\", \n",
        "    icon_emoji=\":grinning:\", \n",
        "    icon_url=None, \n",
        "    webhook_url=None,\n",
        ")\n",
        "ret.ok"
      ],
      "execution_count": null,
      "outputs": []
    },
    {
      "cell_type": "markdown",
      "metadata": {
        "id": "FTe1tV9pBZkW"
      },
      "source": [
        "　以上で必要なツールは揃いました！！それでは以下で必要なデータのダウンロードを行いましょう！！"
      ]
    },
    {
      "cell_type": "markdown",
      "metadata": {
        "id": "XQLCM9zeBrxm"
      },
      "source": [
        "### 0.1 必要なデータの準備\n",
        "\n",
        "　続いて、データの準備に取り掛かります。先ほどインストールしたパッケージを用いてデータのダウンロードを行います。"
      ]
    },
    {
      "cell_type": "code",
      "metadata": {
        "id": "xxZ0Cd2fBuvH"
      },
      "source": [
        "# データのダウンロードを取り扱うクラスを定義したので、これを用いて煩わしい作業を省きます。（非本質なので）\n",
        "from teilab.datasets import TeiLabDataSets\n",
        "dataset = TeiLabDataSets()"
      ],
      "execution_count": null,
      "outputs": []
    },
    {
      "cell_type": "code",
      "metadata": {
        "id": "HW3F-M93BwdB"
      },
      "source": [
        "password1 = \"\"\n",
        "password2 = \"\"\n",
        "password3 = \"\""
      ],
      "execution_count": null,
      "outputs": []
    },
    {
      "cell_type": "code",
      "metadata": {
        "id": "05F1pUq2CfGQ"
      },
      "source": [
        "path1 = dataset.get_data(password=password1)\n",
        "path2 = dataset.get_data(password=password2)\n",
        "path3 = dataset.get_data(password=password3)"
      ],
      "execution_count": null,
      "outputs": []
    },
    {
      "cell_type": "code",
      "metadata": {
        "id": "UJwObEElCimR"
      },
      "source": [
        "print(path1)\n",
        "print(path2)\n",
        "print(path3)"
      ],
      "execution_count": null,
      "outputs": []
    },
    {
      "cell_type": "markdown",
      "metadata": {
        "id": "EsHdSAs2eKCq"
      },
      "source": [
        "## 1. Pythonについて(Playground)\n",
        "\n",
        "　Pythonを使うのが初めて、と言う方もいらっしゃると思うので、ここで簡単に説明します。\n",
        "\n",
        "なお、[東大の数理・情報教育研究センターが提供している入門講座](https://utokyo-ipp.github.io/)が非常に質が良いと評判なので、詳しくはそちらを参照してください。"
      ]
    },
    {
      "cell_type": "code",
      "metadata": {
        "id": "OWdBxSh8hzz6"
      },
      "source": [
        "import numpy as np\n",
        "import pandas as pd"
      ],
      "execution_count": null,
      "outputs": []
    },
    {
      "cell_type": "code",
      "metadata": {
        "id": "u83QeRLaeVoF"
      },
      "source": [
        "help(ask)"
      ],
      "execution_count": null,
      "outputs": []
    },
    {
      "cell_type": "markdown",
      "metadata": {
        "id": "3zZ7dpRjf0Mm"
      },
      "source": [
        "Document: https://iwasakishuto.github.io/TeiLab-BasicLaboratoryWork-in-LifeScienceExperiments/teilab.question.html#teilab.question.ask"
      ]
    },
    {
      "cell_type": "code",
      "metadata": {
        "id": "agAILfvneVsb"
      },
      "source": [
        "dataset.__dir__()"
      ],
      "execution_count": null,
      "outputs": []
    },
    {
      "cell_type": "code",
      "metadata": {
        "id": "gj1deUgKeVtu"
      },
      "source": [
        "dir(dataset)"
      ],
      "execution_count": null,
      "outputs": []
    },
    {
      "cell_type": "markdown",
      "metadata": {
        "id": "OHpt0mHigEPu"
      },
      "source": [
        "Document: https://iwasakishuto.github.io/TeiLab-BasicLaboratoryWork-in-LifeScienceExperiments/teilab.datasets.html#teilab.datasets.TeiLabDataSets"
      ]
    },
    {
      "cell_type": "code",
      "metadata": {
        "id": "e5jK3Lv-e40Z"
      },
      "source": [
        "arr = np.asarray([1,2,3,4,5])\n",
        "print(arr)"
      ],
      "execution_count": null,
      "outputs": []
    },
    {
      "cell_type": "code",
      "metadata": {
        "id": "NH-ytD6ah5wj"
      },
      "source": [
        "arr[1:]"
      ],
      "execution_count": null,
      "outputs": []
    },
    {
      "cell_type": "code",
      "metadata": {
        "id": "l1Lg00Mue425"
      },
      "source": [
        "df = pd.DataFrame(data=[\n",
        "  [1,2,3,4,5],\n",
        "  [6,7,8,9,10]\n",
        "], columns=[\"A\",\"B\",\"C\",\"D\",\"E\"])\n",
        "df.head()"
      ],
      "execution_count": null,
      "outputs": []
    },
    {
      "cell_type": "code",
      "metadata": {
        "id": "VGbF12yMiS4Z"
      },
      "source": [
        "df[[\"A\",\"D\"]]"
      ],
      "execution_count": null,
      "outputs": []
    },
    {
      "cell_type": "code",
      "metadata": {
        "id": "fCGdTdQpiZCX"
      },
      "source": [
        "df.E"
      ],
      "execution_count": null,
      "outputs": []
    },
    {
      "cell_type": "markdown",
      "metadata": {
        "id": "bKrxaJ2CC4Cp"
      },
      "source": [
        "## 2. データの読み込み\n",
        "\n",
        "　それでは、ダウンロードしたデータを読み込んでいきます。"
      ]
    },
    {
      "cell_type": "code",
      "metadata": {
        "id": "ve5u8cdeC0N7"
      },
      "source": [
        "# どこにデータがあるかの確認\n",
        "dataset.filePaths"
      ],
      "execution_count": null,
      "outputs": []
    },
    {
      "cell_type": "code",
      "metadata": {
        "id": "x-tDjOmkF4EZ"
      },
      "source": [
        "# 読み込まれたデータの内容を可視化する。\n",
        "dataset.samples.show_groups()"
      ],
      "execution_count": null,
      "outputs": []
    },
    {
      "cell_type": "code",
      "metadata": {
        "id": "EglntD6gDIPr"
      },
      "source": [
        "# データの中身を確認。\n",
        "! head -n20 {dataset.filePaths[0]}"
      ],
      "execution_count": null,
      "outputs": []
    },
    {
      "cell_type": "code",
      "metadata": {
        "id": "yodAGMYgDRHY"
      },
      "source": [
        "# 読み込み方\n",
        "df = pd.read_csv(filepath_or_buffer=dataset.filePaths[0], sep=\"\\t\", header=9)\n",
        "df.head(3)"
      ],
      "execution_count": null,
      "outputs": []
    },
    {
      "cell_type": "markdown",
      "metadata": {
        "id": "rFmB9oz7Dy1B"
      },
      "source": [
        "## 3. データの統合\n",
        "\n",
        "　先日 Excel や R で行った解析と同様に、全サンプルのデータを一つにまとめていきましょう。\n",
        "\n",
        "　行番号とプローブ番号の対応関係は（同じタイミングの実験であれば）どのサンプルも同じであるので、サンプル $X$ のデータの隣にサンプル $Y$ のデータを `concatenate` すれば1枚のワークシート（DataFrame）にまとまります。\n",
        "\n",
        "　そこで、これを繰り返して全サンプルの `gProcessedSignal` の値を1つのテーブルにまとめていきましょう。"
      ]
    },
    {
      "cell_type": "code",
      "metadata": {
        "id": "7eXbBjbBRal9"
      },
      "source": [
        "# 今回は、0-4のデータを使います。\n",
        "target_filepaths = dataset.filePaths[0:5]\n",
        "target_conditions = dataset.samples.Condition[0:5]\n",
        "\n",
        "for fp,cond in zip(target_filepaths, target_conditions):\n",
        "  print(cond, fp)"
      ],
      "execution_count": null,
      "outputs": []
    },
    {
      "cell_type": "markdown",
      "metadata": {
        "id": "SZ4n3nuuEZYi"
      },
      "source": [
        "### 3.1 アノテーションデータの読み込み\n",
        "\n",
        "　各プローブ（スポット、フィーチャー）がどういうデータかを説明するデータを、ここでは **「アノテーションデータ」** と呼ぶことにします。なお、同じ実験（マイクロアレイの機械）であれば、この情報はサンプル間で統一されているので、同タイミングに行ったサンプル群の中から一つを適当に選んでそこから抽出します。\n",
        "\n",
        "※ここで抽出する**アノテーションデータ**は、以下のカラムに書かれている内容です。"
      ]
    },
    {
      "cell_type": "code",
      "metadata": {
        "id": "uHL7l6AtDgHa"
      },
      "source": [
        "USE_COLS_ANNO  = [\n",
        "    \"FeatureNum\", \"ControlType\", \"ProbeName\", \"SystematicName\"\n",
        "]"
      ],
      "execution_count": null,
      "outputs": []
    },
    {
      "cell_type": "markdown",
      "metadata": {
        "id": "CgHiebapFqFO"
      },
      "source": [
        "\n",
        "|column name|description|\n",
        "|:-:|:-|\n",
        "|`FeatureNum`|スポットの番号|\n",
        "|`ControlType`|<ul><li>positive controlは `1`</li> <li>negative controlは `-1`</li><li>それ以外（解析で用いる）は `0`</li></ul>|\n",
        "|`ProbeName`|プローブ名|\n",
        "|`SystematicName`|遺伝子名|"
      ]
    },
    {
      "cell_type": "code",
      "metadata": {
        "id": "6YbkrygaFb8d"
      },
      "source": [
        "df_anno = pd.read_csv(filepath_or_buffer=target_filepaths[0], sep=\"\\t\", header=9, usecols=USE_COLS_ANNO)\n",
        "df_anno.head(3)"
      ],
      "execution_count": null,
      "outputs": []
    },
    {
      "cell_type": "markdown",
      "metadata": {
        "id": "iJWMW43CleUS"
      },
      "source": [
        "### 3.2 シグナル値の読み込み"
      ]
    },
    {
      "cell_type": "markdown",
      "metadata": {
        "id": "ITkaWXuQlflf"
      },
      "source": [
        "　続いて、各サンプルのシグナル強度( `gProcessedSignal` )のデータを取得します。\n",
        "\n",
        "　なお、この時 `gIsWellAboveBG` が `0` のものは「（真の）シグナルがバックグラウンドのシグナルよりも低く、信頼できないデータである」ということを意味するため、取り除きます。"
      ]
    },
    {
      "cell_type": "code",
      "metadata": {
        "id": "NmhPp8j8lX9y"
      },
      "source": [
        "USE_COLS_SYGNAL = [\n",
        "    \"gProcessedSignal\", \"gIsWellAboveBG\"\n",
        "]"
      ],
      "execution_count": null,
      "outputs": []
    },
    {
      "cell_type": "markdown",
      "metadata": {
        "id": "pXjFPW0dlmwW"
      },
      "source": [
        "|column name|description|\n",
        "|:-:|:-|\n",
        "|`gProcessedSignal`|green(Cy-3)のシグナル強度（＝発現量）|\n",
        "|`gIsWellAboveBG`|（真の）シグナルがバックグラウンドのシグナルより十分高いか？（＝信頼できるデータか）|"
      ]
    },
    {
      "cell_type": "code",
      "metadata": {
        "id": "MEt3FS_8lksQ"
      },
      "source": [
        "df_signal = pd.read_csv(filepath_or_buffer=target_filepaths[0], sep=\"\\t\", header=9, usecols=USE_COLS_SYGNAL)\n",
        "df_signal.head(3)"
      ],
      "execution_count": null,
      "outputs": []
    },
    {
      "cell_type": "code",
      "metadata": {
        "id": "Tdj04s1lluSm"
      },
      "source": [
        "df_signal.gIsWellAboveBG==1"
      ],
      "execution_count": null,
      "outputs": []
    },
    {
      "cell_type": "code",
      "metadata": {
        "id": "sWrRrPT9lxSD"
      },
      "source": [
        "# for文で回して0-4全てのデータを読み込みましょう。\n",
        "df_combined = df_anno.copy(deep=True)\n",
        "index = set(df_combined.index)\n",
        "print(f\"データ数(before): {len(df_combined)}\")\n",
        "\n",
        "for fp,cond in zip(target_filepaths, target_conditions):\n",
        "  df_signal = pd.read_csv(fp, sep=\"\\t\", header=9, usecols=USE_COLS_SYGNAL)\n",
        "  index = index & set(df_signal[(df_signal.gIsWellAboveBG==1)].index)\n",
        "  df_combined = pd.concat([df_combined, df_signal[[\"gProcessedSignal\"]].rename(columns={\"gProcessedSignal\" : cond})], axis=1)\n",
        "\n",
        "df_filtered_1 = df_combined.loc[index, :]\n",
        "print(f\"データ数(after) : {len(df_filtered_1)}\")"
      ],
      "execution_count": null,
      "outputs": []
    },
    {
      "cell_type": "markdown",
      "metadata": {
        "id": "K3LnlXwTmOfq"
      },
      "source": [
        "　また、`ControlType` の値が $\\pm1$ のものはコントロールであるため、`0` のもののみ取り出します。"
      ]
    },
    {
      "cell_type": "code",
      "metadata": {
        "id": "vjLglGwYmEY3"
      },
      "source": [
        "print(\"データ数(before):\", len(df_filtered_1))\n",
        "df_filtered_2 = df_filtered_1[df_filtered_1.ControlType == 0]\n",
        "print(\"データ数(after) :\", len(df_filtered_2))"
      ],
      "execution_count": null,
      "outputs": []
    },
    {
      "cell_type": "code",
      "metadata": {
        "id": "eM36dxs5mR71"
      },
      "source": [
        "# インデックスを振り直す。\n",
        "df_filtered = df_filtered_2.reset_index(drop=True)\n",
        "df_filtered.head(5)"
      ],
      "execution_count": null,
      "outputs": []
    },
    {
      "cell_type": "markdown",
      "metadata": {
        "id": "aowIYVM-na_O"
      },
      "source": [
        "### 3.3 アノテーションデータの追加\n",
        "\n",
        "　このままだと `GeneName` がわからないので、その列を追加します。"
      ]
    },
    {
      "cell_type": "code",
      "metadata": {
        "id": "JHEe3PUDnvpd"
      },
      "source": [
        "import os"
      ],
      "execution_count": null,
      "outputs": []
    },
    {
      "cell_type": "code",
      "metadata": {
        "id": "tIsNAe6znqmd"
      },
      "source": [
        "path3"
      ],
      "execution_count": null,
      "outputs": []
    },
    {
      "cell_type": "code",
      "metadata": {
        "id": "XJsDXckhnw1b"
      },
      "source": [
        "os.listdir(path3)"
      ],
      "execution_count": null,
      "outputs": []
    },
    {
      "cell_type": "code",
      "metadata": {
        "id": "lvccOaA2nsVC"
      },
      "source": [
        "df_correspondence = pd.read_csv(os.path.join(path3, \"072363_D_AA_20200924.txt\"), sep=\"\\t\", usecols=[\"ProbeID\", \"GeneSymbol\"])\n",
        "df_correspondence.head(3)"
      ],
      "execution_count": null,
      "outputs": []
    },
    {
      "cell_type": "code",
      "metadata": {
        "id": "OLYpnQcRn3Pj"
      },
      "source": [
        "df_filtered = pd.merge(left=df_filtered, right=df_correspondence, left_on=\"ProbeName\", right_on=\"ProbeID\", how=\"left\")\n",
        "df_filtered.head(3)"
      ],
      "execution_count": null,
      "outputs": []
    },
    {
      "cell_type": "code",
      "metadata": {
        "id": "VvZRaBLQoE5M"
      },
      "source": [
        "df_filtered.info()"
      ],
      "execution_count": null,
      "outputs": []
    },
    {
      "cell_type": "code",
      "metadata": {
        "id": "0cjrA63yoJHQ"
      },
      "source": [
        "# 欠損値の処理をする。\n",
        "df_filtered[\"ProbeID\"]    = df_filtered[\"ProbeID\"].fillna(\"Not Found\")\n",
        "df_filtered[\"GeneSymbol\"] = df_filtered[\"GeneSymbol\"].fillna(\"unknown\")\n",
        "df_filtered.head(3)"
      ],
      "execution_count": null,
      "outputs": []
    },
    {
      "cell_type": "markdown",
      "metadata": {
        "id": "tnYFTVrjmkRN"
      },
      "source": [
        "***\n",
        "```python\n",
        "# データをGoogleDriveに保存したい場合は、以下のコードを走らせてください。\n",
        "from google.colab import drive\n",
        "drive.mount('/content/drive')\n",
        "df_filtered.to_excel(\"microarray_filtered.xlsx\", index=False)\n",
        "```\n",
        "***"
      ]
    },
    {
      "cell_type": "markdown",
      "metadata": {
        "id": "MG6-h1LLmoQI"
      },
      "source": [
        "## 4. データの前処理\n",
        "\n",
        "　無事にデータがダウンロードできたので、実験上のバイアス等を取り除くためにデータの前処理を行います。（ここでは省略します。）"
      ]
    },
    {
      "cell_type": "code",
      "metadata": {
        "id": "dJdzkBjtmoye"
      },
      "source": [
        "df_filtered.columns"
      ],
      "execution_count": null,
      "outputs": []
    },
    {
      "cell_type": "markdown",
      "metadata": {
        "id": "nDxwqJ3Dm5W1"
      },
      "source": [
        "## 5. 可視化\n",
        "\n",
        "　`matplotlib` や `plotly` などを用いて、解析結果を可視化します。"
      ]
    },
    {
      "cell_type": "code",
      "metadata": {
        "id": "n40kWOGDoTN2"
      },
      "source": [
        "X = [1,2,3, 4, 5, 6, 7, 8, 9, 10]\n",
        "Y = [1,4,9,16,25,36,49,64,81,100]"
      ],
      "execution_count": null,
      "outputs": []
    },
    {
      "cell_type": "markdown",
      "metadata": {
        "id": "gXpMyhpYpFj0"
      },
      "source": [
        "### 5.1 `matplotlib`"
      ]
    },
    {
      "cell_type": "code",
      "metadata": {
        "id": "6GbOZ6qgmuwM"
      },
      "source": [
        "import matplotlib.pyplot as plt\n",
        "\n",
        "plt.plot(X,Y)"
      ],
      "execution_count": null,
      "outputs": []
    },
    {
      "cell_type": "code",
      "metadata": {
        "id": "nhm2T919oez6"
      },
      "source": [
        "plt.scatter(X,Y)"
      ],
      "execution_count": null,
      "outputs": []
    },
    {
      "cell_type": "markdown",
      "metadata": {
        "id": "Y-xTA7BzpKhl"
      },
      "source": [
        "\n",
        "### 5.2 `plotly`"
      ]
    },
    {
      "cell_type": "code",
      "metadata": {
        "id": "lXzfyBI5oe32"
      },
      "source": [
        "import plotly.express as px\n",
        "import plotly.graph_objects as go"
      ],
      "execution_count": null,
      "outputs": []
    },
    {
      "cell_type": "code",
      "metadata": {
        "id": "89vRibrkpM00"
      },
      "source": [
        "px.line(x=X,y=Y, width=400, height=300)"
      ],
      "execution_count": null,
      "outputs": []
    },
    {
      "cell_type": "code",
      "metadata": {
        "id": "cRP98vtkpVXr"
      },
      "source": [
        "px.scatter(x=X, y=Y, width=400, height=300)"
      ],
      "execution_count": null,
      "outputs": []
    },
    {
      "cell_type": "markdown",
      "metadata": {
        "id": "ezBssFSqogl0"
      },
      "source": [
        "## 6. 解析\n",
        "\n",
        "　ここでは、XYプロットとMAプロットを図示し、シグナル強度の分布を調べます。"
      ]
    },
    {
      "cell_type": "code",
      "metadata": {
        "id": "7QQLSfb3pz5y"
      },
      "source": [
        "df_filtered[\"siVIM-270(2'OMe2-5)\"]"
      ],
      "execution_count": null,
      "outputs": []
    },
    {
      "cell_type": "markdown",
      "metadata": {
        "id": "qLPnU5tepmGv"
      },
      "source": [
        "### 6.1 X-Y プロット\n",
        "\n",
        "- サンプル $X$ の `gProcessedSignal` （$\\log_2(\\text{gProcessedSignal})$） の値を横軸\n",
        "- サンプル $Y$ の `gProcessedSignal` （$\\log_2(\\text{gProcessedSignal})$） の値を縦軸\n",
        "\n",
        "にプロットしたものを **X-Yプロット** と呼びます。"
      ]
    },
    {
      "cell_type": "code",
      "metadata": {
        "id": "xXShdDo6ps_G"
      },
      "source": [
        "np.log2([2,4,8,16])"
      ],
      "execution_count": null,
      "outputs": []
    },
    {
      "cell_type": "markdown",
      "metadata": {
        "id": "fwsTQ5zPpqOx"
      },
      "source": [
        "### 6.2 MAプロット\n",
        "\n",
        "- $log_2(Y/X)$ を縦軸 (Minus)\n",
        "- $log_{10}(XY)$ を横軸 (Average)\n",
        "\n",
        "にプロットしたものを **M-Aプロット** と呼びます。"
      ]
    },
    {
      "cell_type": "code",
      "metadata": {
        "id": "Dxy91_GnpoL_"
      },
      "source": [
        "np.log10([10,100,1000])"
      ],
      "execution_count": null,
      "outputs": []
    },
    {
      "cell_type": "code",
      "metadata": {
        "id": "HXmugpqyqKk-"
      },
      "source": [
        ""
      ],
      "execution_count": null,
      "outputs": []
    },
    {
      "cell_type": "markdown",
      "metadata": {
        "id": "b4duv4S9qLvA"
      },
      "source": [
        "## 7. 発展\n",
        "\n",
        "　より良いデータ解析のためには、以下のことが欠かせません。\n",
        "\n",
        "- プローブのSummarization\n",
        "- サンプル間のNormalization\n",
        "- サンプルのSummarization"
      ]
    },
    {
      "cell_type": "markdown",
      "metadata": {
        "id": "4hlR-VJlqvs7"
      },
      "source": [
        "## 7. 特定の塩基配列を持つ遺伝子の発現量の変化を調べる\n",
        "\n",
        "　入力した配列を3'UTRにもつ遺伝子（アクセッション番号）のリストを表示するページ（[seedmatch](http://atlas.RNAi.jp/seedmatch/)）を用いて、特定の配列を3'UTRに持つ遺伝子群を見てみましょう。"
      ]
    },
    {
      "cell_type": "markdown",
      "metadata": {
        "id": "U7czk6Apr7LN"
      },
      "source": [
        "### 7.1 シード領域と相補的な配列を持つ遺伝子について調べる\n",
        "\n",
        "siRNAのガイド鎖の5'末端から2-8塩基目の7塩基（シード領域と呼ばれます。今回は `UGAACUC`）と相補的な配列（`GAGTTCA`）を3'UTRにもつmRNAsを検索してみましょう。"
      ]
    },
    {
      "cell_type": "code",
      "metadata": {
        "id": "7Ba7AQzQrSdw"
      },
      "source": [
        "df_matched_mRNAs = pd.read_csv(\"seedmatch.txt\", sep=\"\\t\")\n",
        "df_matched_mRNAs.columns = [\"SystematicName\", \"NumHits\"]"
      ],
      "execution_count": null,
      "outputs": []
    },
    {
      "cell_type": "code",
      "metadata": {
        "id": "51iiHc_krbFa"
      },
      "source": [
        "# seedmatchで検索したデータと紐付ける。\n",
        "df_is_matched = pd.merge(df_filtered, df_matched_mRNAs, on=\"SystematicName\", how=\"left\").fillna(0)\n",
        "df_is_matched.head(3)"
      ],
      "execution_count": null,
      "outputs": []
    },
    {
      "cell_type": "code",
      "metadata": {
        "id": "mxmIESlkrcOH"
      },
      "source": [
        "# 累積度数曲線を描くために、ソートする。\n",
        "df_is_matched[\"log2(RNA/mock)\"] = np.log2(df_is_matched[\"siVIM-270\"]/df_is_matched[\"mock\"])\n",
        "df_is_matched = df_is_matched.sort_values(by=\"log2(RNA/mock)\").reset_index(drop=False)\n",
        "df_is_matched.head(3)"
      ],
      "execution_count": null,
      "outputs": []
    },
    {
      "cell_type": "code",
      "metadata": {
        "id": "PoGw-Iolridk"
      },
      "source": [
        ""
      ],
      "execution_count": null,
      "outputs": []
    },
    {
      "cell_type": "markdown",
      "metadata": {
        "id": "6LWjMQIosHT4"
      },
      "source": [
        "### 7.2 さらに遊んでみる。\n",
        "\n"
      ]
    },
    {
      "cell_type": "markdown",
      "metadata": {
        "id": "Qioz90FfsL3a"
      },
      "source": [
        "　ここから先は、みなさんが興味を持った点について、思う存分データで遊んでいただく時間です。\n",
        "\n",
        "- マッチするシードの数（`NumHits`）って、多い方が抑制されてる？？\n",
        "- そもそもなんで2-8の7merでオフターゲット効果が起きるの？？\n",
        "  - 1-7や3-9は？？\n",
        "  - 6merや9merは？？\n",
        "  - Argonauteタンパク質と結合（loading）し、RISC(RNA induced silencing complex)を形成するが、構造的に…\n",
        "- 統計的に有意だと言える？？\n",
        "\n",
        "面白そうなことについては、積極的に調べて見てください！！\n",
        "\n",
        "※ 以下に、使えそうなツールを用意しておきました。ぜひ解析に役立ててください！！"
      ]
    },
    {
      "cell_type": "code",
      "metadata": {
        "id": "uBtTiEVXsMQJ"
      },
      "source": [
        "from teilab.seedmatch import get_matched_mRNAs"
      ],
      "execution_count": null,
      "outputs": []
    },
    {
      "cell_type": "code",
      "metadata": {
        "id": "bmM9GTwusPhS"
      },
      "source": [
        "df_matched_mRNAs = get_matched_mRNAs(\"GAGTTCA\")\n",
        "df_matched_mRNAs.head(5)"
      ],
      "execution_count": null,
      "outputs": []
    },
    {
      "cell_type": "code",
      "metadata": {
        "id": "jFdEpmQ4sSYR"
      },
      "source": [
        ""
      ],
      "execution_count": null,
      "outputs": []
    }
  ]
}