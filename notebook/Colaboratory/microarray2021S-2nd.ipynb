{
  "nbformat": 4,
  "nbformat_minor": 0,
  "metadata": {
    "colab": {
      "name": "microarray2021S-2nd.ipynb",
      "provenance": [],
      "collapsed_sections": [],
      "authorship_tag": "ABX9TyPwfBsbBHz+9wbo4u4xTbJ8",
      "include_colab_link": true
    },
    "kernelspec": {
      "name": "python3",
      "display_name": "Python 3"
    },
    "language_info": {
      "name": "python"
    }
  },
  "cells": [
    {
      "cell_type": "markdown",
      "metadata": {
        "id": "view-in-github",
        "colab_type": "text"
      },
      "source": [
        "<a href=\"https://colab.research.google.com/github/iwasakishuto/TeiLab-BasicLaboratoryWork-in-LifeScienceExperiments/blob/develop/notebook/Colaboratory/microarray2021S-2nd.ipynb\" target=\"_parent\"><img src=\"https://colab.research.google.com/assets/colab-badge.svg\" alt=\"Open In Colab\"/></a>"
      ]
    },
    {
      "cell_type": "markdown",
      "metadata": {
        "id": "oWI1uX_28_4J"
      },
      "source": [
        "# マイクロアレイ解析 \\~2021 Spring Semester\\~\n",
        "\n",
        "- [程研HP](http://ui-tei.rnai.jp/)\n",
        "- [実習wiki](http://ui-tei.rnai.jp/microarray/doku.php?id=2021)\n",
        "- [`teilab` Package (Github)](https://github.com/iwasakishuto/TeiLab-BasicLaboratoryWork-in-LifeScienceExperiments)\n",
        "- [`teilab` Documentation](https://iwasakishuto.github.io/TeiLab-BasicLaboratoryWork-in-LifeScienceExperiments/index.html)\n",
        "\n",
        "　今回の実習では、網羅的に遺伝子の発現を解析する手法である**マイクロアレイ**について、\n",
        "\n",
        "- **wet(実験)**：siRNAを導入した細胞からRNAを抽出し、マイクロアレイ実験を行う。マイクロアレイの原理や操作手順を理解する。\n",
        "- **dyr(解析)**：全mRNAの変動量を、マイクロアレイデータの特徴を踏まえて解析する。マイクロアレイデータの解析手法を理解する。\n",
        "\n",
        "の両側面から学んでいただきますが、このNotebookでは、そのうち **dry(解析)** パートに関して、プログラミング言語 [Python](https://www.python.org/) を使って実際の解析の流れを、手を動かしながら学んでいただくことになります。"
      ]
    },
    {
      "cell_type": "markdown",
      "metadata": {
        "id": "2DvK4mUIdpK9"
      },
      "source": [
        "***\n",
        "***"
      ]
    },
    {
      "cell_type": "markdown",
      "metadata": {
        "id": "obLHBlmJ-VOY"
      },
      "source": [
        "#### 一言\n",
        "\n",
        "　今回dryパートの実習を担当させていただく、程研M1の岩崎（生情11期）です。よろしくお願いします。\n",
        "\n",
        "　この実習が終わった時には、**全員が「マイクロアレイ解析結構Pythonでできるし、あんなことやこんなことも自分でプログラムを書いて調べてみたい！！」** と思っていただけることを目指して頑張りますので、わからないことがあればなんでも遠慮なく質問してください！！\n",
        "\n",
        "　また、**「解析手法に絶対はない」** ので、是非積極的に色々な解析を試みて、面白い結果を出してきてください！！！（ぜひ一緒に議論しましょう！）"
      ]
    },
    {
      "cell_type": "markdown",
      "metadata": {
        "id": "ZlpTJECN_wwd"
      },
      "source": [
        "***\n",
        "***"
      ]
    },
    {
      "cell_type": "markdown",
      "metadata": {
        "id": "GNimcRoz_z5T"
      },
      "source": [
        "## 0. 環境構築\n",
        "\n",
        "　それでは解析を始めていきましょう！！解析に必要なデータや、各種ツールを揃えていきます。といっても、必要なプログラムはまとめて[パッケージ化しておいた](https://github.com/iwasakishuto/TeiLab-BasicLaboratoryWork-in-LifeScienceExperiments)ので、以下のコードを実行するだけで全て揃います。"
      ]
    },
    {
      "cell_type": "markdown",
      "metadata": {
        "id": "oFyY1GpDd-H1"
      },
      "source": [
        "### 0.1 必要なツールの準備"
      ]
    },
    {
      "cell_type": "code",
      "metadata": {
        "id": "MRPXtd-G7_I7",
        "colab": {
          "base_uri": "https://localhost:8080/",
          "height": 1000
        },
        "outputId": "cfb0b026-c4c9-459f-d30b-3ba9f7d723f6"
      },
      "source": [
        "! pip install \"git+https://github.com/iwasakishuto/TeiLab-BasicLaboratoryWork-in-LifeScienceExperiments.git\" --ignore-requires-python"
      ],
      "execution_count": null,
      "outputs": [
        {
          "output_type": "stream",
          "text": [
            "Collecting git+https://github.com/iwasakishuto/TeiLab-BasicLaboratoryWork-in-LifeScienceExperiments.git\n",
            "  Cloning https://github.com/iwasakishuto/TeiLab-BasicLaboratoryWork-in-LifeScienceExperiments.git to /tmp/pip-req-build-11ugvk63\n",
            "  Running command git clone -q https://github.com/iwasakishuto/TeiLab-BasicLaboratoryWork-in-LifeScienceExperiments.git /tmp/pip-req-build-11ugvk63\n",
            "  Installing build dependencies ... \u001b[?25l\u001b[?25hdone\n",
            "  Getting requirements to build wheel ... \u001b[?25l\u001b[?25hdone\n",
            "    Preparing wheel metadata ... \u001b[?25l\u001b[?25hdone\n",
            "Requirement already satisfied: scipy==1.4.1 in /usr/local/lib/python3.7/dist-packages (from teilab==0.1.0) (1.4.1)\n",
            "Collecting requests<3.0.0,>=2.25.1\n",
            "\u001b[?25l  Downloading https://files.pythonhosted.org/packages/29/c1/24814557f1d22c56d50280771a17307e6bf87b70727d975fd6b2ce6b014a/requests-2.25.1-py2.py3-none-any.whl (61kB)\n",
            "\u001b[K     |████████████████████████████████| 61kB 1.5MB/s \n",
            "\u001b[?25hCollecting pandas<2.0.0,>=1.2.4\n",
            "\u001b[?25l  Downloading https://files.pythonhosted.org/packages/51/51/48f3fc47c4e2144da2806dfb6629c4dd1fa3d5a143f9652b141e979a8ca9/pandas-1.2.4-cp37-cp37m-manylinux1_x86_64.whl (9.9MB)\n",
            "\u001b[K     |████████████████████████████████| 9.9MB 7.2MB/s \n",
            "\u001b[?25hCollecting plotly<5.0.0,>=4.14.3\n",
            "\u001b[?25l  Downloading https://files.pythonhosted.org/packages/1f/f6/bd3c17c8003b6641df1228e80e1acac97ed8402635e46c2571f8e1ef63af/plotly-4.14.3-py2.py3-none-any.whl (13.2MB)\n",
            "\u001b[K     |████████████████████████████████| 13.2MB 44.0MB/s \n",
            "\u001b[?25hCollecting numpy<2.0.0,>=1.20.3\n",
            "\u001b[?25l  Downloading https://files.pythonhosted.org/packages/a5/42/560d269f604d3e186a57c21a363e77e199358d054884e61b73e405dd217c/numpy-1.20.3-cp37-cp37m-manylinux_2_12_x86_64.manylinux2010_x86_64.whl (15.3MB)\n",
            "\u001b[K     |████████████████████████████████| 15.3MB 229kB/s \n",
            "\u001b[?25hCollecting nptyping<2.0.0,>=1.4.2\n",
            "  Downloading https://files.pythonhosted.org/packages/8e/d5/3331d6fe411c0287ef4b028ded3355c4fc10956f4c0fbe5a4415fdd33dc8/nptyping-1.4.2-py3-none-any.whl\n",
            "Collecting matplotlib<4.0.0,>=3.4.2\n",
            "\u001b[?25l  Downloading https://files.pythonhosted.org/packages/24/33/5568d443ba438d95d4db635dd69958056f087e57e1026bee56f959d53f9d/matplotlib-3.4.2-cp37-cp37m-manylinux1_x86_64.whl (10.3MB)\n",
            "\u001b[K     |████████████████████████████████| 10.3MB 33.9MB/s \n",
            "\u001b[?25hRequirement already satisfied: nbformat<6.0.0,>=5.1.3 in /usr/local/lib/python3.7/dist-packages (from teilab==0.1.0) (5.1.3)\n",
            "Requirement already satisfied: tabulate<0.9.0,>=0.8.9 in /usr/local/lib/python3.7/dist-packages (from teilab==0.1.0) (0.8.9)\n",
            "Collecting tqdm<5.0.0,>=4.61.0\n",
            "\u001b[?25l  Downloading https://files.pythonhosted.org/packages/b4/20/9f1e974bb4761128fc0d0a32813eaa92827309b1756c4b892d28adfb4415/tqdm-4.61.1-py2.py3-none-any.whl (75kB)\n",
            "\u001b[K     |████████████████████████████████| 81kB 8.5MB/s \n",
            "\u001b[?25hRequirement already satisfied: chardet<5,>=3.0.2 in /usr/local/lib/python3.7/dist-packages (from requests<3.0.0,>=2.25.1->teilab==0.1.0) (3.0.4)\n",
            "Requirement already satisfied: certifi>=2017.4.17 in /usr/local/lib/python3.7/dist-packages (from requests<3.0.0,>=2.25.1->teilab==0.1.0) (2021.5.30)\n",
            "Requirement already satisfied: urllib3<1.27,>=1.21.1 in /usr/local/lib/python3.7/dist-packages (from requests<3.0.0,>=2.25.1->teilab==0.1.0) (1.24.3)\n",
            "Requirement already satisfied: idna<3,>=2.5 in /usr/local/lib/python3.7/dist-packages (from requests<3.0.0,>=2.25.1->teilab==0.1.0) (2.10)\n",
            "Requirement already satisfied: python-dateutil>=2.7.3 in /usr/local/lib/python3.7/dist-packages (from pandas<2.0.0,>=1.2.4->teilab==0.1.0) (2.8.1)\n",
            "Requirement already satisfied: pytz>=2017.3 in /usr/local/lib/python3.7/dist-packages (from pandas<2.0.0,>=1.2.4->teilab==0.1.0) (2018.9)\n",
            "Requirement already satisfied: six in /usr/local/lib/python3.7/dist-packages (from plotly<5.0.0,>=4.14.3->teilab==0.1.0) (1.15.0)\n",
            "Requirement already satisfied: retrying>=1.3.3 in /usr/local/lib/python3.7/dist-packages (from plotly<5.0.0,>=4.14.3->teilab==0.1.0) (1.3.3)\n",
            "Collecting typish>=1.7.0\n",
            "\u001b[?25l  Downloading https://files.pythonhosted.org/packages/24/a7/83e450157d1613be0725821f8bd8aadab22217fa5dac4795dcfb9408be95/typish-1.9.2-py3-none-any.whl (45kB)\n",
            "\u001b[K     |████████████████████████████████| 51kB 6.2MB/s \n",
            "\u001b[?25hRequirement already satisfied: cycler>=0.10 in /usr/local/lib/python3.7/dist-packages (from matplotlib<4.0.0,>=3.4.2->teilab==0.1.0) (0.10.0)\n",
            "Requirement already satisfied: pyparsing>=2.2.1 in /usr/local/lib/python3.7/dist-packages (from matplotlib<4.0.0,>=3.4.2->teilab==0.1.0) (2.4.7)\n",
            "Requirement already satisfied: kiwisolver>=1.0.1 in /usr/local/lib/python3.7/dist-packages (from matplotlib<4.0.0,>=3.4.2->teilab==0.1.0) (1.3.1)\n",
            "Requirement already satisfied: pillow>=6.2.0 in /usr/local/lib/python3.7/dist-packages (from matplotlib<4.0.0,>=3.4.2->teilab==0.1.0) (7.1.2)\n",
            "Requirement already satisfied: jupyter-core in /usr/local/lib/python3.7/dist-packages (from nbformat<6.0.0,>=5.1.3->teilab==0.1.0) (4.7.1)\n",
            "Requirement already satisfied: jsonschema!=2.5.0,>=2.4 in /usr/local/lib/python3.7/dist-packages (from nbformat<6.0.0,>=5.1.3->teilab==0.1.0) (2.6.0)\n",
            "Requirement already satisfied: ipython-genutils in /usr/local/lib/python3.7/dist-packages (from nbformat<6.0.0,>=5.1.3->teilab==0.1.0) (0.2.0)\n",
            "Requirement already satisfied: traitlets>=4.1 in /usr/local/lib/python3.7/dist-packages (from nbformat<6.0.0,>=5.1.3->teilab==0.1.0) (5.0.5)\n",
            "Building wheels for collected packages: teilab\n",
            "  Building wheel for teilab (PEP 517) ... \u001b[?25l\u001b[?25hdone\n",
            "  Created wheel for teilab: filename=teilab-0.1.0-cp37-none-any.whl size=50333 sha256=64072d728896d370a2c118dcb2a264b958d2f10e82d3114e51dd36ab4d6b9d5f\n",
            "  Stored in directory: /tmp/pip-ephem-wheel-cache-pkhrdvzi/wheels/8c/46/97/484ad11e1d35598ccc5de86ed6c230d7930b55da132d9abb9f\n",
            "Successfully built teilab\n",
            "\u001b[31mERROR: tensorflow 2.5.0 has requirement numpy~=1.19.2, but you'll have numpy 1.20.3 which is incompatible.\u001b[0m\n",
            "\u001b[31mERROR: google-colab 1.0.0 has requirement pandas~=1.1.0; python_version >= \"3.0\", but you'll have pandas 1.2.4 which is incompatible.\u001b[0m\n",
            "\u001b[31mERROR: google-colab 1.0.0 has requirement requests~=2.23.0, but you'll have requests 2.25.1 which is incompatible.\u001b[0m\n",
            "\u001b[31mERROR: datascience 0.10.6 has requirement folium==0.2.1, but you'll have folium 0.8.3 which is incompatible.\u001b[0m\n",
            "\u001b[31mERROR: albumentations 0.1.12 has requirement imgaug<0.2.7,>=0.2.5, but you'll have imgaug 0.2.9 which is incompatible.\u001b[0m\n",
            "Installing collected packages: requests, numpy, pandas, plotly, typish, nptyping, matplotlib, tqdm, teilab\n",
            "  Found existing installation: requests 2.23.0\n",
            "    Uninstalling requests-2.23.0:\n",
            "      Successfully uninstalled requests-2.23.0\n",
            "  Found existing installation: numpy 1.19.5\n",
            "    Uninstalling numpy-1.19.5:\n",
            "      Successfully uninstalled numpy-1.19.5\n",
            "  Found existing installation: pandas 1.1.5\n",
            "    Uninstalling pandas-1.1.5:\n",
            "      Successfully uninstalled pandas-1.1.5\n",
            "  Found existing installation: plotly 4.4.1\n",
            "    Uninstalling plotly-4.4.1:\n",
            "      Successfully uninstalled plotly-4.4.1\n",
            "  Found existing installation: matplotlib 3.2.2\n",
            "    Uninstalling matplotlib-3.2.2:\n",
            "      Successfully uninstalled matplotlib-3.2.2\n",
            "  Found existing installation: tqdm 4.41.1\n",
            "    Uninstalling tqdm-4.41.1:\n",
            "      Successfully uninstalled tqdm-4.41.1\n",
            "Successfully installed matplotlib-3.4.2 nptyping-1.4.2 numpy-1.20.3 pandas-1.2.4 plotly-4.14.3 requests-2.25.1 teilab-0.1.0 tqdm-4.61.1 typish-1.9.2\n"
          ],
          "name": "stdout"
        },
        {
          "output_type": "display_data",
          "data": {
            "application/vnd.colab-display-data+json": {
              "pip_warning": {
                "packages": [
                  "matplotlib",
                  "mpl_toolkits",
                  "numpy",
                  "pandas"
                ]
              }
            }
          },
          "metadata": {
            "tags": []
          }
        }
      ]
    },
    {
      "cell_type": "markdown",
      "metadata": {
        "id": "kiN-_LowAgiZ"
      },
      "source": [
        "ここで\n",
        "\n",
        "```\n",
        "ERROR: XXX has requirement YYY==<version> but you'll have YYY <version> which is incompatible.\n",
        "WARNING: The following packages were previously imported in this runtime\n",
        "```\n",
        "\n",
        "のようなエラーが出る分には（確認する限り、今回の実習では）問題ありません。"
      ]
    },
    {
      "cell_type": "markdown",
      "metadata": {
        "id": "QuX_nwH1VNS2"
      },
      "source": [
        "　ただ、以下のようなメッセージが出ると思うので、言われた通りにruntimeをrestartしましょう。\n",
        "\n",
        "```\n",
        "WARNING: The following packages were previously imported in this runtime:\n",
        "  [matplotlib,mpl_toolkits,numpy,pandas]\n",
        "You must restart the runtime in order to use newly installed versions.\n",
        "```"
      ]
    },
    {
      "cell_type": "code",
      "metadata": {
        "id": "kDHnry508BkU",
        "colab": {
          "base_uri": "https://localhost:8080/"
        },
        "outputId": "0ead041c-02b0-44c5-f7b7-b249e4922bcb"
      },
      "source": [
        "# 以下のコマンドでエラーが出なければ、準備はOKです！\n",
        "from teilab.question import ask\n",
        "ret = ask(\n",
        "    text=\"好きな言葉を入力してください。\", \n",
        "    username=\"あなたの名前\", \n",
        "    icon_emoji=\":grinning:\", \n",
        "    icon_url=None, \n",
        "    webhook_url=None,\n",
        ")\n",
        "ret.ok"
      ],
      "execution_count": null,
      "outputs": [
        {
          "output_type": "execute_result",
          "data": {
            "text/plain": [
              "True"
            ]
          },
          "metadata": {
            "tags": []
          },
          "execution_count": 1
        }
      ]
    },
    {
      "cell_type": "markdown",
      "metadata": {
        "id": "FTe1tV9pBZkW"
      },
      "source": [
        "　以上で必要なツールは揃いました！！それでは以下で必要なデータのダウンロードを行いましょう！！"
      ]
    },
    {
      "cell_type": "markdown",
      "metadata": {
        "id": "XQLCM9zeBrxm"
      },
      "source": [
        "### 0.1 必要なデータの準備\n",
        "\n",
        "　続いて、データの準備に取り掛かります。先ほどインストールしたパッケージを用いてデータのダウンロードを行います。"
      ]
    },
    {
      "cell_type": "code",
      "metadata": {
        "id": "xxZ0Cd2fBuvH",
        "colab": {
          "base_uri": "https://localhost:8080/"
        },
        "outputId": "ba43f18e-b495-42b5-bdae-a1a5d20223a4"
      },
      "source": [
        "# データのダウンロードを取り扱うクラスを定義したので、これを用いて煩わしい作業を省きます。（非本質なので）\n",
        "from teilab.datasets import TeiLabDataSets\n",
        "dataset = TeiLabDataSets()"
      ],
      "execution_count": null,
      "outputs": [
        {
          "output_type": "stream",
          "text": [
            "There are not enough datasets. Use ``.get_data`` to prepare all the required datasets.\n"
          ],
          "name": "stdout"
        }
      ]
    },
    {
      "cell_type": "code",
      "metadata": {
        "id": "HW3F-M93BwdB"
      },
      "source": [
        "password1 = \"microarray2020A\"\n",
        "password2 = \"microarray2021S\"\n",
        "password3 = \"microarray2021S-sup\""
      ],
      "execution_count": null,
      "outputs": []
    },
    {
      "cell_type": "code",
      "metadata": {
        "id": "05F1pUq2CfGQ",
        "colab": {
          "base_uri": "https://localhost:8080/"
        },
        "outputId": "73b5c40f-f6a1-4559-c879-dbf1984fbf4e"
      },
      "source": [
        "path1 = dataset.get_data(password=password1)\n",
        "path2 = dataset.get_data(password=password2)\n",
        "path3 = dataset.get_data(password=password3)"
      ],
      "execution_count": null,
      "outputs": [
        {
          "output_type": "stream",
          "text": [
            "Try to get data from https://drive.google.com/u/0/uc?export=download&confirm=bPRo&id=1xUCG7WZWHFmWFRy0OjgJr_-GKCSJrv2C\n",
            "This is published data :)\n",
            "[Download] URL: https://drive.google.com/u/0/uc?export=download&confirm=bPRo&id=1xUCG7WZWHFmWFRy0OjgJr_-GKCSJrv2C\n",
            "* Content-Encoding : gzip\n",
            "* Content-Length   : 0.0 [B]\n",
            "* Content-Type     : text/html\n",
            "* Save Destination : /usr/local/lib/python3.7/dist-packages/teilab/data/microarray2020A.gz\n"
          ],
          "name": "stdout"
        },
        {
          "output_type": "stream",
          "text": [
            "3261it [00:11, 294.74it/s, Downloaded=101.9 [MB]]\n"
          ],
          "name": "stderr"
        },
        {
          "output_type": "stream",
          "text": [
            "[Unzip] Show file contents:\n",
            "\t* 実習解析用データ/\n",
            "\t* 実習解析用データ/US91503671_253949442637_S01_GE1_105_Dec08_2_1.pdf\n",
            "\t* __MACOSX/\n",
            "\t* __MACOSX/実習解析用データ/\n",
            "\t* __MACOSX/実習解析用データ/._US91503671_253949442637_S01_GE1_105_Dec08_2_1.pdf\n",
            "\t* 実習解析用データ/US91503671_253949442637_S01_GE1_105_Dec08_1_3.txt\n",
            "\t* __MACOSX/実習解析用データ/._US91503671_253949442637_S01_GE1_105_Dec08_1_3.txt\n",
            "\t* 実習解析用データ/US91503671_253949442637_S01_GE1_105_Dec08_1_2.txt\n",
            "\t* __MACOSX/実習解析用データ/._US91503671_253949442637_S01_GE1_105_Dec08_1_2.txt\n",
            "\t* 実習解析用データ/US91503671_253949442637_S01_GE1_105_Dec08_2_2.pdf\n",
            "\t* __MACOSX/実習解析用データ/._US91503671_253949442637_S01_GE1_105_Dec08_2_2.pdf\n",
            "\t* 実習解析用データ/US91503671_253949442637_S01_GE1_105_Dec08_1_1.txt\n",
            "\t* __MACOSX/実習解析用データ/._US91503671_253949442637_S01_GE1_105_Dec08_1_1.txt\n",
            "\t* 実習解析用データ/US91503671_253949442637_S01_GE1_105_Dec08_2_3.pdf\n",
            "\t* __MACOSX/実習解析用データ/._US91503671_253949442637_S01_GE1_105_Dec08_2_3.pdf\n",
            "\t* 実習解析用データ/US91503671_253949442637_S01_GE1_105_Dec08_1_4.txt\n",
            "\t* __MACOSX/実習解析用データ/._US91503671_253949442637_S01_GE1_105_Dec08_1_4.txt\n",
            "\t* 実習解析用データ/US91503671_253949442637_S01_GE1_105_Dec08_2_4.pdf\n",
            "\t* __MACOSX/実習解析用データ/._US91503671_253949442637_S01_GE1_105_Dec08_2_4.pdf\n",
            "\t* 実習解析用データ/US91503671_253949442637_S01_GE1_105_Dec08_2_2.txt\n",
            "\t* __MACOSX/実習解析用データ/._US91503671_253949442637_S01_GE1_105_Dec08_2_2.txt\n",
            "\t* 実習解析用データ/US91503671_253949442637_S01_GE1_105_Dec08_1_1.pdf\n",
            "\t* __MACOSX/実習解析用データ/._US91503671_253949442637_S01_GE1_105_Dec08_1_1.pdf\n",
            "\t* 実習解析用データ/US91503671_253949442637_S01_GE1_105_Dec08_2_3.txt\n",
            "\t* __MACOSX/実習解析用データ/._US91503671_253949442637_S01_GE1_105_Dec08_2_3.txt\n",
            "\t* 実習解析用データ/US91503671_253949442637_S01_GE1_105_Dec08_2_1.txt\n",
            "\t* __MACOSX/実習解析用データ/._US91503671_253949442637_S01_GE1_105_Dec08_2_1.txt\n",
            "\t* 実習解析用データ/US91503671_253949442637_S01_GE1_105_Dec08_1_3.pdf\n",
            "\t* __MACOSX/実習解析用データ/._US91503671_253949442637_S01_GE1_105_Dec08_1_3.pdf\n",
            "\t* 実習解析用データ/US91503671_253949442637_S01_GE1_105_Dec08_1_2.pdf\n",
            "\t* __MACOSX/実習解析用データ/._US91503671_253949442637_S01_GE1_105_Dec08_1_2.pdf\n",
            "\t* 実習解析用データ/US91503671_253949442637_S01_GE1_105_Dec08_2_4.txt\n",
            "\t* __MACOSX/実習解析用データ/._US91503671_253949442637_S01_GE1_105_Dec08_2_4.txt\n",
            "\t* 実習解析用データ/US91503671_253949442637_S01_GE1_105_Dec08_1_4.pdf\n",
            "\t* __MACOSX/実習解析用データ/._US91503671_253949442637_S01_GE1_105_Dec08_1_4.pdf\n",
            "\t* __MACOSX/._実習解析用データ\n",
            "Saved data at /usr/local/lib/python3.7/dist-packages/teilab/data/microarray2020A\n",
            "Try to get data from https://www.dropbox.com/sh/2wqm65iwi8y806g/AABJM4uXjWVW6mrKp5ByBqJOa?dl=1\n",
            "This is our unpublished data, so please treat it confidential.\n",
            "[Download] URL: https://www.dropbox.com/sh/2wqm65iwi8y806g/AABJM4uXjWVW6mrKp5ByBqJOa?dl=1\n",
            "* Content-Encoding : None\n",
            "* Content-Length   : 45.9 [MB]\n",
            "* Content-Type     : application/zip\n",
            "* Save Destination : /usr/local/lib/python3.7/dist-packages/teilab/data/microarray2021S.zip\n",
            "===== Progress =====\n",
            "microarray2021S.zip\t100.0%[####################] 2.5[s] 18.3[MB/s] eta -0.0[s]\n",
            "[Unzip] Show file contents:\n",
            "\t* /\n",
            "\t* sample_list.txt\n",
            "\t* SG19378659_257236339458_S001_GE1_1200_Jun14_1_2.txt\n",
            "\t* SG19378659_257236339458_S001_GE1_1200_Jun14_1_1.txt\n",
            "\t* SG19378659_257236339458_S001_GE1_1200_Jun14_1_4.txt\n",
            "\t* SG19378659_257236339458_S001_GE1_1200_Jun14_1_3.txt\n",
            "\t* SG19378659_257236339458_S001_GE1_1200_Jun14_2_1.txt\n",
            "Saved data at /usr/local/lib/python3.7/dist-packages/teilab/data/microarray2021S\n",
            "Could not get the valid URL.\n",
            "Invalid Password\n"
          ],
          "name": "stdout"
        }
      ]
    },
    {
      "cell_type": "code",
      "metadata": {
        "colab": {
          "base_uri": "https://localhost:8080/"
        },
        "id": "S1yDSVy87yMk",
        "outputId": "5eb46712-d7c6-4a6b-f04d-c0d9d9a9b63c"
      },
      "source": [
        "path3 = dataset.get_data(password=password3)"
      ],
      "execution_count": null,
      "outputs": [
        {
          "output_type": "stream",
          "text": [
            "Try to get data from https://www.dropbox.com/sh/swzqvs3ly1b64k7/AADBQIlj9hidiDmW0YDYYjVVa?dl=1\n",
            "The correspondence between \"ProbeName\" and \"GeneName\" is described in \"072363_D_AA_20200924.txt\"\n",
            "[Download] URL: https://www.dropbox.com/sh/swzqvs3ly1b64k7/AADBQIlj9hidiDmW0YDYYjVVa?dl=1\n",
            "* Content-Encoding : None\n",
            "* Content-Length   : 28.7 [MB]\n",
            "* Content-Type     : application/zip\n",
            "* Save Destination : /usr/local/lib/python3.7/dist-packages/teilab/data/microarray2021S-sup.zip\n",
            "===== Progress =====\n",
            "microarray2021S-sup.zip\t100.0%[####################] 1.6[s] 17.8[MB/s] eta -0.0[s]\n",
            "[Unzip] Show file contents:\n",
            "\t* /\n",
            "\t* sample_list.txt\n",
            "\t* sample_list_LNA.txt\n",
            "\t* 072363_D_AA_20200924.txt\n",
            "\t* SG19378659_257236339458_S001_GE1_1200_Jun14_1_2.pdf\n",
            "\t* SG19378659_257236339458_S001_GE1_1200_Jun14_1_1.pdf\n",
            "\t* SG19378659_257236339458_S001_GE1_1200_Jun14_1_4.pdf\n",
            "\t* SG19378659_257236339458_S001_GE1_1200_Jun14_1_3.pdf\n",
            "\t* SG19378659_257236339458_S001_GE1_1200_Jun14_2_1.pdf\n",
            "Saved data at /usr/local/lib/python3.7/dist-packages/teilab/data/microarray2021S-sup\n"
          ],
          "name": "stdout"
        }
      ]
    },
    {
      "cell_type": "code",
      "metadata": {
        "id": "UJwObEElCimR",
        "colab": {
          "base_uri": "https://localhost:8080/"
        },
        "outputId": "db1f5216-dfb3-47f0-8239-c54b4e22b4aa"
      },
      "source": [
        "print(path1)\n",
        "print(path2)\n",
        "print(path3)"
      ],
      "execution_count": null,
      "outputs": [
        {
          "output_type": "stream",
          "text": [
            "/usr/local/lib/python3.7/dist-packages/teilab/data/microarray2020A\n",
            "/usr/local/lib/python3.7/dist-packages/teilab/data/microarray2021S\n",
            "/usr/local/lib/python3.7/dist-packages/teilab/data/microarray2021S-sup\n"
          ],
          "name": "stdout"
        }
      ]
    },
    {
      "cell_type": "markdown",
      "metadata": {
        "id": "EsHdSAs2eKCq"
      },
      "source": [
        "## 1. Pythonについて(Playground)\n",
        "\n",
        "　Pythonを使うのが初めて、と言う方もいらっしゃると思うので、ここで簡単に説明します。\n",
        "\n",
        "なお、[東大の数理・情報教育研究センターが提供している入門講座](https://utokyo-ipp.github.io/)が非常に質が良いと評判なので、詳しくはそちらを参照してください。"
      ]
    },
    {
      "cell_type": "code",
      "metadata": {
        "id": "OWdBxSh8hzz6"
      },
      "source": [
        "import numpy as np\n",
        "import pandas as pd"
      ],
      "execution_count": null,
      "outputs": []
    },
    {
      "cell_type": "code",
      "metadata": {
        "id": "u83QeRLaeVoF",
        "colab": {
          "base_uri": "https://localhost:8080/"
        },
        "outputId": "51397377-ed3c-494d-92f3-340d8f1ee2a7"
      },
      "source": [
        "help(ask)"
      ],
      "execution_count": null,
      "outputs": [
        {
          "output_type": "stream",
          "text": [
            "Help on function ask in module teilab.question:\n",
            "\n",
            "ask(text: str, username: Union[str, NoneType] = None, icon_url: Union[str, NoneType] = None, icon_emoji: Union[str, NoneType] = None, fallback: Union[str, NoneType] = None, pretext: Union[str, NoneType] = None, attachment_text: Union[str, NoneType] = None, color: str = 'good', fields_title: str = '', fields_value: str = '', fields_short: bool = True, webhook_url: Union[str, NoneType] = None) -> requests.models.Response\n",
            "    Send a question anonymously to Author's Slack using `Incoming Webhook <https://slack.com/help/articles/115005265063-Incoming-webhooks-for-Slack>`_\n",
            "    \n",
            "    Args:\n",
            "        text (str)                                : Message.\n",
            "        username (Optional[str], optional)        : User name. Defaults to ``None`` .\n",
            "        icon_url (Optional[str], optional)        : Image url for Bot Icon. Defaults to ``None`` .\n",
            "        icon_emoji (Optional[str], optional)      : Emoji for Bot Icon. Defaults to ``None`` .\n",
            "        fallback (Optional[str], optional)        : A brief description of the attachment. Defaults to ``None`` .\n",
            "        pretext (Optional[str], optional)         : Optional text that appears above the formatted data. Defaults to ``None`` .\n",
            "        attachment_text (Optional[str], optional) : Optional text displayed in the attachment. Defaults to ``None`` .\n",
            "        color (str, optional)                     : You can choose from ``\"good\"`` , ``\"warning\"``, ``\"danger\"``, or specify a hexadecimal color code. Defaults to ``\"good\"`` .\n",
            "        fields_title (str, optional)              : Title of the fields. Defaults to ``\"\"`` .\n",
            "        fields_value (str, optional)              : Text value of the fields. Defaults to ``\"\"`` .\n",
            "        fields_short (bool, optional)             : Whether ``fields_value`` is short enough when displayed with other values. Defaults to ``True`` .\n",
            "        webhook_url (str, optional)               : Where to send the JSON payload. Defaults to ``SLACK_WEBHOOK_URL`` .\n",
            "    \n",
            "    Returns:\n",
            "        requests.Response: A server's response to an HTTP request.\n",
            "    \n",
            "    Examples:\n",
            "        >>> from teilab.utils import ask\n",
            "        >>> ask(text=\"\", username=\":thinking_face:\", icon_emoji=\":thinking_face:\")\n",
            "\n"
          ],
          "name": "stdout"
        }
      ]
    },
    {
      "cell_type": "markdown",
      "metadata": {
        "id": "3zZ7dpRjf0Mm"
      },
      "source": [
        "Document: https://iwasakishuto.github.io/TeiLab-BasicLaboratoryWork-in-LifeScienceExperiments/teilab.question.html#teilab.question.ask"
      ]
    },
    {
      "cell_type": "code",
      "metadata": {
        "colab": {
          "base_uri": "https://localhost:8080/"
        },
        "id": "OaO5JpBN9w6V",
        "outputId": "f6ed1ef6-4448-4698-f430-8b2b8c8ffcf5"
      },
      "source": [
        "ask(text=\"ぴえん\", username=\"JK\", icon_emoji=\":pleading_face:\")"
      ],
      "execution_count": null,
      "outputs": [
        {
          "output_type": "execute_result",
          "data": {
            "text/plain": [
              "<Response [200]>"
            ]
          },
          "metadata": {
            "tags": []
          },
          "execution_count": 14
        }
      ]
    },
    {
      "cell_type": "code",
      "metadata": {
        "colab": {
          "base_uri": "https://localhost:8080/"
        },
        "id": "VDHiIzCB96Ud",
        "outputId": "813bb004-d33c-485d-83be-1d69a851081d"
      },
      "source": [
        "ask(text=\"こんにちは\", username=\"浅野 吉政\", icon_url=\"http://ui-tei.rnai.jp/assets/images/asano3.jpg\")"
      ],
      "execution_count": null,
      "outputs": [
        {
          "output_type": "execute_result",
          "data": {
            "text/plain": [
              "<Response [200]>"
            ]
          },
          "metadata": {
            "tags": []
          },
          "execution_count": 15
        }
      ]
    },
    {
      "cell_type": "code",
      "metadata": {
        "id": "agAILfvneVsb"
      },
      "source": [
        "dataset.__dir__()"
      ],
      "execution_count": null,
      "outputs": []
    },
    {
      "cell_type": "code",
      "metadata": {
        "id": "gj1deUgKeVtu"
      },
      "source": [
        "dir(dataset)"
      ],
      "execution_count": null,
      "outputs": []
    },
    {
      "cell_type": "markdown",
      "metadata": {
        "id": "OHpt0mHigEPu"
      },
      "source": [
        "Document: https://iwasakishuto.github.io/TeiLab-BasicLaboratoryWork-in-LifeScienceExperiments/teilab.datasets.html#teilab.datasets.TeiLabDataSets"
      ]
    },
    {
      "cell_type": "code",
      "metadata": {
        "id": "e5jK3Lv-e40Z",
        "colab": {
          "base_uri": "https://localhost:8080/"
        },
        "outputId": "d91cc25f-76b6-4753-a11b-38cf134a9d21"
      },
      "source": [
        "arr = np.asarray([1,2,3,4,5])\n",
        "print(arr)"
      ],
      "execution_count": null,
      "outputs": [
        {
          "output_type": "stream",
          "text": [
            "[1 2 3 4 5]\n"
          ],
          "name": "stdout"
        }
      ]
    },
    {
      "cell_type": "code",
      "metadata": {
        "colab": {
          "base_uri": "https://localhost:8080/"
        },
        "id": "q-jbZ4ZU-Y-t",
        "outputId": "ff44b47b-75c5-46d4-abed-50a0401f0453"
      },
      "source": [
        "arr[:-2]"
      ],
      "execution_count": null,
      "outputs": [
        {
          "output_type": "execute_result",
          "data": {
            "text/plain": [
              "array([1, 2, 3])"
            ]
          },
          "metadata": {
            "tags": []
          },
          "execution_count": 18
        }
      ]
    },
    {
      "cell_type": "code",
      "metadata": {
        "id": "NH-ytD6ah5wj"
      },
      "source": [
        "arr[1:]"
      ],
      "execution_count": null,
      "outputs": []
    },
    {
      "cell_type": "code",
      "metadata": {
        "id": "l1Lg00Mue425",
        "colab": {
          "base_uri": "https://localhost:8080/",
          "height": 111
        },
        "outputId": "1abb5964-063b-4b52-e72f-29a3d4e2d3fa"
      },
      "source": [
        "df = pd.DataFrame(data=[\n",
        "  [1,2,3,4,5],\n",
        "  [6,7,80,9,10]\n",
        "], columns=[\"A\",\"\",\"C\",\"D\",\"P\"])\n",
        "df.head()"
      ],
      "execution_count": null,
      "outputs": [
        {
          "output_type": "execute_result",
          "data": {
            "text/html": [
              "<div>\n",
              "<style scoped>\n",
              "    .dataframe tbody tr th:only-of-type {\n",
              "        vertical-align: middle;\n",
              "    }\n",
              "\n",
              "    .dataframe tbody tr th {\n",
              "        vertical-align: top;\n",
              "    }\n",
              "\n",
              "    .dataframe thead th {\n",
              "        text-align: right;\n",
              "    }\n",
              "</style>\n",
              "<table border=\"1\" class=\"dataframe\">\n",
              "  <thead>\n",
              "    <tr style=\"text-align: right;\">\n",
              "      <th></th>\n",
              "      <th>A</th>\n",
              "      <th></th>\n",
              "      <th>C</th>\n",
              "      <th>D</th>\n",
              "      <th>P</th>\n",
              "    </tr>\n",
              "  </thead>\n",
              "  <tbody>\n",
              "    <tr>\n",
              "      <th>0</th>\n",
              "      <td>1</td>\n",
              "      <td>2</td>\n",
              "      <td>3</td>\n",
              "      <td>4</td>\n",
              "      <td>5</td>\n",
              "    </tr>\n",
              "    <tr>\n",
              "      <th>1</th>\n",
              "      <td>6</td>\n",
              "      <td>7</td>\n",
              "      <td>80</td>\n",
              "      <td>9</td>\n",
              "      <td>10</td>\n",
              "    </tr>\n",
              "  </tbody>\n",
              "</table>\n",
              "</div>"
            ],
            "text/plain": [
              "   A      C  D   P\n",
              "0  1  2   3  4   5\n",
              "1  6  7  80  9  10"
            ]
          },
          "metadata": {
            "tags": []
          },
          "execution_count": 66
        }
      ]
    },
    {
      "cell_type": "code",
      "metadata": {
        "colab": {
          "base_uri": "https://localhost:8080/",
          "height": 111
        },
        "id": "xOfqyDHNG4tu",
        "outputId": "bc9d798f-c292-4ed0-f655-991143d08862"
      },
      "source": [
        "df[[\"D\"]]"
      ],
      "execution_count": null,
      "outputs": [
        {
          "output_type": "execute_result",
          "data": {
            "text/html": [
              "<div>\n",
              "<style scoped>\n",
              "    .dataframe tbody tr th:only-of-type {\n",
              "        vertical-align: middle;\n",
              "    }\n",
              "\n",
              "    .dataframe tbody tr th {\n",
              "        vertical-align: top;\n",
              "    }\n",
              "\n",
              "    .dataframe thead th {\n",
              "        text-align: right;\n",
              "    }\n",
              "</style>\n",
              "<table border=\"1\" class=\"dataframe\">\n",
              "  <thead>\n",
              "    <tr style=\"text-align: right;\">\n",
              "      <th></th>\n",
              "      <th>D</th>\n",
              "    </tr>\n",
              "  </thead>\n",
              "  <tbody>\n",
              "    <tr>\n",
              "      <th>0</th>\n",
              "      <td>4</td>\n",
              "    </tr>\n",
              "    <tr>\n",
              "      <th>1</th>\n",
              "      <td>9</td>\n",
              "    </tr>\n",
              "  </tbody>\n",
              "</table>\n",
              "</div>"
            ],
            "text/plain": [
              "   D\n",
              "0  4\n",
              "1  9"
            ]
          },
          "metadata": {
            "tags": []
          },
          "execution_count": 69
        }
      ]
    },
    {
      "cell_type": "code",
      "metadata": {
        "id": "VGbF12yMiS4Z",
        "colab": {
          "base_uri": "https://localhost:8080/",
          "height": 111
        },
        "outputId": "1a30d91c-7f75-4883-e68f-b8c7cd8559dd"
      },
      "source": [
        "df[[\"D\",\"C\"]]"
      ],
      "execution_count": null,
      "outputs": [
        {
          "output_type": "execute_result",
          "data": {
            "text/html": [
              "<div>\n",
              "<style scoped>\n",
              "    .dataframe tbody tr th:only-of-type {\n",
              "        vertical-align: middle;\n",
              "    }\n",
              "\n",
              "    .dataframe tbody tr th {\n",
              "        vertical-align: top;\n",
              "    }\n",
              "\n",
              "    .dataframe thead th {\n",
              "        text-align: right;\n",
              "    }\n",
              "</style>\n",
              "<table border=\"1\" class=\"dataframe\">\n",
              "  <thead>\n",
              "    <tr style=\"text-align: right;\">\n",
              "      <th></th>\n",
              "      <th>D</th>\n",
              "      <th>C</th>\n",
              "    </tr>\n",
              "  </thead>\n",
              "  <tbody>\n",
              "    <tr>\n",
              "      <th>0</th>\n",
              "      <td>4</td>\n",
              "      <td>3</td>\n",
              "    </tr>\n",
              "    <tr>\n",
              "      <th>1</th>\n",
              "      <td>9</td>\n",
              "      <td>80</td>\n",
              "    </tr>\n",
              "  </tbody>\n",
              "</table>\n",
              "</div>"
            ],
            "text/plain": [
              "   D   C\n",
              "0  4   3\n",
              "1  9  80"
            ]
          },
          "metadata": {
            "tags": []
          },
          "execution_count": 70
        }
      ]
    },
    {
      "cell_type": "code",
      "metadata": {
        "id": "fCGdTdQpiZCX",
        "colab": {
          "base_uri": "https://localhost:8080/"
        },
        "outputId": "1e835c4f-0a60-4783-ea78-f67eaccff2f6"
      },
      "source": [
        "df.E"
      ],
      "execution_count": null,
      "outputs": [
        {
          "output_type": "execute_result",
          "data": {
            "text/plain": [
              "0     5\n",
              "1    10\n",
              "Name: E, dtype: int64"
            ]
          },
          "metadata": {
            "tags": []
          },
          "execution_count": 21
        }
      ]
    },
    {
      "cell_type": "markdown",
      "metadata": {
        "id": "bKrxaJ2CC4Cp"
      },
      "source": [
        "## 2. データの読み込み\n",
        "\n",
        "　それでは、ダウンロードしたデータを読み込んでいきます。"
      ]
    },
    {
      "cell_type": "code",
      "metadata": {
        "id": "ve5u8cdeC0N7",
        "colab": {
          "base_uri": "https://localhost:8080/"
        },
        "outputId": "3c7c749c-c391-423e-dba9-94b0791b9587"
      },
      "source": [
        "# どこにデータがあるかの確認\n",
        "dataset.filePaths"
      ],
      "execution_count": null,
      "outputs": [
        {
          "output_type": "execute_result",
          "data": {
            "text/plain": [
              "array([PosixPath('/usr/local/lib/python3.7/dist-packages/teilab/data/microarray2021S/SG19378659_257236339458_S001_GE1_1200_Jun14_1_1.txt'),\n",
              "       PosixPath('/usr/local/lib/python3.7/dist-packages/teilab/data/microarray2021S/SG19378659_257236339458_S001_GE1_1200_Jun14_1_2.txt'),\n",
              "       PosixPath('/usr/local/lib/python3.7/dist-packages/teilab/data/microarray2021S/SG19378659_257236339458_S001_GE1_1200_Jun14_1_3.txt'),\n",
              "       PosixPath('/usr/local/lib/python3.7/dist-packages/teilab/data/microarray2021S/SG19378659_257236339458_S001_GE1_1200_Jun14_1_4.txt'),\n",
              "       PosixPath('/usr/local/lib/python3.7/dist-packages/teilab/data/microarray2021S/SG19378659_257236339458_S001_GE1_1200_Jun14_2_1.txt'),\n",
              "       PosixPath('/usr/local/lib/python3.7/dist-packages/teilab/data/microarray2020A/実習解析用データ/US91503671_253949442637_S01_GE1_105_Dec08_2_1.txt'),\n",
              "       PosixPath('/usr/local/lib/python3.7/dist-packages/teilab/data/microarray2020A/実習解析用データ/US91503671_253949442637_S01_GE1_105_Dec08_2_3.txt'),\n",
              "       PosixPath('/usr/local/lib/python3.7/dist-packages/teilab/data/microarray2020A/実習解析用データ/US91503671_253949442637_S01_GE1_105_Dec08_2_4.txt'),\n",
              "       PosixPath('/usr/local/lib/python3.7/dist-packages/teilab/data/microarray2020A/実習解析用データ/US91503671_253949442637_S01_GE1_105_Dec08_1_1.txt'),\n",
              "       PosixPath('/usr/local/lib/python3.7/dist-packages/teilab/data/microarray2020A/実習解析用データ/US91503671_253949442637_S01_GE1_105_Dec08_1_2.txt'),\n",
              "       PosixPath('/usr/local/lib/python3.7/dist-packages/teilab/data/microarray2020A/実習解析用データ/US91503671_253949442637_S01_GE1_105_Dec08_1_3.txt'),\n",
              "       PosixPath('/usr/local/lib/python3.7/dist-packages/teilab/data/microarray2020A/実習解析用データ/US91503671_253949442637_S01_GE1_105_Dec08_1_4.txt'),\n",
              "       PosixPath('/usr/local/lib/python3.7/dist-packages/teilab/data/microarray2020A/実習解析用データ/US91503671_253949442637_S01_GE1_105_Dec08_2_2.txt')],\n",
              "      dtype=object)"
            ]
          },
          "metadata": {
            "tags": []
          },
          "execution_count": 22
        }
      ]
    },
    {
      "cell_type": "code",
      "metadata": {
        "id": "x-tDjOmkF4EZ",
        "colab": {
          "base_uri": "https://localhost:8080/"
        },
        "outputId": "5897c520-41a4-41ca-a85b-16cb5d0aabd4"
      },
      "source": [
        "# 読み込まれたデータの内容を可視化する。\n",
        "dataset.samples.show_groups()"
      ],
      "execution_count": null,
      "outputs": [
        {
          "output_type": "stream",
          "text": [
            "  idx  Condition              gn  GroupName                              FileName\n",
            "-----  -------------------  ----  -------------------------------------  ---------------------------------------------------\n",
            "    0  mock                    0  SG19378659_257236339458_S001_GE1_1200  SG19378659_257236339458_S001_GE1_1200_Jun14_1_1.txt\n",
            "    1  siVIM-270               0  SG19378659_257236339458_S001_GE1_1200  SG19378659_257236339458_S001_GE1_1200_Jun14_1_2.txt\n",
            "    2  siVIM-270(2'OMe2-5)     0  SG19378659_257236339458_S001_GE1_1200  SG19378659_257236339458_S001_GE1_1200_Jun14_1_3.txt\n",
            "    3  siVIM-270(2'OMe6-8)     0  SG19378659_257236339458_S001_GE1_1200  SG19378659_257236339458_S001_GE1_1200_Jun14_1_4.txt\n",
            "    4  siVIM-270(2'OMe2-8)     0  SG19378659_257236339458_S001_GE1_1200  SG19378659_257236339458_S001_GE1_1200_Jun14_2_1.txt\n",
            "    5  mock(1)                 1  US91503671_253949442637_S01_GE1_105    US91503671_253949442637_S01_GE1_105_Dec08_2_1.txt\n",
            "    6  siVIM-270(LNA3-5)       1  US91503671_253949442637_S01_GE1_105    US91503671_253949442637_S01_GE1_105_Dec08_2_3.txt\n",
            "    7  siVIM-270(LNA2-8)       1  US91503671_253949442637_S01_GE1_105    US91503671_253949442637_S01_GE1_105_Dec08_2_4.txt\n",
            "    8  mock(2)                 1  US91503671_253949442637_S01_GE1_105    US91503671_253949442637_S01_GE1_105_Dec08_1_1.txt\n",
            "    9  siVIM-270               1  US91503671_253949442637_S01_GE1_105    US91503671_253949442637_S01_GE1_105_Dec08_1_2.txt\n",
            "   10  siVIM-270(2'OMe4-6)     1  US91503671_253949442637_S01_GE1_105    US91503671_253949442637_S01_GE1_105_Dec08_1_3.txt\n",
            "   11  siVIM-270(2'OMe3-7)     1  US91503671_253949442637_S01_GE1_105    US91503671_253949442637_S01_GE1_105_Dec08_1_4.txt\n",
            "   12  siVIM-270(2'OMe2-8)     1  US91503671_253949442637_S01_GE1_105    US91503671_253949442637_S01_GE1_105_Dec08_2_2.txt\n"
          ],
          "name": "stdout"
        }
      ]
    },
    {
      "cell_type": "code",
      "metadata": {
        "id": "EglntD6gDIPr",
        "colab": {
          "base_uri": "https://localhost:8080/"
        },
        "outputId": "87b4e051-faef-470a-cd84-eeab80c636ac"
      },
      "source": [
        "# データの中身を確認。\n",
        "! head -n20 {dataset.filePaths[0]}"
      ],
      "execution_count": null,
      "outputs": [
        {
          "output_type": "stream",
          "text": [
            "TYPE\ttext\ttext\ttext\tinteger\ttext\tfloat\tfloat\ttext\tinteger\ttext\ttext\tinteger\tinteger\tinteger\tinteger\tfloat\tfloat\tfloat\tfloat\tfloat\tfloat\ttext\ttext\ttext\ttext\ttext\ttext\ttext\ttext\ttext\ttext\ttext\tinteger\tinteger\tinteger\ttext\tinteger\tboolean\r\n",
            "FEPARAMS\tProtocol_Name\tProtocol_date\tScan_ScannerName\tScan_NumChannels\tScan_Date\tScan_MicronsPerPixelX\tScan_MicronsPerPixelY\tScan_OriginalGUID\tScan_NumScanPass\tGrid_Name\tGrid_Date\tGrid_NumSubGridRows\tGrid_NumSubGridCols\tGrid_NumRows\tGrid_NumCols\tGrid_RowSpacing\tGrid_ColSpacing\tGrid_OffsetX\tGrid_OffsetY\tGrid_NomSpotWidth\tGrid_NomSpotHeight\tGrid_GenomicBuild\tFeatureExtractor_Barcode\tFeatureExtractor_Sample\tFeatureExtractor_ScanFileName\tFeatureExtractor_ArrayName\tFeatureExtractor_ScanFileGUID\tFeatureExtractor_DesignFileName\tFeatureExtractor_ExtractionTime\tFeatureExtractor_UserName\tFeatureExtractor_ComputerName\tFeatureExtractor_Version\tFeatureExtractor_IsXDRExtraction\tFeatureExtractor_ColorMode\tFeatureExtractor_QCReportType\tDyeNorm_NormFilename\tDyeNorm_NormNumProbes\tGrid_IsGridFile\r\n",
            "DATA\tGE1_1200_Jun14 (Read Only)\t16-Jun-2014 14:30\tAgilent Technologies G2600D SG19378659\t1\t01-21-2021 11:14:12\t3\t3\td30dcb24-c87b-49d0-95cd-c5e96ec05659\t2\t072363_D_F_20200924\t24-Sep-2020 00:00\t1\t1\t384\t164\t36.6617\t31.745\t0\t18.3309\t30\t30\thg19:GRCh37:Feb2009\t257236339458_1_1\t\tD:\\ScanData\\01_Minjyu\\01_2020(R2)\\20-M0612_210121\\\\SG19378659_257236339458_S001.tif\tSG19378659_257236339458_S001\td30dcb24-c87b-49d0-95cd-c5e96ec05659\t072363_D_F_20200924.xml\t21-Jan-2021 12:18:35\tAdmin\tDATASYSTEM02\t12.1.1.1\t0\t0\t0\t\t0\t0\r\n",
            "*\r\n",
            "TYPE\tfloat\tfloat\tfloat\tinteger\tinteger\tfloat\tfloat\tfloat\tinteger\tfloat\tfloat\tfloat\tinteger\tfloat\tfloat\tinteger\tinteger\tinteger\tinteger\tinteger\tfloat\tfloat\tfloat\tinteger\tfloat\tfloat\tfloat\tfloat\tfloat\tinteger\tinteger\tfloat\tfloat\tfloat\tfloat\tfloat\tinteger\tfloat\tfloat\tfloat\tfloat\tinteger\tfloat\tfloat\tfloat\tfloat\tfloat\tinteger\tfloat\tfloat\tfloat\tfloat\tfloat\tfloat\tfloat\tinteger\tfloat\tinteger\tfloat\tfloat\tfloat\tfloat\tinteger\tfloat\tfloat\tfloat\tfloat\ttext\tfloat\tfloat\tfloat\tfloat\tfloat\tfloat\tfloat\tfloat\tfloat\tfloat\tfloat\tfloat\tfloat\tfloat\tfloat\tfloat\tfloat\tfloat\tfloat\tfloat\tfloat\tinteger\tinteger\tinteger\tinteger\tfloat\tinteger\ttext\tinteger\ttext\tfloat\tfloat\tfloat\tboolean\tfloat\tfloat\tboolean\tfloat\tboolean\tfloat\tboolean\tfloat\tboolean\tfloat\tboolean\tfloat\tboolean\tfloat\tboolean\tfloat\tboolean\tfloat\tboolean\tfloat\tboolean\r\n",
            "STATS\tgDarkOffsetAverage\tgDarkOffsetMedian\tgDarkOffsetStdDev\tgDarkOffsetNumPts\tgSaturationValue\tgAvgSig2BkgeQC\tgAvgSig2BkgNegCtrl\tgRatioSig2BkgeQC_NegCtrl\tgNumSatFeat\tgLocalBGInlierNetAve\tgLocalBGInlierAve\tgLocalBGInlierSDev\tgLocalBGInlierNum\tgGlobalBGInlierAve\tgGlobalBGInlierSDev\tgGlobalBGInlierNum\tgNumFeatureNonUnifOL\tgNumPopnOL\tgNumNonUnifBGOL\tgNumPopnBGOL\tgOffsetUsed\tgGlobalFeatInlierAve\tgGlobalFeatInlierSDev\tgGlobalFeatInlierNum\tAnyColorPrcntFeatNonUnifOL\tAnyColorPrcntBGNonUnifOL\tAnyColorPrcntFeatPopnOL\tAnyColorPrcntBGPopnOL\tTotalPrcntFeatOL\tgNumNegBGSubFeat\tgNonCtrlNumNegFeatBGSubSig\tgSpatialDetrendRMSFit\tgSpatialDetrendRMSFilteredMinusFit\tgSpatialDetrendSurfaceArea\tgSpatialDetrendVolume\tgSpatialDetrendAveFit\tgNonCtrlNumSatFeat\tgNonCtrl99PrcntNetSig\tgNonCtrl50PrcntNetSig\tgNonCtrl1PrcntNetSig\tgNonCtrlMedPrcntCVBGSubSig\tgCtrleQCNumSatFeat\tgCtrleQC99PrcntNetSig\tgCtrleQC50PrcntNetSig\tgCtrleQC1PrcntNetSig\tgeQCMedPrcntCVBGSubSig\tgeQCSig2BkgLow2\tgNegCtrlNumInliers\tgNegCtrlAveNetSig\tgNegCtrlSDevNetSig\tgNegCtrlAveBGSubSig\tgNegCtrlSDevBGSubSig\tgAveNumPixOLLo\tgAveNumPixOLHi\tgPixCVofHighSignalFeat\tgNumHighSignalFeat\tAddErrorEstimateGreen\tTotalNumFeatures\tROIHeight\tROIWidth\tCentroidDiffX\tCentroidDiffY\tNumFoundFeat\tMaxNonUnifEdges\tMaxSpotNotFoundEdges\tgMultDetrendRMSFit\tgMultDetrendSurfaceAverage\teQCLowSigName2\teQCOneColorLogLowSignal\teQCOneColorLogLowSignalError\teQCOneColorLogHighSignal\teQCOneColorLinFitLogLowConc\teQCOneColorLinFitLogLowSignal\teQCOneColorLinFitLogHighConc\teQCOneColorLinFitLogHighSignal\teQCOneColorLinFitSlope\teQCOneColorLinFitIntercept\teQCOneColorLinFitRSQ\teQCOneColorSpikeDetectionLimit\tgNonCtrl50PrcntBGSubSig\tgCtrleQC50PrcntBGSubSig\tgMedPrcntCVProcSignal\tgeQCMedPrcntCVProcSignal\tgOutlierFlagger_Auto_FeatB_Term\tgOutlierFlagger_Auto_FeatC_Term\tgOutlierFlagger_Auto_BgndB_Term\tgOutlierFlagger_Auto_BgndC_Term\tOutlierFlagger_FeatChiSq\tOutlierFlagger_BgndChiSq\tGriddingStatus\tIsGoodGrid\tNumGeneNonUnifOL\tTotalNumberOfReplicatedGenes\tgPercentileIntensityProcessedSignal\tExtractionStatus\tQCMetricResults\tgNonCtrlNumWellAboveBG\tImageDepth\tAFHold\tgPMTVolts\tGlassThickness\tGridHasBeenOptimized\tgNegCtrlSpread\tMetric_IsGoodGrid\tMetric_IsGoodGrid_IsInRange\tMetric_AnyColorPrcntFeatNonUnifOL\tMetric_AnyColorPrcntFeatNonUnifOL_IsInRange\tMetric_gNegCtrlAveNetSig\tMetric_gNegCtrlAveNetSig_IsInRange\tMetric_gNegCtrlAveBGSubSig\tMetric_gNegCtrlAveBGSubSig_IsInRange\tMetric_gNegCtrlSDevBGSubSig\tMetric_gNegCtrlSDevBGSubSig_IsInRange\tMetric_gSpatialDetrendRMSFilteredMinusFit\tMetric_gSpatialDetrendRMSFilteredMinusFit_IsInRange\tMetric_gNonCntrlMedCVProcSignal\tMetric_gNonCntrlMedCVProcSignal_IsInRange\tMetric_gE1aMedCVProcSignal\tMetric_gE1aMedCVProcSignal_IsInRange\tMetric_absGE1E1aSlope\tMetric_absGE1E1aSlope_IsInRange\tMetric_DetectionLimit\tMetric_DetectionLimit_IsInRange\r\n",
            "DATA\t10\t10\t0.808928\t65536\t777186\t190.026\t2.28238\t83.258\t0\t27.7592\t37.7592\t2.05392\t59808\t37.7592\t2.05392\t59808\t1\t206\t0\t3168\t10\t2897.11\t14903.5\t62769\t0.00158791\t0\t0.327109\t5.03049\t0.00164201\t11510\t10566\t2.67058\t3.40465\t1.00146\t8.97817\t76.1484\t0\t65498\t83.75\t57.4146\t7.27776\t0\t97538.2\t323.488\t57.9333\t7.77485\t0.967726\t301\t60.8158\t3.84614\t-5.26054\t2.89954\t0.12554\t0.868505\t0.128029\t1843\t3.40465\t62976\t3.63549\t6.34866\t0.733547\t0.496868\t56621\t0\t0.0792683\t0.0570757\t1.0021\t(+)E1A_r60_3\t0.312778\t0.228651\t5.89052\t1.94212\t0.523601\t7.26373\t5.85521\t1.00188\t-1.42217\t0.994848\t0.618402\t17.2378\t256.455\t4.07447\t4.06579\t1360\t125.162\t108.944\t58.1375\t2.29246\t1.30346\t0\t1\t1\t58201\t348.749\t1\tExtractionEvaluate\t30536\t20 Bit\t0.0181735\t424.93\t1008.3\t0\t11.2961\t1\t1\t0.00158791\t1\t60.8158\t0\t-5.26054\t1\t2.89954\t1\t3.40465\t1\t4.07447\t1\t4.06579\t1\t1.00188\t1\t0.618402\t1\r\n",
            "*\r\n",
            "TYPE\tinteger\tinteger\tinteger\tinteger\tinteger\ttext\ttext\tfloat\tfloat\tfloat\tfloat\tfloat\tfloat\tfloat\tboolean\tboolean\tboolean\tboolean\tboolean\tboolean\tfloat\tboolean\tboolean\tfloat\tfloat\r\n",
            "FEATURES\tFeatureNum\tRow\tCol\tSubTypeMask\tControlType\tProbeName\tSystematicName\tPositionX\tPositionY\tgProcessedSignal\tgProcessedSigError\tgMedianSignal\tgBGMedianSignal\tgBGPixSDev\tgIsSaturated\tgIsFeatNonUnifOL\tgIsBGNonUnifOL\tgIsFeatPopnOL\tgIsBGPopnOL\tIsManualFlag\tgBGSubSignal\tgIsPosAndSignif\tgIsWellAboveBG\tSpotExtentX\tgBGMeanSignal\r\n",
            "DATA\t1\t1\t1\t260\t1\tGE_BrightCorner\tGE_BrightCorner\t697.237\t401.288\t2.214324e+005\t2.214324e+004\t227001\t31\t6.037018e+000\t0\t0\t0\t0\t1\t0\t226487\t1\t1\t25.7804\t31.3989\r\n",
            "DATA\t2\t1\t2\t66\t1\tDarkCorner\tDarkCorner\t718.433\t401.701\t3.354572e+000\t3.364504e+000\t72.5\t32\t5.969753e+000\t0\t0\t0\t0\t1\t0\t-3.9934\t0\t0\t26.8687\t31.8721\r\n",
            "DATA\t3\t1\t3\t66\t1\tDarkCorner\tDarkCorner\t739.793\t401.293\t3.388527e+000\t3.398559e+000\t71\t32\t6.184108e+000\t0\t0\t0\t0\t0\t0\t-5.38443\t0\t0\t25.5572\t32.2257\r\n",
            "DATA\t4\t1\t4\t0\t0\tA_21_P0014386\tA_21_P0014386\t760.654\t401.212\t1.079907e+001\t3.596200e+000\t86\t32\t6.237523e+000\t0\t0\t0\t0\t0\t0\t10.7186\t1\t0\t24.6442\t32.2898\r\n",
            "DATA\t5\t1\t5\t0\t0\tA_33_P3396872\tNM_001105533\t781.887\t401.415\t3.450608e+000\t3.473890e+000\t79\t32\t6.252181e+000\t0\t0\t0\t0\t0\t0\t2.96121\t0\t0\t24.6442\t32.5592\r\n",
            "DATA\t6\t1\t6\t0\t0\tA_33_P3267760\tENST00000378463\t803.429\t401.393\t1.335166e+001\t3.736691e+000\t88.5\t32\t6.322776e+000\t0\t0\t0\t0\t0\t0\t13.0251\t1\t0\t24.8756\t32.6141\r\n",
            "DATA\t7\t1\t7\t0\t0\tA_32_P194264\tNM_001008708\t824\t401.3\t2.894362e+003\t2.894575e+002\t2828\t32\t6.238564e+000\t0\t0\t0\t0\t0\t0\t2802.54\t1\t1\t26.2212\t32.6231\r\n",
            "DATA\t8\t1\t8\t0\t0\tA_23_P153745\tNM_006332\t845.574\t401.525\t3.683657e+004\t3.683659e+003\t33965\t32\t6.235441e+000\t0\t0\t0\t0\t0\t0\t35407.8\t1\t1\t26.2212\t32.6265\r\n",
            "DATA\t9\t1\t9\t0\t0\tA_33_P3352837\tA_33_P3352837\t866.5\t401.676\t3.554870e+000\t3.565395e+000\t73.5\t32\t6.210062e+000\t0\t0\t0\t0\t0\t0\t-0.621857\t0\t0\t30\t32.61\r\n",
            "DATA\t10\t1\t10\t0\t0\tA_21_P0011260\tENST00000618272\t887.6\t401.586\t3.673372e+000\t3.605981e+000\t79\t32\t6.206102e+000\t0\t0\t0\t0\t0\t0\t3.48642\t1\t0\t27.501\t32.5014\r\n"
          ],
          "name": "stdout"
        }
      ]
    },
    {
      "cell_type": "code",
      "metadata": {
        "id": "yodAGMYgDRHY",
        "colab": {
          "base_uri": "https://localhost:8080/",
          "height": 162
        },
        "outputId": "0df416eb-3349-4afb-d292-7ada15cc9643"
      },
      "source": [
        "# 読み込み方\n",
        "df = pd.read_csv(filepath_or_buffer=dataset.filePaths[0], sep=\"\\t\", header=9)\n",
        "df.head(3)"
      ],
      "execution_count": null,
      "outputs": [
        {
          "output_type": "execute_result",
          "data": {
            "text/html": [
              "<div>\n",
              "<style scoped>\n",
              "    .dataframe tbody tr th:only-of-type {\n",
              "        vertical-align: middle;\n",
              "    }\n",
              "\n",
              "    .dataframe tbody tr th {\n",
              "        vertical-align: top;\n",
              "    }\n",
              "\n",
              "    .dataframe thead th {\n",
              "        text-align: right;\n",
              "    }\n",
              "</style>\n",
              "<table border=\"1\" class=\"dataframe\">\n",
              "  <thead>\n",
              "    <tr style=\"text-align: right;\">\n",
              "      <th></th>\n",
              "      <th>FEATURES</th>\n",
              "      <th>FeatureNum</th>\n",
              "      <th>Row</th>\n",
              "      <th>Col</th>\n",
              "      <th>SubTypeMask</th>\n",
              "      <th>ControlType</th>\n",
              "      <th>ProbeName</th>\n",
              "      <th>SystematicName</th>\n",
              "      <th>PositionX</th>\n",
              "      <th>PositionY</th>\n",
              "      <th>gProcessedSignal</th>\n",
              "      <th>gProcessedSigError</th>\n",
              "      <th>gMedianSignal</th>\n",
              "      <th>gBGMedianSignal</th>\n",
              "      <th>gBGPixSDev</th>\n",
              "      <th>gIsSaturated</th>\n",
              "      <th>gIsFeatNonUnifOL</th>\n",
              "      <th>gIsBGNonUnifOL</th>\n",
              "      <th>gIsFeatPopnOL</th>\n",
              "      <th>gIsBGPopnOL</th>\n",
              "      <th>IsManualFlag</th>\n",
              "      <th>gBGSubSignal</th>\n",
              "      <th>gIsPosAndSignif</th>\n",
              "      <th>gIsWellAboveBG</th>\n",
              "      <th>SpotExtentX</th>\n",
              "      <th>gBGMeanSignal</th>\n",
              "    </tr>\n",
              "  </thead>\n",
              "  <tbody>\n",
              "    <tr>\n",
              "      <th>0</th>\n",
              "      <td>DATA</td>\n",
              "      <td>1</td>\n",
              "      <td>1</td>\n",
              "      <td>1</td>\n",
              "      <td>260</td>\n",
              "      <td>1</td>\n",
              "      <td>GE_BrightCorner</td>\n",
              "      <td>GE_BrightCorner</td>\n",
              "      <td>697.237</td>\n",
              "      <td>401.288</td>\n",
              "      <td>221432.400000</td>\n",
              "      <td>22143.240000</td>\n",
              "      <td>227001.0</td>\n",
              "      <td>31.0</td>\n",
              "      <td>6.037018</td>\n",
              "      <td>0</td>\n",
              "      <td>0</td>\n",
              "      <td>0</td>\n",
              "      <td>0</td>\n",
              "      <td>1</td>\n",
              "      <td>0</td>\n",
              "      <td>226487.00000</td>\n",
              "      <td>1</td>\n",
              "      <td>1</td>\n",
              "      <td>25.7804</td>\n",
              "      <td>31.3989</td>\n",
              "    </tr>\n",
              "    <tr>\n",
              "      <th>1</th>\n",
              "      <td>DATA</td>\n",
              "      <td>2</td>\n",
              "      <td>1</td>\n",
              "      <td>2</td>\n",
              "      <td>66</td>\n",
              "      <td>1</td>\n",
              "      <td>DarkCorner</td>\n",
              "      <td>DarkCorner</td>\n",
              "      <td>718.433</td>\n",
              "      <td>401.701</td>\n",
              "      <td>3.354572</td>\n",
              "      <td>3.364504</td>\n",
              "      <td>72.5</td>\n",
              "      <td>32.0</td>\n",
              "      <td>5.969753</td>\n",
              "      <td>0</td>\n",
              "      <td>0</td>\n",
              "      <td>0</td>\n",
              "      <td>0</td>\n",
              "      <td>1</td>\n",
              "      <td>0</td>\n",
              "      <td>-3.99340</td>\n",
              "      <td>0</td>\n",
              "      <td>0</td>\n",
              "      <td>26.8687</td>\n",
              "      <td>31.8721</td>\n",
              "    </tr>\n",
              "    <tr>\n",
              "      <th>2</th>\n",
              "      <td>DATA</td>\n",
              "      <td>3</td>\n",
              "      <td>1</td>\n",
              "      <td>3</td>\n",
              "      <td>66</td>\n",
              "      <td>1</td>\n",
              "      <td>DarkCorner</td>\n",
              "      <td>DarkCorner</td>\n",
              "      <td>739.793</td>\n",
              "      <td>401.293</td>\n",
              "      <td>3.388527</td>\n",
              "      <td>3.398559</td>\n",
              "      <td>71.0</td>\n",
              "      <td>32.0</td>\n",
              "      <td>6.184108</td>\n",
              "      <td>0</td>\n",
              "      <td>0</td>\n",
              "      <td>0</td>\n",
              "      <td>0</td>\n",
              "      <td>0</td>\n",
              "      <td>0</td>\n",
              "      <td>-5.38443</td>\n",
              "      <td>0</td>\n",
              "      <td>0</td>\n",
              "      <td>25.5572</td>\n",
              "      <td>32.2257</td>\n",
              "    </tr>\n",
              "  </tbody>\n",
              "</table>\n",
              "</div>"
            ],
            "text/plain": [
              "  FEATURES  FeatureNum  Row  ...  gIsWellAboveBG  SpotExtentX  gBGMeanSignal\n",
              "0     DATA           1    1  ...               1      25.7804        31.3989\n",
              "1     DATA           2    1  ...               0      26.8687        31.8721\n",
              "2     DATA           3    1  ...               0      25.5572        32.2257\n",
              "\n",
              "[3 rows x 26 columns]"
            ]
          },
          "metadata": {
            "tags": []
          },
          "execution_count": 25
        }
      ]
    },
    {
      "cell_type": "markdown",
      "metadata": {
        "id": "rFmB9oz7Dy1B"
      },
      "source": [
        "## 3. データの統合\n",
        "\n",
        "　先日 Excel や R で行った解析と同様に、全サンプルのデータを一つにまとめていきましょう。\n",
        "\n",
        "　行番号とプローブ番号の対応関係は（同じタイミングの実験であれば）どのサンプルも同じであるので、サンプル $X$ のデータの隣にサンプル $Y$ のデータを `concatenate` すれば1枚のワークシート（DataFrame）にまとまります。\n",
        "\n",
        "　そこで、これを繰り返して全サンプルの `gProcessedSignal` の値を1つのテーブルにまとめていきましょう。"
      ]
    },
    {
      "cell_type": "code",
      "metadata": {
        "colab": {
          "base_uri": "https://localhost:8080/"
        },
        "id": "f3e7b2uZAR84",
        "outputId": "6c0bda78-14a1-409f-f839-9dc07e5065de"
      },
      "source": [
        "dataset.filePaths[0:5]"
      ],
      "execution_count": null,
      "outputs": [
        {
          "output_type": "execute_result",
          "data": {
            "text/plain": [
              "array([PosixPath('/usr/local/lib/python3.7/dist-packages/teilab/data/microarray2021S/SG19378659_257236339458_S001_GE1_1200_Jun14_1_1.txt'),\n",
              "       PosixPath('/usr/local/lib/python3.7/dist-packages/teilab/data/microarray2021S/SG19378659_257236339458_S001_GE1_1200_Jun14_1_2.txt'),\n",
              "       PosixPath('/usr/local/lib/python3.7/dist-packages/teilab/data/microarray2021S/SG19378659_257236339458_S001_GE1_1200_Jun14_1_3.txt'),\n",
              "       PosixPath('/usr/local/lib/python3.7/dist-packages/teilab/data/microarray2021S/SG19378659_257236339458_S001_GE1_1200_Jun14_1_4.txt'),\n",
              "       PosixPath('/usr/local/lib/python3.7/dist-packages/teilab/data/microarray2021S/SG19378659_257236339458_S001_GE1_1200_Jun14_2_1.txt')],\n",
              "      dtype=object)"
            ]
          },
          "metadata": {
            "tags": []
          },
          "execution_count": 29
        }
      ]
    },
    {
      "cell_type": "code",
      "metadata": {
        "colab": {
          "base_uri": "https://localhost:8080/"
        },
        "id": "rjJRszbpATDR",
        "outputId": "763d7693-12f2-4e6f-9b0b-24be35315b88"
      },
      "source": [
        "dataset.samples.Condition[0:5]"
      ],
      "execution_count": null,
      "outputs": [
        {
          "output_type": "execute_result",
          "data": {
            "text/plain": [
              "array(['mock', 'siVIM-270', \"siVIM-270(2'OMe2-5)\", \"siVIM-270(2'OMe6-8)\",\n",
              "       \"siVIM-270(2'OMe2-8)\"], dtype=object)"
            ]
          },
          "metadata": {
            "tags": []
          },
          "execution_count": 32
        }
      ]
    },
    {
      "cell_type": "code",
      "metadata": {
        "id": "7eXbBjbBRal9",
        "colab": {
          "base_uri": "https://localhost:8080/"
        },
        "outputId": "212e3f90-a39e-4577-acca-f4228d7d8466"
      },
      "source": [
        "# 今回は、0-4のデータを使います。\n",
        "target_filepaths = dataset.filePaths[0:5]\n",
        "target_conditions = dataset.samples.Condition[0:5]\n",
        "\n",
        "for fp,cond in zip(target_filepaths, target_conditions):\n",
        "  print(cond, fp)"
      ],
      "execution_count": null,
      "outputs": [
        {
          "output_type": "stream",
          "text": [
            "mock /usr/local/lib/python3.7/dist-packages/teilab/data/microarray2021S/SG19378659_257236339458_S001_GE1_1200_Jun14_1_1.txt\n",
            "siVIM-270 /usr/local/lib/python3.7/dist-packages/teilab/data/microarray2021S/SG19378659_257236339458_S001_GE1_1200_Jun14_1_2.txt\n",
            "siVIM-270(2'OMe2-5) /usr/local/lib/python3.7/dist-packages/teilab/data/microarray2021S/SG19378659_257236339458_S001_GE1_1200_Jun14_1_3.txt\n",
            "siVIM-270(2'OMe6-8) /usr/local/lib/python3.7/dist-packages/teilab/data/microarray2021S/SG19378659_257236339458_S001_GE1_1200_Jun14_1_4.txt\n",
            "siVIM-270(2'OMe2-8) /usr/local/lib/python3.7/dist-packages/teilab/data/microarray2021S/SG19378659_257236339458_S001_GE1_1200_Jun14_2_1.txt\n"
          ],
          "name": "stdout"
        }
      ]
    },
    {
      "cell_type": "markdown",
      "metadata": {
        "id": "SZ4n3nuuEZYi"
      },
      "source": [
        "### 3.1 アノテーションデータの読み込み\n",
        "\n",
        "　各プローブ（スポット、フィーチャー）がどういうデータかを説明するデータを、ここでは **「アノテーションデータ」** と呼ぶことにします。なお、同じ実験（マイクロアレイの機械）であれば、この情報はサンプル間で統一されているので、同タイミングに行ったサンプル群の中から一つを適当に選んでそこから抽出します。\n",
        "\n",
        "※ここで抽出する**アノテーションデータ**は、以下のカラムに書かれている内容です。"
      ]
    },
    {
      "cell_type": "code",
      "metadata": {
        "id": "uHL7l6AtDgHa"
      },
      "source": [
        "USE_COLS_ANNO  = [\n",
        "    \"FeatureNum\", \"ControlType\", \"ProbeName\", \"SystematicName\"\n",
        "]"
      ],
      "execution_count": null,
      "outputs": []
    },
    {
      "cell_type": "markdown",
      "metadata": {
        "id": "CgHiebapFqFO"
      },
      "source": [
        "\n",
        "|column name|description|\n",
        "|:-:|:-|\n",
        "|`FeatureNum`|スポットの番号|\n",
        "|`ControlType`|<ul><li>positive controlは `1`</li> <li>negative controlは `-1`</li><li>それ以外（解析で用いる）は `0`</li></ul>|\n",
        "|`ProbeName`|プローブ名|\n",
        "|`SystematicName`|遺伝子名|"
      ]
    },
    {
      "cell_type": "code",
      "metadata": {
        "id": "6YbkrygaFb8d",
        "colab": {
          "base_uri": "https://localhost:8080/",
          "height": 359
        },
        "outputId": "fccf925d-d035-4767-d7d1-158bac55f77e"
      },
      "source": [
        "df_anno = pd.read_csv(filepath_or_buffer=target_filepaths[0], sep=\"\\t\", header=9, usecols=USE_COLS_ANNO)\n",
        "df_anno.head(10)"
      ],
      "execution_count": null,
      "outputs": [
        {
          "output_type": "execute_result",
          "data": {
            "text/html": [
              "<div>\n",
              "<style scoped>\n",
              "    .dataframe tbody tr th:only-of-type {\n",
              "        vertical-align: middle;\n",
              "    }\n",
              "\n",
              "    .dataframe tbody tr th {\n",
              "        vertical-align: top;\n",
              "    }\n",
              "\n",
              "    .dataframe thead th {\n",
              "        text-align: right;\n",
              "    }\n",
              "</style>\n",
              "<table border=\"1\" class=\"dataframe\">\n",
              "  <thead>\n",
              "    <tr style=\"text-align: right;\">\n",
              "      <th></th>\n",
              "      <th>FeatureNum</th>\n",
              "      <th>ControlType</th>\n",
              "      <th>ProbeName</th>\n",
              "      <th>SystematicName</th>\n",
              "    </tr>\n",
              "  </thead>\n",
              "  <tbody>\n",
              "    <tr>\n",
              "      <th>0</th>\n",
              "      <td>1</td>\n",
              "      <td>1</td>\n",
              "      <td>GE_BrightCorner</td>\n",
              "      <td>GE_BrightCorner</td>\n",
              "    </tr>\n",
              "    <tr>\n",
              "      <th>1</th>\n",
              "      <td>2</td>\n",
              "      <td>1</td>\n",
              "      <td>DarkCorner</td>\n",
              "      <td>DarkCorner</td>\n",
              "    </tr>\n",
              "    <tr>\n",
              "      <th>2</th>\n",
              "      <td>3</td>\n",
              "      <td>1</td>\n",
              "      <td>DarkCorner</td>\n",
              "      <td>DarkCorner</td>\n",
              "    </tr>\n",
              "    <tr>\n",
              "      <th>3</th>\n",
              "      <td>4</td>\n",
              "      <td>0</td>\n",
              "      <td>A_21_P0014386</td>\n",
              "      <td>A_21_P0014386</td>\n",
              "    </tr>\n",
              "    <tr>\n",
              "      <th>4</th>\n",
              "      <td>5</td>\n",
              "      <td>0</td>\n",
              "      <td>A_33_P3396872</td>\n",
              "      <td>NM_001105533</td>\n",
              "    </tr>\n",
              "    <tr>\n",
              "      <th>5</th>\n",
              "      <td>6</td>\n",
              "      <td>0</td>\n",
              "      <td>A_33_P3267760</td>\n",
              "      <td>ENST00000378463</td>\n",
              "    </tr>\n",
              "    <tr>\n",
              "      <th>6</th>\n",
              "      <td>7</td>\n",
              "      <td>0</td>\n",
              "      <td>A_32_P194264</td>\n",
              "      <td>NM_001008708</td>\n",
              "    </tr>\n",
              "    <tr>\n",
              "      <th>7</th>\n",
              "      <td>8</td>\n",
              "      <td>0</td>\n",
              "      <td>A_23_P153745</td>\n",
              "      <td>NM_006332</td>\n",
              "    </tr>\n",
              "    <tr>\n",
              "      <th>8</th>\n",
              "      <td>9</td>\n",
              "      <td>0</td>\n",
              "      <td>A_33_P3352837</td>\n",
              "      <td>A_33_P3352837</td>\n",
              "    </tr>\n",
              "    <tr>\n",
              "      <th>9</th>\n",
              "      <td>10</td>\n",
              "      <td>0</td>\n",
              "      <td>A_21_P0011260</td>\n",
              "      <td>ENST00000618272</td>\n",
              "    </tr>\n",
              "  </tbody>\n",
              "</table>\n",
              "</div>"
            ],
            "text/plain": [
              "   FeatureNum  ControlType        ProbeName   SystematicName\n",
              "0           1            1  GE_BrightCorner  GE_BrightCorner\n",
              "1           2            1       DarkCorner       DarkCorner\n",
              "2           3            1       DarkCorner       DarkCorner\n",
              "3           4            0    A_21_P0014386    A_21_P0014386\n",
              "4           5            0    A_33_P3396872     NM_001105533\n",
              "5           6            0    A_33_P3267760  ENST00000378463\n",
              "6           7            0     A_32_P194264     NM_001008708\n",
              "7           8            0     A_23_P153745        NM_006332\n",
              "8           9            0    A_33_P3352837    A_33_P3352837\n",
              "9          10            0    A_21_P0011260  ENST00000618272"
            ]
          },
          "metadata": {
            "tags": []
          },
          "execution_count": 36
        }
      ]
    },
    {
      "cell_type": "markdown",
      "metadata": {
        "id": "iJWMW43CleUS"
      },
      "source": [
        "### 3.2 シグナル値の読み込み"
      ]
    },
    {
      "cell_type": "markdown",
      "metadata": {
        "id": "ITkaWXuQlflf"
      },
      "source": [
        "　続いて、各サンプルのシグナル強度( `gProcessedSignal` )のデータを取得します。\n",
        "\n",
        "　なお、この時 `gIsWellAboveBG` が `0` のものは「（真の）シグナルがバックグラウンドのシグナルよりも低く、信頼できないデータである」ということを意味するため、取り除きます。"
      ]
    },
    {
      "cell_type": "code",
      "metadata": {
        "id": "NmhPp8j8lX9y"
      },
      "source": [
        "USE_COLS_SYGNAL = [\n",
        "    \"gProcessedSignal\", \"gIsWellAboveBG\"\n",
        "]"
      ],
      "execution_count": null,
      "outputs": []
    },
    {
      "cell_type": "markdown",
      "metadata": {
        "id": "pXjFPW0dlmwW"
      },
      "source": [
        "|column name|description|\n",
        "|:-:|:-|\n",
        "|`gProcessedSignal`|green(Cy-3)のシグナル強度（＝発現量）|\n",
        "|`gIsWellAboveBG`|（真の）シグナルがバックグラウンドのシグナルより十分高いか？（＝信頼できるデータか）|"
      ]
    },
    {
      "cell_type": "code",
      "metadata": {
        "id": "MEt3FS_8lksQ",
        "colab": {
          "base_uri": "https://localhost:8080/",
          "height": 359
        },
        "outputId": "16d5299c-4eb5-458c-a923-ebc8b990c0a5"
      },
      "source": [
        "df_signal = pd.read_csv(filepath_or_buffer=target_filepaths[0], sep=\"\\t\", header=9, usecols=USE_COLS_SYGNAL)\n",
        "df_signal.head(10)"
      ],
      "execution_count": null,
      "outputs": [
        {
          "output_type": "execute_result",
          "data": {
            "text/html": [
              "<div>\n",
              "<style scoped>\n",
              "    .dataframe tbody tr th:only-of-type {\n",
              "        vertical-align: middle;\n",
              "    }\n",
              "\n",
              "    .dataframe tbody tr th {\n",
              "        vertical-align: top;\n",
              "    }\n",
              "\n",
              "    .dataframe thead th {\n",
              "        text-align: right;\n",
              "    }\n",
              "</style>\n",
              "<table border=\"1\" class=\"dataframe\">\n",
              "  <thead>\n",
              "    <tr style=\"text-align: right;\">\n",
              "      <th></th>\n",
              "      <th>gProcessedSignal</th>\n",
              "      <th>gIsWellAboveBG</th>\n",
              "    </tr>\n",
              "  </thead>\n",
              "  <tbody>\n",
              "    <tr>\n",
              "      <th>0</th>\n",
              "      <td>221432.400000</td>\n",
              "      <td>1</td>\n",
              "    </tr>\n",
              "    <tr>\n",
              "      <th>1</th>\n",
              "      <td>3.354572</td>\n",
              "      <td>0</td>\n",
              "    </tr>\n",
              "    <tr>\n",
              "      <th>2</th>\n",
              "      <td>3.388527</td>\n",
              "      <td>0</td>\n",
              "    </tr>\n",
              "    <tr>\n",
              "      <th>3</th>\n",
              "      <td>10.799070</td>\n",
              "      <td>0</td>\n",
              "    </tr>\n",
              "    <tr>\n",
              "      <th>4</th>\n",
              "      <td>3.450608</td>\n",
              "      <td>0</td>\n",
              "    </tr>\n",
              "    <tr>\n",
              "      <th>5</th>\n",
              "      <td>13.351660</td>\n",
              "      <td>0</td>\n",
              "    </tr>\n",
              "    <tr>\n",
              "      <th>6</th>\n",
              "      <td>2894.362000</td>\n",
              "      <td>1</td>\n",
              "    </tr>\n",
              "    <tr>\n",
              "      <th>7</th>\n",
              "      <td>36836.570000</td>\n",
              "      <td>1</td>\n",
              "    </tr>\n",
              "    <tr>\n",
              "      <th>8</th>\n",
              "      <td>3.554870</td>\n",
              "      <td>0</td>\n",
              "    </tr>\n",
              "    <tr>\n",
              "      <th>9</th>\n",
              "      <td>3.673372</td>\n",
              "      <td>0</td>\n",
              "    </tr>\n",
              "  </tbody>\n",
              "</table>\n",
              "</div>"
            ],
            "text/plain": [
              "   gProcessedSignal  gIsWellAboveBG\n",
              "0     221432.400000               1\n",
              "1          3.354572               0\n",
              "2          3.388527               0\n",
              "3         10.799070               0\n",
              "4          3.450608               0\n",
              "5         13.351660               0\n",
              "6       2894.362000               1\n",
              "7      36836.570000               1\n",
              "8          3.554870               0\n",
              "9          3.673372               0"
            ]
          },
          "metadata": {
            "tags": []
          },
          "execution_count": 39
        }
      ]
    },
    {
      "cell_type": "code",
      "metadata": {
        "id": "Tdj04s1lluSm",
        "colab": {
          "base_uri": "https://localhost:8080/",
          "height": 419
        },
        "outputId": "86c79e50-675d-44d1-f03a-03a260737a9c"
      },
      "source": [
        "df_signal[df_signal.gIsWellAboveBG == 1]"
      ],
      "execution_count": null,
      "outputs": [
        {
          "output_type": "execute_result",
          "data": {
            "text/html": [
              "<div>\n",
              "<style scoped>\n",
              "    .dataframe tbody tr th:only-of-type {\n",
              "        vertical-align: middle;\n",
              "    }\n",
              "\n",
              "    .dataframe tbody tr th {\n",
              "        vertical-align: top;\n",
              "    }\n",
              "\n",
              "    .dataframe thead th {\n",
              "        text-align: right;\n",
              "    }\n",
              "</style>\n",
              "<table border=\"1\" class=\"dataframe\">\n",
              "  <thead>\n",
              "    <tr style=\"text-align: right;\">\n",
              "      <th></th>\n",
              "      <th>gProcessedSignal</th>\n",
              "      <th>gIsWellAboveBG</th>\n",
              "    </tr>\n",
              "  </thead>\n",
              "  <tbody>\n",
              "    <tr>\n",
              "      <th>0</th>\n",
              "      <td>221432.40000</td>\n",
              "      <td>1</td>\n",
              "    </tr>\n",
              "    <tr>\n",
              "      <th>6</th>\n",
              "      <td>2894.36200</td>\n",
              "      <td>1</td>\n",
              "    </tr>\n",
              "    <tr>\n",
              "      <th>7</th>\n",
              "      <td>36836.57000</td>\n",
              "      <td>1</td>\n",
              "    </tr>\n",
              "    <tr>\n",
              "      <th>12</th>\n",
              "      <td>64.05411</td>\n",
              "      <td>1</td>\n",
              "    </tr>\n",
              "    <tr>\n",
              "      <th>14</th>\n",
              "      <td>11815.76000</td>\n",
              "      <td>1</td>\n",
              "    </tr>\n",
              "    <tr>\n",
              "      <th>...</th>\n",
              "      <td>...</td>\n",
              "      <td>...</td>\n",
              "    </tr>\n",
              "    <tr>\n",
              "      <th>62967</th>\n",
              "      <td>142.48090</td>\n",
              "      <td>1</td>\n",
              "    </tr>\n",
              "    <tr>\n",
              "      <th>62968</th>\n",
              "      <td>21.86688</td>\n",
              "      <td>1</td>\n",
              "    </tr>\n",
              "    <tr>\n",
              "      <th>62969</th>\n",
              "      <td>3524.82100</td>\n",
              "      <td>1</td>\n",
              "    </tr>\n",
              "    <tr>\n",
              "      <th>62974</th>\n",
              "      <td>212748.40000</td>\n",
              "      <td>1</td>\n",
              "    </tr>\n",
              "    <tr>\n",
              "      <th>62975</th>\n",
              "      <td>214862.60000</td>\n",
              "      <td>1</td>\n",
              "    </tr>\n",
              "  </tbody>\n",
              "</table>\n",
              "<p>30962 rows × 2 columns</p>\n",
              "</div>"
            ],
            "text/plain": [
              "       gProcessedSignal  gIsWellAboveBG\n",
              "0          221432.40000               1\n",
              "6            2894.36200               1\n",
              "7           36836.57000               1\n",
              "12             64.05411               1\n",
              "14          11815.76000               1\n",
              "...                 ...             ...\n",
              "62967         142.48090               1\n",
              "62968          21.86688               1\n",
              "62969        3524.82100               1\n",
              "62974      212748.40000               1\n",
              "62975      214862.60000               1\n",
              "\n",
              "[30962 rows x 2 columns]"
            ]
          },
          "metadata": {
            "tags": []
          },
          "execution_count": 43
        }
      ]
    },
    {
      "cell_type": "code",
      "metadata": {
        "id": "sWrRrPT9lxSD",
        "colab": {
          "base_uri": "https://localhost:8080/"
        },
        "outputId": "4da91ea5-a320-429d-eab2-c230894807cb"
      },
      "source": [
        "# for文で回して0-4全てのデータを読み込みましょう。\n",
        "df_combined = df_anno.copy(deep=True)\n",
        "index = set(df_combined.index)\n",
        "print(f\"データ数(before): {len(df_combined)}\")\n",
        "\n",
        "for fp,cond in zip(target_filepaths, target_conditions):\n",
        "  df_signal = pd.read_csv(fp, sep=\"\\t\", header=9, usecols=USE_COLS_SYGNAL)\n",
        "  index = index & set(df_signal[(df_signal.gIsWellAboveBG==1)].index)\n",
        "  df_combined = pd.concat([df_combined, df_signal[[\"gProcessedSignal\"]].rename(columns={\"gProcessedSignal\" : cond})], axis=1)\n",
        "\n",
        "df_filtered_1 = df_combined.loc[index, :]\n",
        "print(f\"データ数(after) : {len(df_filtered_1)}\")"
      ],
      "execution_count": null,
      "outputs": [
        {
          "output_type": "stream",
          "text": [
            "データ数(before): 62976\n",
            "データ数(after) : 28824\n"
          ],
          "name": "stdout"
        }
      ]
    },
    {
      "cell_type": "code",
      "metadata": {
        "colab": {
          "base_uri": "https://localhost:8080/",
          "height": 258
        },
        "id": "J1ITxfY4EHq0",
        "outputId": "e1f22c00-ad30-4c84-eedd-260a10cf978f"
      },
      "source": [
        "df_filtered_1.head()"
      ],
      "execution_count": null,
      "outputs": [
        {
          "output_type": "execute_result",
          "data": {
            "text/html": [
              "<div>\n",
              "<style scoped>\n",
              "    .dataframe tbody tr th:only-of-type {\n",
              "        vertical-align: middle;\n",
              "    }\n",
              "\n",
              "    .dataframe tbody tr th {\n",
              "        vertical-align: top;\n",
              "    }\n",
              "\n",
              "    .dataframe thead th {\n",
              "        text-align: right;\n",
              "    }\n",
              "</style>\n",
              "<table border=\"1\" class=\"dataframe\">\n",
              "  <thead>\n",
              "    <tr style=\"text-align: right;\">\n",
              "      <th></th>\n",
              "      <th>FeatureNum</th>\n",
              "      <th>ControlType</th>\n",
              "      <th>ProbeName</th>\n",
              "      <th>SystematicName</th>\n",
              "      <th>mock</th>\n",
              "      <th>siVIM-270</th>\n",
              "      <th>siVIM-270(2'OMe2-5)</th>\n",
              "      <th>siVIM-270(2'OMe6-8)</th>\n",
              "      <th>siVIM-270(2'OMe2-8)</th>\n",
              "    </tr>\n",
              "  </thead>\n",
              "  <tbody>\n",
              "    <tr>\n",
              "      <th>0</th>\n",
              "      <td>1</td>\n",
              "      <td>1</td>\n",
              "      <td>GE_BrightCorner</td>\n",
              "      <td>GE_BrightCorner</td>\n",
              "      <td>221432.40000</td>\n",
              "      <td>199347.90000</td>\n",
              "      <td>192879.60000</td>\n",
              "      <td>194686.20000</td>\n",
              "      <td>157843.70000</td>\n",
              "    </tr>\n",
              "    <tr>\n",
              "      <th>6</th>\n",
              "      <td>7</td>\n",
              "      <td>0</td>\n",
              "      <td>A_32_P194264</td>\n",
              "      <td>NM_001008708</td>\n",
              "      <td>2894.36200</td>\n",
              "      <td>3003.69500</td>\n",
              "      <td>2711.62200</td>\n",
              "      <td>2991.08900</td>\n",
              "      <td>2597.48700</td>\n",
              "    </tr>\n",
              "    <tr>\n",
              "      <th>7</th>\n",
              "      <td>8</td>\n",
              "      <td>0</td>\n",
              "      <td>A_23_P153745</td>\n",
              "      <td>NM_006332</td>\n",
              "      <td>36836.57000</td>\n",
              "      <td>36372.94000</td>\n",
              "      <td>32831.89000</td>\n",
              "      <td>36108.64000</td>\n",
              "      <td>33039.81000</td>\n",
              "    </tr>\n",
              "    <tr>\n",
              "      <th>12</th>\n",
              "      <td>13</td>\n",
              "      <td>0</td>\n",
              "      <td>A_24_P944991</td>\n",
              "      <td>NM_173829</td>\n",
              "      <td>64.05411</td>\n",
              "      <td>53.48488</td>\n",
              "      <td>53.25852</td>\n",
              "      <td>67.57403</td>\n",
              "      <td>67.96294</td>\n",
              "    </tr>\n",
              "    <tr>\n",
              "      <th>14</th>\n",
              "      <td>15</td>\n",
              "      <td>0</td>\n",
              "      <td>A_23_P208706</td>\n",
              "      <td>NM_138764</td>\n",
              "      <td>11815.76000</td>\n",
              "      <td>11092.96000</td>\n",
              "      <td>8431.17800</td>\n",
              "      <td>8500.06100</td>\n",
              "      <td>6113.43000</td>\n",
              "    </tr>\n",
              "  </tbody>\n",
              "</table>\n",
              "</div>"
            ],
            "text/plain": [
              "    FeatureNum  ControlType  ... siVIM-270(2'OMe6-8) siVIM-270(2'OMe2-8)\n",
              "0            1            1  ...        194686.20000        157843.70000\n",
              "6            7            0  ...          2991.08900          2597.48700\n",
              "7            8            0  ...         36108.64000         33039.81000\n",
              "12          13            0  ...            67.57403            67.96294\n",
              "14          15            0  ...          8500.06100          6113.43000\n",
              "\n",
              "[5 rows x 9 columns]"
            ]
          },
          "metadata": {
            "tags": []
          },
          "execution_count": 53
        }
      ]
    },
    {
      "cell_type": "code",
      "metadata": {
        "id": "ifHefepvDsgn"
      },
      "source": [
        "# df_signal[(df_signal.gIsWellAboveBG==1)].index"
      ],
      "execution_count": null,
      "outputs": []
    },
    {
      "cell_type": "code",
      "metadata": {
        "id": "tw4WRW6uDn0z"
      },
      "source": [
        ""
      ],
      "execution_count": null,
      "outputs": []
    },
    {
      "cell_type": "markdown",
      "metadata": {
        "id": "K3LnlXwTmOfq"
      },
      "source": [
        "　また、`ControlType` の値が $\\pm1$ のものはコントロールであるため、`0` のもののみ取り出します。"
      ]
    },
    {
      "cell_type": "code",
      "metadata": {
        "id": "vjLglGwYmEY3",
        "colab": {
          "base_uri": "https://localhost:8080/"
        },
        "outputId": "86f0a3f4-62ca-452e-8497-6fc4f24b53b6"
      },
      "source": [
        "print(\"データ数(before):\", len(df_filtered_1))\n",
        "df_filtered_2 = df_filtered_1[df_filtered_1.ControlType == 0]\n",
        "print(\"データ数(after) :\", len(df_filtered_2))"
      ],
      "execution_count": null,
      "outputs": [
        {
          "output_type": "stream",
          "text": [
            "データ数(before): 28824\n",
            "データ数(after) : 28437\n"
          ],
          "name": "stdout"
        }
      ]
    },
    {
      "cell_type": "code",
      "metadata": {
        "id": "eM36dxs5mR71",
        "colab": {
          "base_uri": "https://localhost:8080/",
          "height": 258
        },
        "outputId": "2f104a0d-a081-42b1-a23e-ded6f5f4d35e"
      },
      "source": [
        "# インデックスを振り直す。\n",
        "df_filtered = df_filtered_2.reset_index(drop=True)\n",
        "df_filtered.head(5)"
      ],
      "execution_count": null,
      "outputs": [
        {
          "output_type": "execute_result",
          "data": {
            "text/html": [
              "<div>\n",
              "<style scoped>\n",
              "    .dataframe tbody tr th:only-of-type {\n",
              "        vertical-align: middle;\n",
              "    }\n",
              "\n",
              "    .dataframe tbody tr th {\n",
              "        vertical-align: top;\n",
              "    }\n",
              "\n",
              "    .dataframe thead th {\n",
              "        text-align: right;\n",
              "    }\n",
              "</style>\n",
              "<table border=\"1\" class=\"dataframe\">\n",
              "  <thead>\n",
              "    <tr style=\"text-align: right;\">\n",
              "      <th></th>\n",
              "      <th>FeatureNum</th>\n",
              "      <th>ControlType</th>\n",
              "      <th>ProbeName</th>\n",
              "      <th>SystematicName</th>\n",
              "      <th>mock</th>\n",
              "      <th>siVIM-270</th>\n",
              "      <th>siVIM-270(2'OMe2-5)</th>\n",
              "      <th>siVIM-270(2'OMe6-8)</th>\n",
              "      <th>siVIM-270(2'OMe2-8)</th>\n",
              "    </tr>\n",
              "  </thead>\n",
              "  <tbody>\n",
              "    <tr>\n",
              "      <th>0</th>\n",
              "      <td>7</td>\n",
              "      <td>0</td>\n",
              "      <td>A_32_P194264</td>\n",
              "      <td>NM_001008708</td>\n",
              "      <td>2894.36200</td>\n",
              "      <td>3003.69500</td>\n",
              "      <td>2711.62200</td>\n",
              "      <td>2991.08900</td>\n",
              "      <td>2597.48700</td>\n",
              "    </tr>\n",
              "    <tr>\n",
              "      <th>1</th>\n",
              "      <td>8</td>\n",
              "      <td>0</td>\n",
              "      <td>A_23_P153745</td>\n",
              "      <td>NM_006332</td>\n",
              "      <td>36836.57000</td>\n",
              "      <td>36372.94000</td>\n",
              "      <td>32831.89000</td>\n",
              "      <td>36108.64000</td>\n",
              "      <td>33039.81000</td>\n",
              "    </tr>\n",
              "    <tr>\n",
              "      <th>2</th>\n",
              "      <td>13</td>\n",
              "      <td>0</td>\n",
              "      <td>A_24_P944991</td>\n",
              "      <td>NM_173829</td>\n",
              "      <td>64.05411</td>\n",
              "      <td>53.48488</td>\n",
              "      <td>53.25852</td>\n",
              "      <td>67.57403</td>\n",
              "      <td>67.96294</td>\n",
              "    </tr>\n",
              "    <tr>\n",
              "      <th>3</th>\n",
              "      <td>15</td>\n",
              "      <td>0</td>\n",
              "      <td>A_23_P208706</td>\n",
              "      <td>NM_138764</td>\n",
              "      <td>11815.76000</td>\n",
              "      <td>11092.96000</td>\n",
              "      <td>8431.17800</td>\n",
              "      <td>8500.06100</td>\n",
              "      <td>6113.43000</td>\n",
              "    </tr>\n",
              "    <tr>\n",
              "      <th>4</th>\n",
              "      <td>18</td>\n",
              "      <td>0</td>\n",
              "      <td>A_24_P333494</td>\n",
              "      <td>NM_018994</td>\n",
              "      <td>1841.13400</td>\n",
              "      <td>1882.83800</td>\n",
              "      <td>1593.41300</td>\n",
              "      <td>1881.09100</td>\n",
              "      <td>1628.77000</td>\n",
              "    </tr>\n",
              "  </tbody>\n",
              "</table>\n",
              "</div>"
            ],
            "text/plain": [
              "   FeatureNum  ControlType  ... siVIM-270(2'OMe6-8) siVIM-270(2'OMe2-8)\n",
              "0           7            0  ...          2991.08900          2597.48700\n",
              "1           8            0  ...         36108.64000         33039.81000\n",
              "2          13            0  ...            67.57403            67.96294\n",
              "3          15            0  ...          8500.06100          6113.43000\n",
              "4          18            0  ...          1881.09100          1628.77000\n",
              "\n",
              "[5 rows x 9 columns]"
            ]
          },
          "metadata": {
            "tags": []
          },
          "execution_count": 55
        }
      ]
    },
    {
      "cell_type": "code",
      "metadata": {
        "colab": {
          "base_uri": "https://localhost:8080/",
          "height": 111
        },
        "id": "2dm7OOBeFP2K",
        "outputId": "ede1d215-ad35-40d0-b2b4-6c6f7456a0cf"
      },
      "source": [
        "df"
      ],
      "execution_count": null,
      "outputs": [
        {
          "output_type": "execute_result",
          "data": {
            "text/html": [
              "<div>\n",
              "<style scoped>\n",
              "    .dataframe tbody tr th:only-of-type {\n",
              "        vertical-align: middle;\n",
              "    }\n",
              "\n",
              "    .dataframe tbody tr th {\n",
              "        vertical-align: top;\n",
              "    }\n",
              "\n",
              "    .dataframe thead th {\n",
              "        text-align: right;\n",
              "    }\n",
              "</style>\n",
              "<table border=\"1\" class=\"dataframe\">\n",
              "  <thead>\n",
              "    <tr style=\"text-align: right;\">\n",
              "      <th></th>\n",
              "      <th>A</th>\n",
              "      <th></th>\n",
              "      <th>C</th>\n",
              "      <th>D</th>\n",
              "      <th>P</th>\n",
              "    </tr>\n",
              "  </thead>\n",
              "  <tbody>\n",
              "    <tr>\n",
              "      <th>0</th>\n",
              "      <td>1</td>\n",
              "      <td>2</td>\n",
              "      <td>3</td>\n",
              "      <td>4</td>\n",
              "      <td>5</td>\n",
              "    </tr>\n",
              "    <tr>\n",
              "      <th>1</th>\n",
              "      <td>6</td>\n",
              "      <td>7</td>\n",
              "      <td>80</td>\n",
              "      <td>9</td>\n",
              "      <td>10</td>\n",
              "    </tr>\n",
              "  </tbody>\n",
              "</table>\n",
              "</div>"
            ],
            "text/plain": [
              "   A      C  D   P\n",
              "0  1  2   3  4   5\n",
              "1  6  7  80  9  10"
            ]
          },
          "metadata": {
            "tags": []
          },
          "execution_count": 90
        }
      ]
    },
    {
      "cell_type": "markdown",
      "metadata": {
        "id": "aowIYVM-na_O"
      },
      "source": [
        "### 3.3 アノテーションデータの追加\n",
        "\n",
        "　このままだと `GeneName` がわからないので、その列を追加します。"
      ]
    },
    {
      "cell_type": "code",
      "metadata": {
        "id": "JHEe3PUDnvpd"
      },
      "source": [
        "import os"
      ],
      "execution_count": null,
      "outputs": []
    },
    {
      "cell_type": "code",
      "metadata": {
        "id": "tIsNAe6znqmd",
        "colab": {
          "base_uri": "https://localhost:8080/",
          "height": 35
        },
        "outputId": "27ae7048-f7af-42d3-f4f8-e435f707301d"
      },
      "source": [
        "path3"
      ],
      "execution_count": null,
      "outputs": [
        {
          "output_type": "execute_result",
          "data": {
            "application/vnd.google.colaboratory.intrinsic+json": {
              "type": "string"
            },
            "text/plain": [
              "'/usr/local/lib/python3.7/dist-packages/teilab/data/microarray2021S-sup'"
            ]
          },
          "metadata": {
            "tags": []
          },
          "execution_count": 57
        }
      ]
    },
    {
      "cell_type": "code",
      "metadata": {
        "id": "XJsDXckhnw1b",
        "colab": {
          "base_uri": "https://localhost:8080/"
        },
        "outputId": "55322db4-8974-495c-8534-2bf0349b2a0d"
      },
      "source": [
        "os.listdir(path3)"
      ],
      "execution_count": null,
      "outputs": [
        {
          "output_type": "execute_result",
          "data": {
            "text/plain": [
              "['SG19378659_257236339458_S001_GE1_1200_Jun14_1_1.pdf',\n",
              " 'SG19378659_257236339458_S001_GE1_1200_Jun14_1_3.pdf',\n",
              " 'sample_list_LNA.txt',\n",
              " 'SG19378659_257236339458_S001_GE1_1200_Jun14_1_4.pdf',\n",
              " 'SG19378659_257236339458_S001_GE1_1200_Jun14_1_2.pdf',\n",
              " 'SG19378659_257236339458_S001_GE1_1200_Jun14_2_1.pdf',\n",
              " 'sample_list.txt',\n",
              " '072363_D_AA_20200924.txt']"
            ]
          },
          "metadata": {
            "tags": []
          },
          "execution_count": 58
        }
      ]
    },
    {
      "cell_type": "code",
      "metadata": {
        "id": "lvccOaA2nsVC",
        "colab": {
          "base_uri": "https://localhost:8080/",
          "height": 142
        },
        "outputId": "2d914d88-f746-46be-ca43-edf617c25159"
      },
      "source": [
        "df_correspondence = pd.read_csv(os.path.join(path3, \"072363_D_AA_20200924.txt\"), sep=\"\\t\", usecols=[\"ProbeID\", \"GeneSymbol\"])\n",
        "df_correspondence.head(3)"
      ],
      "execution_count": null,
      "outputs": [
        {
          "output_type": "execute_result",
          "data": {
            "text/html": [
              "<div>\n",
              "<style scoped>\n",
              "    .dataframe tbody tr th:only-of-type {\n",
              "        vertical-align: middle;\n",
              "    }\n",
              "\n",
              "    .dataframe tbody tr th {\n",
              "        vertical-align: top;\n",
              "    }\n",
              "\n",
              "    .dataframe thead th {\n",
              "        text-align: right;\n",
              "    }\n",
              "</style>\n",
              "<table border=\"1\" class=\"dataframe\">\n",
              "  <thead>\n",
              "    <tr style=\"text-align: right;\">\n",
              "      <th></th>\n",
              "      <th>ProbeID</th>\n",
              "      <th>GeneSymbol</th>\n",
              "    </tr>\n",
              "  </thead>\n",
              "  <tbody>\n",
              "    <tr>\n",
              "      <th>0</th>\n",
              "      <td>A_23_P421175</td>\n",
              "      <td>FAM83H</td>\n",
              "    </tr>\n",
              "    <tr>\n",
              "      <th>1</th>\n",
              "      <td>A_23_P392076</td>\n",
              "      <td>STRN3</td>\n",
              "    </tr>\n",
              "    <tr>\n",
              "      <th>2</th>\n",
              "      <td>A_22_P00016358</td>\n",
              "      <td>SLC8A1-AS1</td>\n",
              "    </tr>\n",
              "  </tbody>\n",
              "</table>\n",
              "</div>"
            ],
            "text/plain": [
              "          ProbeID  GeneSymbol\n",
              "0    A_23_P421175      FAM83H\n",
              "1    A_23_P392076       STRN3\n",
              "2  A_22_P00016358  SLC8A1-AS1"
            ]
          },
          "metadata": {
            "tags": []
          },
          "execution_count": 59
        }
      ]
    },
    {
      "cell_type": "code",
      "metadata": {
        "id": "W8tIfVOyFtN1"
      },
      "source": [
        ""
      ],
      "execution_count": null,
      "outputs": []
    },
    {
      "cell_type": "code",
      "metadata": {
        "id": "OLYpnQcRn3Pj",
        "colab": {
          "base_uri": "https://localhost:8080/",
          "height": 196
        },
        "outputId": "99e7911a-eb40-4972-f5f0-e29c715cb765"
      },
      "source": [
        "df_filtered = pd.merge(\n",
        "    left=df_filtered, \n",
        "    right=df_correspondence, \n",
        "    left_on=\"ProbeName\", \n",
        "    right_on=\"ProbeID\", \n",
        "    how=\"left\"\n",
        ")\n",
        "df_filtered.head(3)"
      ],
      "execution_count": null,
      "outputs": [
        {
          "output_type": "execute_result",
          "data": {
            "text/html": [
              "<div>\n",
              "<style scoped>\n",
              "    .dataframe tbody tr th:only-of-type {\n",
              "        vertical-align: middle;\n",
              "    }\n",
              "\n",
              "    .dataframe tbody tr th {\n",
              "        vertical-align: top;\n",
              "    }\n",
              "\n",
              "    .dataframe thead th {\n",
              "        text-align: right;\n",
              "    }\n",
              "</style>\n",
              "<table border=\"1\" class=\"dataframe\">\n",
              "  <thead>\n",
              "    <tr style=\"text-align: right;\">\n",
              "      <th></th>\n",
              "      <th>FeatureNum</th>\n",
              "      <th>ControlType</th>\n",
              "      <th>ProbeName</th>\n",
              "      <th>SystematicName</th>\n",
              "      <th>mock</th>\n",
              "      <th>siVIM-270</th>\n",
              "      <th>siVIM-270(2'OMe2-5)</th>\n",
              "      <th>siVIM-270(2'OMe6-8)</th>\n",
              "      <th>siVIM-270(2'OMe2-8)</th>\n",
              "      <th>ProbeID</th>\n",
              "      <th>GeneSymbol</th>\n",
              "    </tr>\n",
              "  </thead>\n",
              "  <tbody>\n",
              "    <tr>\n",
              "      <th>0</th>\n",
              "      <td>7</td>\n",
              "      <td>0</td>\n",
              "      <td>A_32_P194264</td>\n",
              "      <td>NM_001008708</td>\n",
              "      <td>2894.36200</td>\n",
              "      <td>3003.69500</td>\n",
              "      <td>2711.62200</td>\n",
              "      <td>2991.08900</td>\n",
              "      <td>2597.48700</td>\n",
              "      <td>A_32_P194264</td>\n",
              "      <td>CHAC2</td>\n",
              "    </tr>\n",
              "    <tr>\n",
              "      <th>1</th>\n",
              "      <td>8</td>\n",
              "      <td>0</td>\n",
              "      <td>A_23_P153745</td>\n",
              "      <td>NM_006332</td>\n",
              "      <td>36836.57000</td>\n",
              "      <td>36372.94000</td>\n",
              "      <td>32831.89000</td>\n",
              "      <td>36108.64000</td>\n",
              "      <td>33039.81000</td>\n",
              "      <td>A_23_P153745</td>\n",
              "      <td>IFI30</td>\n",
              "    </tr>\n",
              "    <tr>\n",
              "      <th>2</th>\n",
              "      <td>13</td>\n",
              "      <td>0</td>\n",
              "      <td>A_24_P944991</td>\n",
              "      <td>NM_173829</td>\n",
              "      <td>64.05411</td>\n",
              "      <td>53.48488</td>\n",
              "      <td>53.25852</td>\n",
              "      <td>67.57403</td>\n",
              "      <td>67.96294</td>\n",
              "      <td>A_24_P944991</td>\n",
              "      <td>SREK1IP1</td>\n",
              "    </tr>\n",
              "  </tbody>\n",
              "</table>\n",
              "</div>"
            ],
            "text/plain": [
              "   FeatureNum  ControlType  ...       ProbeID GeneSymbol\n",
              "0           7            0  ...  A_32_P194264      CHAC2\n",
              "1           8            0  ...  A_23_P153745      IFI30\n",
              "2          13            0  ...  A_24_P944991   SREK1IP1\n",
              "\n",
              "[3 rows x 11 columns]"
            ]
          },
          "metadata": {
            "tags": []
          },
          "execution_count": 60
        }
      ]
    },
    {
      "cell_type": "code",
      "metadata": {
        "id": "cCx-MxEqGCfb"
      },
      "source": [
        ""
      ],
      "execution_count": null,
      "outputs": []
    },
    {
      "cell_type": "code",
      "metadata": {
        "id": "VvZRaBLQoE5M",
        "colab": {
          "base_uri": "https://localhost:8080/"
        },
        "outputId": "73b094ca-c937-4f0a-d252-0b870da4c238"
      },
      "source": [
        "df_filtered.info()"
      ],
      "execution_count": null,
      "outputs": [
        {
          "output_type": "stream",
          "text": [
            "<class 'pandas.core.frame.DataFrame'>\n",
            "Int64Index: 28437 entries, 0 to 28436\n",
            "Data columns (total 11 columns):\n",
            " #   Column               Non-Null Count  Dtype  \n",
            "---  ------               --------------  -----  \n",
            " 0   FeatureNum           28437 non-null  int64  \n",
            " 1   ControlType          28437 non-null  int64  \n",
            " 2   ProbeName            28437 non-null  object \n",
            " 3   SystematicName       28437 non-null  object \n",
            " 4   mock                 28437 non-null  float64\n",
            " 5   siVIM-270            28437 non-null  float64\n",
            " 6   siVIM-270(2'OMe2-5)  28437 non-null  float64\n",
            " 7   siVIM-270(2'OMe6-8)  28437 non-null  float64\n",
            " 8   siVIM-270(2'OMe2-8)  28437 non-null  float64\n",
            " 9   ProbeID              28437 non-null  object \n",
            " 10  GeneSymbol           24281 non-null  object \n",
            "dtypes: float64(5), int64(2), object(4)\n",
            "memory usage: 2.6+ MB\n"
          ],
          "name": "stdout"
        }
      ]
    },
    {
      "cell_type": "code",
      "metadata": {
        "id": "0cjrA63yoJHQ",
        "colab": {
          "base_uri": "https://localhost:8080/",
          "height": 196
        },
        "outputId": "f4d76e7a-0e49-43d5-e37f-d8a6331afe1d"
      },
      "source": [
        "# 欠損値の処理をする。\n",
        "df_filtered[\"ProbeID\"]    = df_filtered[\"ProbeID\"].fillna(\"Not Found\")\n",
        "df_filtered[\"GeneSymbol\"] = df_filtered[\"GeneSymbol\"].fillna(\"unknown\")\n",
        "df_filtered.head(3)"
      ],
      "execution_count": null,
      "outputs": [
        {
          "output_type": "execute_result",
          "data": {
            "text/html": [
              "<div>\n",
              "<style scoped>\n",
              "    .dataframe tbody tr th:only-of-type {\n",
              "        vertical-align: middle;\n",
              "    }\n",
              "\n",
              "    .dataframe tbody tr th {\n",
              "        vertical-align: top;\n",
              "    }\n",
              "\n",
              "    .dataframe thead th {\n",
              "        text-align: right;\n",
              "    }\n",
              "</style>\n",
              "<table border=\"1\" class=\"dataframe\">\n",
              "  <thead>\n",
              "    <tr style=\"text-align: right;\">\n",
              "      <th></th>\n",
              "      <th>FeatureNum</th>\n",
              "      <th>ControlType</th>\n",
              "      <th>ProbeName</th>\n",
              "      <th>SystematicName</th>\n",
              "      <th>mock</th>\n",
              "      <th>siVIM-270</th>\n",
              "      <th>siVIM-270(2'OMe2-5)</th>\n",
              "      <th>siVIM-270(2'OMe6-8)</th>\n",
              "      <th>siVIM-270(2'OMe2-8)</th>\n",
              "      <th>ProbeID</th>\n",
              "      <th>GeneSymbol</th>\n",
              "    </tr>\n",
              "  </thead>\n",
              "  <tbody>\n",
              "    <tr>\n",
              "      <th>0</th>\n",
              "      <td>7</td>\n",
              "      <td>0</td>\n",
              "      <td>A_32_P194264</td>\n",
              "      <td>NM_001008708</td>\n",
              "      <td>2894.36200</td>\n",
              "      <td>3003.69500</td>\n",
              "      <td>2711.62200</td>\n",
              "      <td>2991.08900</td>\n",
              "      <td>2597.48700</td>\n",
              "      <td>A_32_P194264</td>\n",
              "      <td>CHAC2</td>\n",
              "    </tr>\n",
              "    <tr>\n",
              "      <th>1</th>\n",
              "      <td>8</td>\n",
              "      <td>0</td>\n",
              "      <td>A_23_P153745</td>\n",
              "      <td>NM_006332</td>\n",
              "      <td>36836.57000</td>\n",
              "      <td>36372.94000</td>\n",
              "      <td>32831.89000</td>\n",
              "      <td>36108.64000</td>\n",
              "      <td>33039.81000</td>\n",
              "      <td>A_23_P153745</td>\n",
              "      <td>IFI30</td>\n",
              "    </tr>\n",
              "    <tr>\n",
              "      <th>2</th>\n",
              "      <td>13</td>\n",
              "      <td>0</td>\n",
              "      <td>A_24_P944991</td>\n",
              "      <td>NM_173829</td>\n",
              "      <td>64.05411</td>\n",
              "      <td>53.48488</td>\n",
              "      <td>53.25852</td>\n",
              "      <td>67.57403</td>\n",
              "      <td>67.96294</td>\n",
              "      <td>A_24_P944991</td>\n",
              "      <td>SREK1IP1</td>\n",
              "    </tr>\n",
              "  </tbody>\n",
              "</table>\n",
              "</div>"
            ],
            "text/plain": [
              "   FeatureNum  ControlType  ...       ProbeID GeneSymbol\n",
              "0           7            0  ...  A_32_P194264      CHAC2\n",
              "1           8            0  ...  A_23_P153745      IFI30\n",
              "2          13            0  ...  A_24_P944991   SREK1IP1\n",
              "\n",
              "[3 rows x 11 columns]"
            ]
          },
          "metadata": {
            "tags": []
          },
          "execution_count": 63
        }
      ]
    },
    {
      "cell_type": "code",
      "metadata": {
        "id": "7qapM4y9Gmu6"
      },
      "source": [
        ""
      ],
      "execution_count": null,
      "outputs": []
    },
    {
      "cell_type": "code",
      "metadata": {
        "id": "h9FcREMfGbK_"
      },
      "source": [
        "from google.colab import drive\n",
        "# drive.mount('/content/drive')\n",
        "# df_filtered.to_excel(\"microarray_filtered.xlsx\", index=False)"
      ],
      "execution_count": null,
      "outputs": []
    },
    {
      "cell_type": "code",
      "metadata": {
        "id": "AD96zGKzJzuz"
      },
      "source": [
        "df_filtered"
      ],
      "execution_count": null,
      "outputs": []
    },
    {
      "cell_type": "code",
      "metadata": {
        "colab": {
          "base_uri": "https://localhost:8080/"
        },
        "id": "XSYR302nJouQ",
        "outputId": "26daf61c-1503-4bf1-ce56-b6fb1bbf6bb1"
      },
      "source": [
        "! ls drive"
      ],
      "execution_count": null,
      "outputs": [
        {
          "output_type": "stream",
          "text": [
            "MyDrive\n"
          ],
          "name": "stdout"
        }
      ]
    },
    {
      "cell_type": "markdown",
      "metadata": {
        "id": "tnYFTVrjmkRN"
      },
      "source": [
        "***\n",
        "```python\n",
        "# データをGoogleDriveに保存したい場合は、以下のコードを走らせてください。\n",
        "from google.colab import drive\n",
        "drive.mount('/content/drive')\n",
        "df_filtered.to_excel(\"microarray_filtered.xlsx\", index=False)\n",
        "```\n",
        "***"
      ]
    },
    {
      "cell_type": "markdown",
      "metadata": {
        "id": "MG6-h1LLmoQI"
      },
      "source": [
        "## 4. データの前処理\n",
        "\n",
        "　無事にデータがダウンロードできたので、実験上のバイアス等を取り除くためにデータの前処理を行います。（ここでは省略します。）"
      ]
    },
    {
      "cell_type": "code",
      "metadata": {
        "id": "dJdzkBjtmoye",
        "colab": {
          "base_uri": "https://localhost:8080/"
        },
        "outputId": "8d27954f-8d21-4911-ec0b-2de77df2c655"
      },
      "source": [
        "df_filtered.columns"
      ],
      "execution_count": null,
      "outputs": [
        {
          "output_type": "execute_result",
          "data": {
            "text/plain": [
              "Index(['FeatureNum', 'ControlType', 'ProbeName', 'SystematicName', 'mock',\n",
              "       'siVIM-270', 'siVIM-270(2'OMe2-5)', 'siVIM-270(2'OMe6-8)',\n",
              "       'siVIM-270(2'OMe2-8)', 'ProbeID', 'GeneSymbol'],\n",
              "      dtype='object')"
            ]
          },
          "metadata": {
            "tags": []
          },
          "execution_count": 71
        }
      ]
    },
    {
      "cell_type": "markdown",
      "metadata": {
        "id": "nDxwqJ3Dm5W1"
      },
      "source": [
        "## 5. 可視化\n",
        "\n",
        "　`matplotlib` や `plotly` などを用いて、解析結果を可視化します。"
      ]
    },
    {
      "cell_type": "code",
      "metadata": {
        "id": "n40kWOGDoTN2"
      },
      "source": [
        "X = [1,2,3, 4, 5, 6, 7, 8, 9, 10]\n",
        "Y = [1,4,9,16,25,36,49,64,81,100]"
      ],
      "execution_count": null,
      "outputs": []
    },
    {
      "cell_type": "markdown",
      "metadata": {
        "id": "gXpMyhpYpFj0"
      },
      "source": [
        "### 5.1 `matplotlib`"
      ]
    },
    {
      "cell_type": "code",
      "metadata": {
        "id": "6GbOZ6qgmuwM",
        "colab": {
          "base_uri": "https://localhost:8080/",
          "height": 282
        },
        "outputId": "815d5cb2-e2c3-4878-8d08-1f831164ed2b"
      },
      "source": [
        "import matplotlib.pyplot as plt\n",
        "\n",
        "plt.plot(X,Y)"
      ],
      "execution_count": null,
      "outputs": [
        {
          "output_type": "execute_result",
          "data": {
            "text/plain": [
              "[<matplotlib.lines.Line2D at 0x7f6f93af5750>]"
            ]
          },
          "metadata": {
            "tags": []
          },
          "execution_count": 79
        },
        {
          "output_type": "display_data",
          "data": {
            "image/png": "[encoded data removed]",
            "text/plain": [
              "<Figure size 432x288 with 1 Axes>"
            ]
          },
          "metadata": {
            "tags": [],
            "needs_background": "light"
          }
        }
      ]
    },
    {
      "cell_type": "code",
      "metadata": {
        "id": "nhm2T919oez6",
        "colab": {
          "base_uri": "https://localhost:8080/",
          "height": 282
        },
        "outputId": "e448dece-d7c0-4358-badb-485f1043c31b"
      },
      "source": [
        "plt.scatter(X,Y)"
      ],
      "execution_count": null,
      "outputs": [
        {
          "output_type": "execute_result",
          "data": {
            "text/plain": [
              "<matplotlib.collections.PathCollection at 0x7f6f92210350>"
            ]
          },
          "metadata": {
            "tags": []
          },
          "execution_count": 80
        },
        {
          "output_type": "display_data",
          "data": {
            "image/png": "[encoded data removed]",
            "text/plain": [
              "<Figure size 432x288 with 1 Axes>"
            ]
          },
          "metadata": {
            "tags": [],
            "needs_background": "light"
          }
        }
      ]
    },
    {
      "cell_type": "markdown",
      "metadata": {
        "id": "Y-xTA7BzpKhl"
      },
      "source": [
        "\n",
        "### 5.2 `plotly`"
      ]
    },
    {
      "cell_type": "code",
      "metadata": {
        "id": "lXzfyBI5oe32"
      },
      "source": [
        "import plotly.express as px\n",
        "import plotly.graph_objects as go"
      ],
      "execution_count": null,
      "outputs": []
    },
    {
      "cell_type": "code",
      "metadata": {
        "id": "89vRibrkpM00",
        "colab": {
          "base_uri": "https://localhost:8080/",
          "height": 317
        },
        "outputId": "5491c37a-2c98-43af-b6e9-960f4a533d60"
      },
      "source": [
        "px.line(x=X,y=Y, width=400, height=300)"
      ],
      "execution_count": null,
      "outputs": [
        {
          "output_type": "display_data",
          "data": {
            "text/html": [
              "<html>\n",
              "<head><meta charset=\"utf-8\" /></head>\n",
              "<body>\n",
              "    <div>            <script src=\"https://cdnjs.cloudflare.com/ajax/libs/mathjax/2.7.5/MathJax.js?config=TeX-AMS-MML_SVG\"></script><script type=\"text/javascript\">if (window.MathJax) {MathJax.Hub.Config({SVG: {font: \"STIX-Web\"}});}</script>                <script type=\"text/javascript\">window.PlotlyConfig = {MathJaxConfig: 'local'};</script>\n",
              "        <script src=\"https://cdn.plot.ly/plotly-latest.min.js\"></script>                <div id=\"4cc5a317-5f83-4def-a13c-6b0fef7d4a6e\" class=\"plotly-graph-div\" style=\"height:300px; width:400px;\"></div>            <script type=\"text/javascript\">                                    window.PLOTLYENV=window.PLOTLYENV || {};                                    if (document.getElementById(\"4cc5a317-5f83-4def-a13c-6b0fef7d4a6e\")) {                    Plotly.newPlot(                        \"4cc5a317-5f83-4def-a13c-6b0fef7d4a6e\",                        [{\"hovertemplate\": \"x=%{x}<br>y=%{y}<extra></extra>\", \"legendgroup\": \"\", \"line\": {\"color\": \"#636efa\", \"dash\": \"solid\"}, \"mode\": \"lines\", \"name\": \"\", \"orientation\": \"v\", \"showlegend\": false, \"type\": \"scatter\", \"x\": [1, 2, 3, 4, 5, 6, 7, 8, 9, 10], \"xaxis\": \"x\", \"y\": [1, 4, 9, 16, 25, 36, 49, 64, 81, 100], \"yaxis\": \"y\"}],                        {\"height\": 300, \"legend\": {\"tracegroupgap\": 0}, \"margin\": {\"t\": 60}, \"template\": {\"data\": {\"bar\": [{\"error_x\": {\"color\": \"#2a3f5f\"}, \"error_y\": {\"color\": \"#2a3f5f\"}, \"marker\": {\"line\": {\"color\": \"#E5ECF6\", \"width\": 0.5}}, \"type\": \"bar\"}], \"barpolar\": [{\"marker\": {\"line\": {\"color\": \"#E5ECF6\", \"width\": 0.5}}, \"type\": \"barpolar\"}], \"carpet\": [{\"aaxis\": {\"endlinecolor\": \"#2a3f5f\", \"gridcolor\": \"white\", \"linecolor\": \"white\", \"minorgridcolor\": \"white\", \"startlinecolor\": \"#2a3f5f\"}, \"baxis\": {\"endlinecolor\": \"#2a3f5f\", \"gridcolor\": \"white\", \"linecolor\": \"white\", \"minorgridcolor\": \"white\", \"startlinecolor\": \"#2a3f5f\"}, \"type\": \"carpet\"}], \"choropleth\": [{\"colorbar\": {\"outlinewidth\": 0, \"ticks\": \"\"}, \"type\": \"choropleth\"}], \"contour\": [{\"colorbar\": {\"outlinewidth\": 0, \"ticks\": \"\"}, \"colorscale\": [[0.0, \"#0d0887\"], [0.1111111111111111, \"#46039f\"], [0.2222222222222222, \"#7201a8\"], [0.3333333333333333, \"#9c179e\"], [0.4444444444444444, \"#bd3786\"], [0.5555555555555556, \"#d8576b\"], [0.6666666666666666, \"#ed7953\"], [0.7777777777777778, \"#fb9f3a\"], [0.8888888888888888, \"#fdca26\"], [1.0, \"#f0f921\"]], \"type\": \"contour\"}], \"contourcarpet\": [{\"colorbar\": {\"outlinewidth\": 0, \"ticks\": \"\"}, \"type\": \"contourcarpet\"}], \"heatmap\": [{\"colorbar\": {\"outlinewidth\": 0, \"ticks\": \"\"}, \"colorscale\": [[0.0, \"#0d0887\"], [0.1111111111111111, \"#46039f\"], [0.2222222222222222, \"#7201a8\"], [0.3333333333333333, \"#9c179e\"], [0.4444444444444444, \"#bd3786\"], [0.5555555555555556, \"#d8576b\"], [0.6666666666666666, \"#ed7953\"], [0.7777777777777778, \"#fb9f3a\"], [0.8888888888888888, \"#fdca26\"], [1.0, \"#f0f921\"]], \"type\": \"heatmap\"}], \"heatmapgl\": [{\"colorbar\": {\"outlinewidth\": 0, \"ticks\": \"\"}, \"colorscale\": [[0.0, \"#0d0887\"], [0.1111111111111111, \"#46039f\"], [0.2222222222222222, \"#7201a8\"], [0.3333333333333333, \"#9c179e\"], [0.4444444444444444, \"#bd3786\"], [0.5555555555555556, \"#d8576b\"], [0.6666666666666666, \"#ed7953\"], [0.7777777777777778, \"#fb9f3a\"], [0.8888888888888888, \"#fdca26\"], [1.0, \"#f0f921\"]], \"type\": \"heatmapgl\"}], \"histogram\": [{\"marker\": {\"colorbar\": {\"outlinewidth\": 0, \"ticks\": \"\"}}, \"type\": \"histogram\"}], \"histogram2d\": [{\"colorbar\": {\"outlinewidth\": 0, \"ticks\": \"\"}, \"colorscale\": [[0.0, \"#0d0887\"], [0.1111111111111111, \"#46039f\"], [0.2222222222222222, \"#7201a8\"], [0.3333333333333333, \"#9c179e\"], [0.4444444444444444, \"#bd3786\"], [0.5555555555555556, \"#d8576b\"], [0.6666666666666666, \"#ed7953\"], [0.7777777777777778, \"#fb9f3a\"], [0.8888888888888888, \"#fdca26\"], [1.0, \"#f0f921\"]], \"type\": \"histogram2d\"}], \"histogram2dcontour\": [{\"colorbar\": {\"outlinewidth\": 0, \"ticks\": \"\"}, \"colorscale\": [[0.0, \"#0d0887\"], [0.1111111111111111, \"#46039f\"], [0.2222222222222222, \"#7201a8\"], [0.3333333333333333, \"#9c179e\"], [0.4444444444444444, \"#bd3786\"], [0.5555555555555556, \"#d8576b\"], [0.6666666666666666, \"#ed7953\"], [0.7777777777777778, \"#fb9f3a\"], [0.8888888888888888, \"#fdca26\"], [1.0, \"#f0f921\"]], \"type\": \"histogram2dcontour\"}], \"mesh3d\": [{\"colorbar\": {\"outlinewidth\": 0, \"ticks\": \"\"}, \"type\": \"mesh3d\"}], \"parcoords\": [{\"line\": {\"colorbar\": {\"outlinewidth\": 0, \"ticks\": \"\"}}, \"type\": \"parcoords\"}], \"pie\": [{\"automargin\": true, \"type\": \"pie\"}], \"scatter\": [{\"marker\": {\"colorbar\": {\"outlinewidth\": 0, \"ticks\": \"\"}}, \"type\": \"scatter\"}], \"scatter3d\": [{\"line\": {\"colorbar\": {\"outlinewidth\": 0, \"ticks\": \"\"}}, \"marker\": {\"colorbar\": {\"outlinewidth\": 0, \"ticks\": \"\"}}, \"type\": \"scatter3d\"}], \"scattercarpet\": [{\"marker\": {\"colorbar\": {\"outlinewidth\": 0, \"ticks\": \"\"}}, \"type\": \"scattercarpet\"}], \"scattergeo\": [{\"marker\": {\"colorbar\": {\"outlinewidth\": 0, \"ticks\": \"\"}}, \"type\": \"scattergeo\"}], \"scattergl\": [{\"marker\": {\"colorbar\": {\"outlinewidth\": 0, \"ticks\": \"\"}}, \"type\": \"scattergl\"}], \"scattermapbox\": [{\"marker\": {\"colorbar\": {\"outlinewidth\": 0, \"ticks\": \"\"}}, \"type\": \"scattermapbox\"}], \"scatterpolar\": [{\"marker\": {\"colorbar\": {\"outlinewidth\": 0, \"ticks\": \"\"}}, \"type\": \"scatterpolar\"}], \"scatterpolargl\": [{\"marker\": {\"colorbar\": {\"outlinewidth\": 0, \"ticks\": \"\"}}, \"type\": \"scatterpolargl\"}], \"scatterternary\": [{\"marker\": {\"colorbar\": {\"outlinewidth\": 0, \"ticks\": \"\"}}, \"type\": \"scatterternary\"}], \"surface\": [{\"colorbar\": {\"outlinewidth\": 0, \"ticks\": \"\"}, \"colorscale\": [[0.0, \"#0d0887\"], [0.1111111111111111, \"#46039f\"], [0.2222222222222222, \"#7201a8\"], [0.3333333333333333, \"#9c179e\"], [0.4444444444444444, \"#bd3786\"], [0.5555555555555556, \"#d8576b\"], [0.6666666666666666, \"#ed7953\"], [0.7777777777777778, \"#fb9f3a\"], [0.8888888888888888, \"#fdca26\"], [1.0, \"#f0f921\"]], \"type\": \"surface\"}], \"table\": [{\"cells\": {\"fill\": {\"color\": \"#EBF0F8\"}, \"line\": {\"color\": \"white\"}}, \"header\": {\"fill\": {\"color\": \"#C8D4E3\"}, \"line\": {\"color\": \"white\"}}, \"type\": \"table\"}]}, \"layout\": {\"annotationdefaults\": {\"arrowcolor\": \"#2a3f5f\", \"arrowhead\": 0, \"arrowwidth\": 1}, \"autotypenumbers\": \"strict\", \"coloraxis\": {\"colorbar\": {\"outlinewidth\": 0, \"ticks\": \"\"}}, \"colorscale\": {\"diverging\": [[0, \"#8e0152\"], [0.1, \"#c51b7d\"], [0.2, \"#de77ae\"], [0.3, \"#f1b6da\"], [0.4, \"#fde0ef\"], [0.5, \"#f7f7f7\"], [0.6, \"#e6f5d0\"], [0.7, \"#b8e186\"], [0.8, \"#7fbc41\"], [0.9, \"#4d9221\"], [1, \"#276419\"]], \"sequential\": [[0.0, \"#0d0887\"], [0.1111111111111111, \"#46039f\"], [0.2222222222222222, \"#7201a8\"], [0.3333333333333333, \"#9c179e\"], [0.4444444444444444, \"#bd3786\"], [0.5555555555555556, \"#d8576b\"], [0.6666666666666666, \"#ed7953\"], [0.7777777777777778, \"#fb9f3a\"], [0.8888888888888888, \"#fdca26\"], [1.0, \"#f0f921\"]], \"sequentialminus\": [[0.0, \"#0d0887\"], [0.1111111111111111, \"#46039f\"], [0.2222222222222222, \"#7201a8\"], [0.3333333333333333, \"#9c179e\"], [0.4444444444444444, \"#bd3786\"], [0.5555555555555556, \"#d8576b\"], [0.6666666666666666, \"#ed7953\"], [0.7777777777777778, \"#fb9f3a\"], [0.8888888888888888, \"#fdca26\"], [1.0, \"#f0f921\"]]}, \"colorway\": [\"#636efa\", \"#EF553B\", \"#00cc96\", \"#ab63fa\", \"#FFA15A\", \"#19d3f3\", \"#FF6692\", \"#B6E880\", \"#FF97FF\", \"#FECB52\"], \"font\": {\"color\": \"#2a3f5f\"}, \"geo\": {\"bgcolor\": \"white\", \"lakecolor\": \"white\", \"landcolor\": \"#E5ECF6\", \"showlakes\": true, \"showland\": true, \"subunitcolor\": \"white\"}, \"hoverlabel\": {\"align\": \"left\"}, \"hovermode\": \"closest\", \"mapbox\": {\"style\": \"light\"}, \"paper_bgcolor\": \"white\", \"plot_bgcolor\": \"#E5ECF6\", \"polar\": {\"angularaxis\": {\"gridcolor\": \"white\", \"linecolor\": \"white\", \"ticks\": \"\"}, \"bgcolor\": \"#E5ECF6\", \"radialaxis\": {\"gridcolor\": \"white\", \"linecolor\": \"white\", \"ticks\": \"\"}}, \"scene\": {\"xaxis\": {\"backgroundcolor\": \"#E5ECF6\", \"gridcolor\": \"white\", \"gridwidth\": 2, \"linecolor\": \"white\", \"showbackground\": true, \"ticks\": \"\", \"zerolinecolor\": \"white\"}, \"yaxis\": {\"backgroundcolor\": \"#E5ECF6\", \"gridcolor\": \"white\", \"gridwidth\": 2, \"linecolor\": \"white\", \"showbackground\": true, \"ticks\": \"\", \"zerolinecolor\": \"white\"}, \"zaxis\": {\"backgroundcolor\": \"#E5ECF6\", \"gridcolor\": \"white\", \"gridwidth\": 2, \"linecolor\": \"white\", \"showbackground\": true, \"ticks\": \"\", \"zerolinecolor\": \"white\"}}, \"shapedefaults\": {\"line\": {\"color\": \"#2a3f5f\"}}, \"ternary\": {\"aaxis\": {\"gridcolor\": \"white\", \"linecolor\": \"white\", \"ticks\": \"\"}, \"baxis\": {\"gridcolor\": \"white\", \"linecolor\": \"white\", \"ticks\": \"\"}, \"bgcolor\": \"#E5ECF6\", \"caxis\": {\"gridcolor\": \"white\", \"linecolor\": \"white\", \"ticks\": \"\"}}, \"title\": {\"x\": 0.05}, \"xaxis\": {\"automargin\": true, \"gridcolor\": \"white\", \"linecolor\": \"white\", \"ticks\": \"\", \"title\": {\"standoff\": 15}, \"zerolinecolor\": \"white\", \"zerolinewidth\": 2}, \"yaxis\": {\"automargin\": true, \"gridcolor\": \"white\", \"linecolor\": \"white\", \"ticks\": \"\", \"title\": {\"standoff\": 15}, \"zerolinecolor\": \"white\", \"zerolinewidth\": 2}}}, \"width\": 400, \"xaxis\": {\"anchor\": \"y\", \"domain\": [0.0, 1.0], \"title\": {\"text\": \"x\"}}, \"yaxis\": {\"anchor\": \"x\", \"domain\": [0.0, 1.0], \"title\": {\"text\": \"y\"}}},                        {\"responsive\": true}                    ).then(function(){\n",
              "                            \n",
              "var gd = document.getElementById('4cc5a317-5f83-4def-a13c-6b0fef7d4a6e');\n",
              "var x = new MutationObserver(function (mutations, observer) {{\n",
              "        var display = window.getComputedStyle(gd).display;\n",
              "        if (!display || display === 'none') {{\n",
              "            console.log([gd, 'removed!']);\n",
              "            Plotly.purge(gd);\n",
              "            observer.disconnect();\n",
              "        }}\n",
              "}});\n",
              "\n",
              "// Listen for the removal of the full notebook cells\n",
              "var notebookContainer = gd.closest('#notebook-container');\n",
              "if (notebookContainer) {{\n",
              "    x.observe(notebookContainer, {childList: true});\n",
              "}}\n",
              "\n",
              "// Listen for the clearing of the current output cell\n",
              "var outputEl = gd.closest('.output');\n",
              "if (outputEl) {{\n",
              "    x.observe(outputEl, {childList: true});\n",
              "}}\n",
              "\n",
              "                        })                };                            </script>        </div>\n",
              "</body>\n",
              "</html>"
            ]
          },
          "metadata": {
            "tags": []
          }
        }
      ]
    },
    {
      "cell_type": "code",
      "metadata": {
        "id": "cRP98vtkpVXr",
        "colab": {
          "base_uri": "https://localhost:8080/",
          "height": 317
        },
        "outputId": "d76c2b80-e89b-4d2a-e142-a59d0309f9bf"
      },
      "source": [
        "px.scatter(x=X, y=Y, width=400, height=300)"
      ],
      "execution_count": null,
      "outputs": [
        {
          "output_type": "display_data",
          "data": {
            "text/html": [
              "<html>\n",
              "<head><meta charset=\"utf-8\" /></head>\n",
              "<body>\n",
              "    <div>            <script src=\"https://cdnjs.cloudflare.com/ajax/libs/mathjax/2.7.5/MathJax.js?config=TeX-AMS-MML_SVG\"></script><script type=\"text/javascript\">if (window.MathJax) {MathJax.Hub.Config({SVG: {font: \"STIX-Web\"}});}</script>                <script type=\"text/javascript\">window.PlotlyConfig = {MathJaxConfig: 'local'};</script>\n",
              "        <script src=\"https://cdn.plot.ly/plotly-latest.min.js\"></script>                <div id=\"98bb4d23-8869-4000-a64d-a4d0d21be1b5\" class=\"plotly-graph-div\" style=\"height:300px; width:400px;\"></div>            <script type=\"text/javascript\">                                    window.PLOTLYENV=window.PLOTLYENV || {};                                    if (document.getElementById(\"98bb4d23-8869-4000-a64d-a4d0d21be1b5\")) {                    Plotly.newPlot(                        \"98bb4d23-8869-4000-a64d-a4d0d21be1b5\",                        [{\"hovertemplate\": \"x=%{x}<br>y=%{y}<extra></extra>\", \"legendgroup\": \"\", \"marker\": {\"color\": \"#636efa\", \"symbol\": \"circle\"}, \"mode\": \"markers\", \"name\": \"\", \"orientation\": \"v\", \"showlegend\": false, \"type\": \"scatter\", \"x\": [1, 2, 3, 4, 5, 6, 7, 8, 9, 10], \"xaxis\": \"x\", \"y\": [1, 4, 9, 16, 25, 36, 49, 64, 81, 100], \"yaxis\": \"y\"}],                        {\"height\": 300, \"legend\": {\"tracegroupgap\": 0}, \"margin\": {\"t\": 60}, \"template\": {\"data\": {\"bar\": [{\"error_x\": {\"color\": \"#2a3f5f\"}, \"error_y\": {\"color\": \"#2a3f5f\"}, \"marker\": {\"line\": {\"color\": \"#E5ECF6\", \"width\": 0.5}}, \"type\": \"bar\"}], \"barpolar\": [{\"marker\": {\"line\": {\"color\": \"#E5ECF6\", \"width\": 0.5}}, \"type\": \"barpolar\"}], \"carpet\": [{\"aaxis\": {\"endlinecolor\": \"#2a3f5f\", \"gridcolor\": \"white\", \"linecolor\": \"white\", \"minorgridcolor\": \"white\", \"startlinecolor\": \"#2a3f5f\"}, \"baxis\": {\"endlinecolor\": \"#2a3f5f\", \"gridcolor\": \"white\", \"linecolor\": \"white\", \"minorgridcolor\": \"white\", \"startlinecolor\": \"#2a3f5f\"}, \"type\": \"carpet\"}], \"choropleth\": [{\"colorbar\": {\"outlinewidth\": 0, \"ticks\": \"\"}, \"type\": \"choropleth\"}], \"contour\": [{\"colorbar\": {\"outlinewidth\": 0, \"ticks\": \"\"}, \"colorscale\": [[0.0, \"#0d0887\"], [0.1111111111111111, \"#46039f\"], [0.2222222222222222, \"#7201a8\"], [0.3333333333333333, \"#9c179e\"], [0.4444444444444444, \"#bd3786\"], [0.5555555555555556, \"#d8576b\"], [0.6666666666666666, \"#ed7953\"], [0.7777777777777778, \"#fb9f3a\"], [0.8888888888888888, \"#fdca26\"], [1.0, \"#f0f921\"]], \"type\": \"contour\"}], \"contourcarpet\": [{\"colorbar\": {\"outlinewidth\": 0, \"ticks\": \"\"}, \"type\": \"contourcarpet\"}], \"heatmap\": [{\"colorbar\": {\"outlinewidth\": 0, \"ticks\": \"\"}, \"colorscale\": [[0.0, \"#0d0887\"], [0.1111111111111111, \"#46039f\"], [0.2222222222222222, \"#7201a8\"], [0.3333333333333333, \"#9c179e\"], [0.4444444444444444, \"#bd3786\"], [0.5555555555555556, \"#d8576b\"], [0.6666666666666666, \"#ed7953\"], [0.7777777777777778, \"#fb9f3a\"], [0.8888888888888888, \"#fdca26\"], [1.0, \"#f0f921\"]], \"type\": \"heatmap\"}], \"heatmapgl\": [{\"colorbar\": {\"outlinewidth\": 0, \"ticks\": \"\"}, \"colorscale\": [[0.0, \"#0d0887\"], [0.1111111111111111, \"#46039f\"], [0.2222222222222222, \"#7201a8\"], [0.3333333333333333, \"#9c179e\"], [0.4444444444444444, \"#bd3786\"], [0.5555555555555556, \"#d8576b\"], [0.6666666666666666, \"#ed7953\"], [0.7777777777777778, \"#fb9f3a\"], [0.8888888888888888, \"#fdca26\"], [1.0, \"#f0f921\"]], \"type\": \"heatmapgl\"}], \"histogram\": [{\"marker\": {\"colorbar\": {\"outlinewidth\": 0, \"ticks\": \"\"}}, \"type\": \"histogram\"}], \"histogram2d\": [{\"colorbar\": {\"outlinewidth\": 0, \"ticks\": \"\"}, \"colorscale\": [[0.0, \"#0d0887\"], [0.1111111111111111, \"#46039f\"], [0.2222222222222222, \"#7201a8\"], [0.3333333333333333, \"#9c179e\"], [0.4444444444444444, \"#bd3786\"], [0.5555555555555556, \"#d8576b\"], [0.6666666666666666, \"#ed7953\"], [0.7777777777777778, \"#fb9f3a\"], [0.8888888888888888, \"#fdca26\"], [1.0, \"#f0f921\"]], \"type\": \"histogram2d\"}], \"histogram2dcontour\": [{\"colorbar\": {\"outlinewidth\": 0, \"ticks\": \"\"}, \"colorscale\": [[0.0, \"#0d0887\"], [0.1111111111111111, \"#46039f\"], [0.2222222222222222, \"#7201a8\"], [0.3333333333333333, \"#9c179e\"], [0.4444444444444444, \"#bd3786\"], [0.5555555555555556, \"#d8576b\"], [0.6666666666666666, \"#ed7953\"], [0.7777777777777778, \"#fb9f3a\"], [0.8888888888888888, \"#fdca26\"], [1.0, \"#f0f921\"]], \"type\": \"histogram2dcontour\"}], \"mesh3d\": [{\"colorbar\": {\"outlinewidth\": 0, \"ticks\": \"\"}, \"type\": \"mesh3d\"}], \"parcoords\": [{\"line\": {\"colorbar\": {\"outlinewidth\": 0, \"ticks\": \"\"}}, \"type\": \"parcoords\"}], \"pie\": [{\"automargin\": true, \"type\": \"pie\"}], \"scatter\": [{\"marker\": {\"colorbar\": {\"outlinewidth\": 0, \"ticks\": \"\"}}, \"type\": \"scatter\"}], \"scatter3d\": [{\"line\": {\"colorbar\": {\"outlinewidth\": 0, \"ticks\": \"\"}}, \"marker\": {\"colorbar\": {\"outlinewidth\": 0, \"ticks\": \"\"}}, \"type\": \"scatter3d\"}], \"scattercarpet\": [{\"marker\": {\"colorbar\": {\"outlinewidth\": 0, \"ticks\": \"\"}}, \"type\": \"scattercarpet\"}], \"scattergeo\": [{\"marker\": {\"colorbar\": {\"outlinewidth\": 0, \"ticks\": \"\"}}, \"type\": \"scattergeo\"}], \"scattergl\": [{\"marker\": {\"colorbar\": {\"outlinewidth\": 0, \"ticks\": \"\"}}, \"type\": \"scattergl\"}], \"scattermapbox\": [{\"marker\": {\"colorbar\": {\"outlinewidth\": 0, \"ticks\": \"\"}}, \"type\": \"scattermapbox\"}], \"scatterpolar\": [{\"marker\": {\"colorbar\": {\"outlinewidth\": 0, \"ticks\": \"\"}}, \"type\": \"scatterpolar\"}], \"scatterpolargl\": [{\"marker\": {\"colorbar\": {\"outlinewidth\": 0, \"ticks\": \"\"}}, \"type\": \"scatterpolargl\"}], \"scatterternary\": [{\"marker\": {\"colorbar\": {\"outlinewidth\": 0, \"ticks\": \"\"}}, \"type\": \"scatterternary\"}], \"surface\": [{\"colorbar\": {\"outlinewidth\": 0, \"ticks\": \"\"}, \"colorscale\": [[0.0, \"#0d0887\"], [0.1111111111111111, \"#46039f\"], [0.2222222222222222, \"#7201a8\"], [0.3333333333333333, \"#9c179e\"], [0.4444444444444444, \"#bd3786\"], [0.5555555555555556, \"#d8576b\"], [0.6666666666666666, \"#ed7953\"], [0.7777777777777778, \"#fb9f3a\"], [0.8888888888888888, \"#fdca26\"], [1.0, \"#f0f921\"]], \"type\": \"surface\"}], \"table\": [{\"cells\": {\"fill\": {\"color\": \"#EBF0F8\"}, \"line\": {\"color\": \"white\"}}, \"header\": {\"fill\": {\"color\": \"#C8D4E3\"}, \"line\": {\"color\": \"white\"}}, \"type\": \"table\"}]}, \"layout\": {\"annotationdefaults\": {\"arrowcolor\": \"#2a3f5f\", \"arrowhead\": 0, \"arrowwidth\": 1}, \"autotypenumbers\": \"strict\", \"coloraxis\": {\"colorbar\": {\"outlinewidth\": 0, \"ticks\": \"\"}}, \"colorscale\": {\"diverging\": [[0, \"#8e0152\"], [0.1, \"#c51b7d\"], [0.2, \"#de77ae\"], [0.3, \"#f1b6da\"], [0.4, \"#fde0ef\"], [0.5, \"#f7f7f7\"], [0.6, \"#e6f5d0\"], [0.7, \"#b8e186\"], [0.8, \"#7fbc41\"], [0.9, \"#4d9221\"], [1, \"#276419\"]], \"sequential\": [[0.0, \"#0d0887\"], [0.1111111111111111, \"#46039f\"], [0.2222222222222222, \"#7201a8\"], [0.3333333333333333, \"#9c179e\"], [0.4444444444444444, \"#bd3786\"], [0.5555555555555556, \"#d8576b\"], [0.6666666666666666, \"#ed7953\"], [0.7777777777777778, \"#fb9f3a\"], [0.8888888888888888, \"#fdca26\"], [1.0, \"#f0f921\"]], \"sequentialminus\": [[0.0, \"#0d0887\"], [0.1111111111111111, \"#46039f\"], [0.2222222222222222, \"#7201a8\"], [0.3333333333333333, \"#9c179e\"], [0.4444444444444444, \"#bd3786\"], [0.5555555555555556, \"#d8576b\"], [0.6666666666666666, \"#ed7953\"], [0.7777777777777778, \"#fb9f3a\"], [0.8888888888888888, \"#fdca26\"], [1.0, \"#f0f921\"]]}, \"colorway\": [\"#636efa\", \"#EF553B\", \"#00cc96\", \"#ab63fa\", \"#FFA15A\", \"#19d3f3\", \"#FF6692\", \"#B6E880\", \"#FF97FF\", \"#FECB52\"], \"font\": {\"color\": \"#2a3f5f\"}, \"geo\": {\"bgcolor\": \"white\", \"lakecolor\": \"white\", \"landcolor\": \"#E5ECF6\", \"showlakes\": true, \"showland\": true, \"subunitcolor\": \"white\"}, \"hoverlabel\": {\"align\": \"left\"}, \"hovermode\": \"closest\", \"mapbox\": {\"style\": \"light\"}, \"paper_bgcolor\": \"white\", \"plot_bgcolor\": \"#E5ECF6\", \"polar\": {\"angularaxis\": {\"gridcolor\": \"white\", \"linecolor\": \"white\", \"ticks\": \"\"}, \"bgcolor\": \"#E5ECF6\", \"radialaxis\": {\"gridcolor\": \"white\", \"linecolor\": \"white\", \"ticks\": \"\"}}, \"scene\": {\"xaxis\": {\"backgroundcolor\": \"#E5ECF6\", \"gridcolor\": \"white\", \"gridwidth\": 2, \"linecolor\": \"white\", \"showbackground\": true, \"ticks\": \"\", \"zerolinecolor\": \"white\"}, \"yaxis\": {\"backgroundcolor\": \"#E5ECF6\", \"gridcolor\": \"white\", \"gridwidth\": 2, \"linecolor\": \"white\", \"showbackground\": true, \"ticks\": \"\", \"zerolinecolor\": \"white\"}, \"zaxis\": {\"backgroundcolor\": \"#E5ECF6\", \"gridcolor\": \"white\", \"gridwidth\": 2, \"linecolor\": \"white\", \"showbackground\": true, \"ticks\": \"\", \"zerolinecolor\": \"white\"}}, \"shapedefaults\": {\"line\": {\"color\": \"#2a3f5f\"}}, \"ternary\": {\"aaxis\": {\"gridcolor\": \"white\", \"linecolor\": \"white\", \"ticks\": \"\"}, \"baxis\": {\"gridcolor\": \"white\", \"linecolor\": \"white\", \"ticks\": \"\"}, \"bgcolor\": \"#E5ECF6\", \"caxis\": {\"gridcolor\": \"white\", \"linecolor\": \"white\", \"ticks\": \"\"}}, \"title\": {\"x\": 0.05}, \"xaxis\": {\"automargin\": true, \"gridcolor\": \"white\", \"linecolor\": \"white\", \"ticks\": \"\", \"title\": {\"standoff\": 15}, \"zerolinecolor\": \"white\", \"zerolinewidth\": 2}, \"yaxis\": {\"automargin\": true, \"gridcolor\": \"white\", \"linecolor\": \"white\", \"ticks\": \"\", \"title\": {\"standoff\": 15}, \"zerolinecolor\": \"white\", \"zerolinewidth\": 2}}}, \"width\": 400, \"xaxis\": {\"anchor\": \"y\", \"domain\": [0.0, 1.0], \"title\": {\"text\": \"x\"}}, \"yaxis\": {\"anchor\": \"x\", \"domain\": [0.0, 1.0], \"title\": {\"text\": \"y\"}}},                        {\"responsive\": true}                    ).then(function(){\n",
              "                            \n",
              "var gd = document.getElementById('98bb4d23-8869-4000-a64d-a4d0d21be1b5');\n",
              "var x = new MutationObserver(function (mutations, observer) {{\n",
              "        var display = window.getComputedStyle(gd).display;\n",
              "        if (!display || display === 'none') {{\n",
              "            console.log([gd, 'removed!']);\n",
              "            Plotly.purge(gd);\n",
              "            observer.disconnect();\n",
              "        }}\n",
              "}});\n",
              "\n",
              "// Listen for the removal of the full notebook cells\n",
              "var notebookContainer = gd.closest('#notebook-container');\n",
              "if (notebookContainer) {{\n",
              "    x.observe(notebookContainer, {childList: true});\n",
              "}}\n",
              "\n",
              "// Listen for the clearing of the current output cell\n",
              "var outputEl = gd.closest('.output');\n",
              "if (outputEl) {{\n",
              "    x.observe(outputEl, {childList: true});\n",
              "}}\n",
              "\n",
              "                        })                };                            </script>        </div>\n",
              "</body>\n",
              "</html>"
            ]
          },
          "metadata": {
            "tags": []
          }
        }
      ]
    },
    {
      "cell_type": "markdown",
      "metadata": {
        "id": "ezBssFSqogl0"
      },
      "source": [
        "## 6. 解析\n",
        "\n",
        "　ここでは、XYプロットとMAプロットを図示し、シグナル強度の分布を調べます。"
      ]
    },
    {
      "cell_type": "code",
      "metadata": {
        "colab": {
          "base_uri": "https://localhost:8080/",
          "height": 196
        },
        "id": "CAVNmH5tK2kP",
        "outputId": "4c0a87d7-8162-41ee-c4ec-ecfeba324965"
      },
      "source": [
        "df_filtered.head(3)"
      ],
      "execution_count": null,
      "outputs": [
        {
          "output_type": "execute_result",
          "data": {
            "text/html": [
              "<div>\n",
              "<style scoped>\n",
              "    .dataframe tbody tr th:only-of-type {\n",
              "        vertical-align: middle;\n",
              "    }\n",
              "\n",
              "    .dataframe tbody tr th {\n",
              "        vertical-align: top;\n",
              "    }\n",
              "\n",
              "    .dataframe thead th {\n",
              "        text-align: right;\n",
              "    }\n",
              "</style>\n",
              "<table border=\"1\" class=\"dataframe\">\n",
              "  <thead>\n",
              "    <tr style=\"text-align: right;\">\n",
              "      <th></th>\n",
              "      <th>FeatureNum</th>\n",
              "      <th>ControlType</th>\n",
              "      <th>ProbeName</th>\n",
              "      <th>SystematicName</th>\n",
              "      <th>mock</th>\n",
              "      <th>siVIM-270</th>\n",
              "      <th>siVIM-270(2'OMe2-5)</th>\n",
              "      <th>siVIM-270(2'OMe6-8)</th>\n",
              "      <th>siVIM-270(2'OMe2-8)</th>\n",
              "      <th>ProbeID</th>\n",
              "      <th>GeneSymbol</th>\n",
              "    </tr>\n",
              "  </thead>\n",
              "  <tbody>\n",
              "    <tr>\n",
              "      <th>0</th>\n",
              "      <td>7</td>\n",
              "      <td>0</td>\n",
              "      <td>A_32_P194264</td>\n",
              "      <td>NM_001008708</td>\n",
              "      <td>2894.36200</td>\n",
              "      <td>3003.69500</td>\n",
              "      <td>2711.62200</td>\n",
              "      <td>2991.08900</td>\n",
              "      <td>2597.48700</td>\n",
              "      <td>A_32_P194264</td>\n",
              "      <td>CHAC2</td>\n",
              "    </tr>\n",
              "    <tr>\n",
              "      <th>1</th>\n",
              "      <td>8</td>\n",
              "      <td>0</td>\n",
              "      <td>A_23_P153745</td>\n",
              "      <td>NM_006332</td>\n",
              "      <td>36836.57000</td>\n",
              "      <td>36372.94000</td>\n",
              "      <td>32831.89000</td>\n",
              "      <td>36108.64000</td>\n",
              "      <td>33039.81000</td>\n",
              "      <td>A_23_P153745</td>\n",
              "      <td>IFI30</td>\n",
              "    </tr>\n",
              "    <tr>\n",
              "      <th>2</th>\n",
              "      <td>13</td>\n",
              "      <td>0</td>\n",
              "      <td>A_24_P944991</td>\n",
              "      <td>NM_173829</td>\n",
              "      <td>64.05411</td>\n",
              "      <td>53.48488</td>\n",
              "      <td>53.25852</td>\n",
              "      <td>67.57403</td>\n",
              "      <td>67.96294</td>\n",
              "      <td>A_24_P944991</td>\n",
              "      <td>SREK1IP1</td>\n",
              "    </tr>\n",
              "  </tbody>\n",
              "</table>\n",
              "</div>"
            ],
            "text/plain": [
              "   FeatureNum  ControlType  ...       ProbeID GeneSymbol\n",
              "0           7            0  ...  A_32_P194264      CHAC2\n",
              "1           8            0  ...  A_23_P153745      IFI30\n",
              "2          13            0  ...  A_24_P944991   SREK1IP1\n",
              "\n",
              "[3 rows x 11 columns]"
            ]
          },
          "metadata": {
            "tags": []
          },
          "execution_count": 84
        }
      ]
    },
    {
      "cell_type": "code",
      "metadata": {
        "id": "6jrkvgaBM-nO"
      },
      "source": [
        ""
      ],
      "execution_count": null,
      "outputs": []
    },
    {
      "cell_type": "code",
      "metadata": {
        "colab": {
          "base_uri": "https://localhost:8080/"
        },
        "id": "d8lwC6F7Mws7",
        "outputId": "6774b12a-c2a4-4002-f485-125cf73f037c"
      },
      "source": [
        "df_filtered[\"siVIM-270\"].values"
      ],
      "execution_count": null,
      "outputs": [
        {
          "output_type": "execute_result",
          "data": {
            "text/plain": [
              "array([3.003695e+03, 3.637294e+04, 5.348488e+01, ..., 1.225478e+02,\n",
              "       1.634233e+01, 1.909255e+03])"
            ]
          },
          "metadata": {
            "tags": []
          },
          "execution_count": 92
        }
      ]
    },
    {
      "cell_type": "code",
      "metadata": {
        "id": "w6smlvz4OAqX"
      },
      "source": [
        ""
      ],
      "execution_count": null,
      "outputs": []
    },
    {
      "cell_type": "markdown",
      "metadata": {
        "id": "qLPnU5tepmGv"
      },
      "source": [
        "### 6.1 X-Y プロット\n",
        "\n",
        "- サンプル $X$ の `gProcessedSignal` （$\\log_2(\\text{gProcessedSignal})$） の値を横軸\n",
        "- サンプル $Y$ の `gProcessedSignal` （$\\log_2(\\text{gProcessedSignal})$） の値を縦軸\n",
        "\n",
        "にプロットしたものを **X-Yプロット** と呼びます。"
      ]
    },
    {
      "cell_type": "code",
      "metadata": {
        "colab": {
          "base_uri": "https://localhost:8080/"
        },
        "id": "I3KOaZYJTS9y",
        "outputId": "c12f2057-b2b5-4679-c509-00f0f2caaace"
      },
      "source": [
        "np.log2(df_filtered[\"mock\"].values)"
      ],
      "execution_count": null,
      "outputs": [
        {
          "output_type": "execute_result",
          "data": {
            "text/plain": [
              "array([11.49902966, 15.16885111,  6.00121924, ...,  7.15462472,\n",
              "        4.45067548, 11.78333428])"
            ]
          },
          "metadata": {
            "tags": []
          },
          "execution_count": 112
        }
      ]
    },
    {
      "cell_type": "code",
      "metadata": {
        "colab": {
          "base_uri": "https://localhost:8080/",
          "height": 282
        },
        "id": "NRSi8Xb2K92i",
        "outputId": "8601ac3d-ea0b-4d64-d50e-3cd55fd74a28"
      },
      "source": [
        "plt.scatter(\n",
        "    x=np.log2(df_filtered[\"mock\"]), \n",
        "    y=np.log2(df_filtered[\"siVIM-270\"]),\n",
        ")"
      ],
      "execution_count": null,
      "outputs": [
        {
          "output_type": "execute_result",
          "data": {
            "text/plain": [
              "<matplotlib.collections.PathCollection at 0x7f6f92f4d1d0>"
            ]
          },
          "metadata": {
            "tags": []
          },
          "execution_count": 98
        },
        {
          "output_type": "display_data",
          "data": {
            "image/png": "[encoded data removed]",
            "text/plain": [
              "<Figure size 432x288 with 1 Axes>"
            ]
          },
          "metadata": {
            "tags": [],
            "needs_background": "light"
          }
        }
      ]
    },
    {
      "cell_type": "code",
      "metadata": {
        "colab": {
          "base_uri": "https://localhost:8080/",
          "height": 134
        },
        "id": "Hfd1t7yBQdpK",
        "outputId": "c38e444f-cb35-4dfd-d113-8882d60f8873"
      },
      "source": [
        "df_filtered[df_filtered[\"GeneSymbol\"] == \"VIM\"]"
      ],
      "execution_count": null,
      "outputs": [
        {
          "output_type": "execute_result",
          "data": {
            "text/html": [
              "<div>\n",
              "<style scoped>\n",
              "    .dataframe tbody tr th:only-of-type {\n",
              "        vertical-align: middle;\n",
              "    }\n",
              "\n",
              "    .dataframe tbody tr th {\n",
              "        vertical-align: top;\n",
              "    }\n",
              "\n",
              "    .dataframe thead th {\n",
              "        text-align: right;\n",
              "    }\n",
              "</style>\n",
              "<table border=\"1\" class=\"dataframe\">\n",
              "  <thead>\n",
              "    <tr style=\"text-align: right;\">\n",
              "      <th></th>\n",
              "      <th>FeatureNum</th>\n",
              "      <th>ControlType</th>\n",
              "      <th>ProbeName</th>\n",
              "      <th>SystematicName</th>\n",
              "      <th>mock</th>\n",
              "      <th>siVIM-270</th>\n",
              "      <th>siVIM-270(2'OMe2-5)</th>\n",
              "      <th>siVIM-270(2'OMe6-8)</th>\n",
              "      <th>siVIM-270(2'OMe2-8)</th>\n",
              "      <th>ProbeID</th>\n",
              "      <th>GeneSymbol</th>\n",
              "    </tr>\n",
              "  </thead>\n",
              "  <tbody>\n",
              "    <tr>\n",
              "      <th>27201</th>\n",
              "      <td>60373</td>\n",
              "      <td>0</td>\n",
              "      <td>A_23_P161190</td>\n",
              "      <td>NM_003380</td>\n",
              "      <td>128840.8</td>\n",
              "      <td>23481.58</td>\n",
              "      <td>23431.72</td>\n",
              "      <td>18476.52</td>\n",
              "      <td>25521.46</td>\n",
              "      <td>A_23_P161190</td>\n",
              "      <td>VIM</td>\n",
              "    </tr>\n",
              "  </tbody>\n",
              "</table>\n",
              "</div>"
            ],
            "text/plain": [
              "       FeatureNum  ControlType  ...       ProbeID GeneSymbol\n",
              "27201       60373            0  ...  A_23_P161190        VIM\n",
              "\n",
              "[1 rows x 11 columns]"
            ]
          },
          "metadata": {
            "tags": []
          },
          "execution_count": 101
        }
      ]
    },
    {
      "cell_type": "markdown",
      "metadata": {
        "id": "fwsTQ5zPpqOx"
      },
      "source": [
        "### 6.2 MAプロット\n",
        "\n",
        "- $log_2(Y/X)$ を縦軸 (Minus)\n",
        "- $log_{10}(XY)$ を横軸 (Average)\n",
        "\n",
        "にプロットしたものを **M-Aプロット** と呼びます。"
      ]
    },
    {
      "cell_type": "code",
      "metadata": {
        "id": "mLu-LGuST79r"
      },
      "source": [
        "x = df_filtered[\"mock\"].values\n",
        "y = df_filtered[\"siVIM-270\"].values"
      ],
      "execution_count": null,
      "outputs": []
    },
    {
      "cell_type": "code",
      "metadata": {
        "id": "o-uOZ44mRghG"
      },
      "source": [
        "# df_vim = df_filtered[df_filtered[\"GeneSymbol\"]==\"VIM\"]\n",
        "# df_vim"
      ],
      "execution_count": null,
      "outputs": []
    },
    {
      "cell_type": "code",
      "metadata": {
        "id": "Dxy91_GnpoL_",
        "colab": {
          "base_uri": "https://localhost:8080/",
          "height": 282
        },
        "outputId": "7daa1787-329e-4848-9798-3e1311c2518f"
      },
      "source": [
        "x = df_filtered[\"mock\"].values\n",
        "y = df_filtered[\"siVIM-270\"].values\n",
        "plt.scatter(\n",
        "    x=np.log10(x*y),\n",
        "    y=np.log2(y/x),\n",
        ")"
      ],
      "execution_count": null,
      "outputs": [
        {
          "output_type": "execute_result",
          "data": {
            "text/plain": [
              "<matplotlib.collections.PathCollection at 0x7f6f97c5b250>"
            ]
          },
          "metadata": {
            "tags": []
          },
          "execution_count": 106
        },
        {
          "output_type": "display_data",
          "data": {
            "image/png": "[encoded data removed]",
            "text/plain": [
              "<Figure size 432x288 with 1 Axes>"
            ]
          },
          "metadata": {
            "tags": [],
            "needs_background": "light"
          }
        }
      ]
    },
    {
      "cell_type": "markdown",
      "metadata": {
        "id": "b4duv4S9qLvA"
      },
      "source": [
        "## 7. 発展\n",
        "\n",
        "　より良いデータ解析のためには、以下のことが欠かせません。\n",
        "\n",
        "- プローブのSummarization\n",
        "- サンプル間のNormalization\n",
        "- サンプルのSummarization"
      ]
    },
    {
      "cell_type": "markdown",
      "metadata": {
        "id": "4hlR-VJlqvs7"
      },
      "source": [
        "## 7. 特定の塩基配列を持つ遺伝子の発現量の変化を調べる\n",
        "\n",
        "　入力した配列を3'UTRにもつ遺伝子（アクセッション番号）のリストを表示するページ（[seedmatch](http://atlas.RNAi.jp/seedmatch/)）を用いて、特定の配列を3'UTRに持つ遺伝子群を見てみましょう。"
      ]
    },
    {
      "cell_type": "markdown",
      "metadata": {
        "id": "U7czk6Apr7LN"
      },
      "source": [
        "### 7.1 シード領域と相補的な配列を持つ遺伝子について調べる\n",
        "\n",
        "siRNAのガイド鎖の5'末端から2-8塩基目の7塩基（シード領域と呼ばれます。今回は `UGAACUC`）と相補的な配列（`GAGTTCA`）を3'UTRにもつmRNAsを検索してみましょう。"
      ]
    },
    {
      "cell_type": "code",
      "metadata": {
        "id": "7Ba7AQzQrSdw"
      },
      "source": [
        ""
      ],
      "execution_count": null,
      "outputs": []
    },
    {
      "cell_type": "code",
      "metadata": {
        "id": "MDBdElgWVqe4"
      },
      "source": [
        ""
      ],
      "execution_count": null,
      "outputs": []
    },
    {
      "cell_type": "code",
      "metadata": {
        "id": "51iiHc_krbFa",
        "colab": {
          "base_uri": "https://localhost:8080/",
          "height": 196
        },
        "outputId": "7f445743-b85f-4f34-f450-6df5bc29a07a"
      },
      "source": [
        "# seedmatchで検索したデータと紐付ける。\n",
        "df_is_matched = pd.merge(df_filtered, df_matched_mRNAs, on=\"SystematicName\", how=\"left\").fillna(0)\n",
        "df_is_matched.head(3)"
      ],
      "execution_count": null,
      "outputs": [
        {
          "output_type": "execute_result",
          "data": {
            "text/html": [
              "<div>\n",
              "<style scoped>\n",
              "    .dataframe tbody tr th:only-of-type {\n",
              "        vertical-align: middle;\n",
              "    }\n",
              "\n",
              "    .dataframe tbody tr th {\n",
              "        vertical-align: top;\n",
              "    }\n",
              "\n",
              "    .dataframe thead th {\n",
              "        text-align: right;\n",
              "    }\n",
              "</style>\n",
              "<table border=\"1\" class=\"dataframe\">\n",
              "  <thead>\n",
              "    <tr style=\"text-align: right;\">\n",
              "      <th></th>\n",
              "      <th>FeatureNum</th>\n",
              "      <th>ControlType</th>\n",
              "      <th>ProbeName</th>\n",
              "      <th>SystematicName</th>\n",
              "      <th>mock</th>\n",
              "      <th>siVIM-270</th>\n",
              "      <th>siVIM-270(2'OMe2-5)</th>\n",
              "      <th>siVIM-270(2'OMe6-8)</th>\n",
              "      <th>siVIM-270(2'OMe2-8)</th>\n",
              "      <th>ProbeID</th>\n",
              "      <th>GeneSymbol</th>\n",
              "      <th>NumHits</th>\n",
              "    </tr>\n",
              "  </thead>\n",
              "  <tbody>\n",
              "    <tr>\n",
              "      <th>0</th>\n",
              "      <td>7</td>\n",
              "      <td>0</td>\n",
              "      <td>A_32_P194264</td>\n",
              "      <td>NM_001008708</td>\n",
              "      <td>2894.36200</td>\n",
              "      <td>3003.69500</td>\n",
              "      <td>2711.62200</td>\n",
              "      <td>2991.08900</td>\n",
              "      <td>2597.48700</td>\n",
              "      <td>A_32_P194264</td>\n",
              "      <td>CHAC2</td>\n",
              "      <td>0.0</td>\n",
              "    </tr>\n",
              "    <tr>\n",
              "      <th>1</th>\n",
              "      <td>8</td>\n",
              "      <td>0</td>\n",
              "      <td>A_23_P153745</td>\n",
              "      <td>NM_006332</td>\n",
              "      <td>36836.57000</td>\n",
              "      <td>36372.94000</td>\n",
              "      <td>32831.89000</td>\n",
              "      <td>36108.64000</td>\n",
              "      <td>33039.81000</td>\n",
              "      <td>A_23_P153745</td>\n",
              "      <td>IFI30</td>\n",
              "      <td>0.0</td>\n",
              "    </tr>\n",
              "    <tr>\n",
              "      <th>2</th>\n",
              "      <td>13</td>\n",
              "      <td>0</td>\n",
              "      <td>A_24_P944991</td>\n",
              "      <td>NM_173829</td>\n",
              "      <td>64.05411</td>\n",
              "      <td>53.48488</td>\n",
              "      <td>53.25852</td>\n",
              "      <td>67.57403</td>\n",
              "      <td>67.96294</td>\n",
              "      <td>A_24_P944991</td>\n",
              "      <td>SREK1IP1</td>\n",
              "      <td>1.0</td>\n",
              "    </tr>\n",
              "  </tbody>\n",
              "</table>\n",
              "</div>"
            ],
            "text/plain": [
              "   FeatureNum  ControlType     ProbeName  ...       ProbeID  GeneSymbol  NumHits\n",
              "0           7            0  A_32_P194264  ...  A_32_P194264       CHAC2      0.0\n",
              "1           8            0  A_23_P153745  ...  A_23_P153745       IFI30      0.0\n",
              "2          13            0  A_24_P944991  ...  A_24_P944991    SREK1IP1      1.0\n",
              "\n",
              "[3 rows x 12 columns]"
            ]
          },
          "metadata": {
            "tags": []
          },
          "execution_count": 123
        }
      ]
    },
    {
      "cell_type": "code",
      "metadata": {
        "id": "mxmIESlkrcOH",
        "colab": {
          "base_uri": "https://localhost:8080/",
          "height": 196
        },
        "outputId": "e413de7a-847f-4b53-b650-ec67c2ac007f"
      },
      "source": [
        "# 累積度数曲線を描くために、ソートする。\n",
        "df_is_matched[\"log2(RNA/mock)\"] = np.log2(df_is_matched[\"siVIM-270\"]/df_is_matched[\"mock\"])\n",
        "df_is_matched = df_is_matched.sort_values(by=\"log2(RNA/mock)\").reset_index(drop=False)\n",
        "df_is_matched.head(3)"
      ],
      "execution_count": null,
      "outputs": [
        {
          "output_type": "execute_result",
          "data": {
            "text/html": [
              "<div>\n",
              "<style scoped>\n",
              "    .dataframe tbody tr th:only-of-type {\n",
              "        vertical-align: middle;\n",
              "    }\n",
              "\n",
              "    .dataframe tbody tr th {\n",
              "        vertical-align: top;\n",
              "    }\n",
              "\n",
              "    .dataframe thead th {\n",
              "        text-align: right;\n",
              "    }\n",
              "</style>\n",
              "<table border=\"1\" class=\"dataframe\">\n",
              "  <thead>\n",
              "    <tr style=\"text-align: right;\">\n",
              "      <th></th>\n",
              "      <th>index</th>\n",
              "      <th>FeatureNum</th>\n",
              "      <th>ControlType</th>\n",
              "      <th>ProbeName</th>\n",
              "      <th>SystematicName</th>\n",
              "      <th>mock</th>\n",
              "      <th>siVIM-270</th>\n",
              "      <th>siVIM-270(2'OMe2-5)</th>\n",
              "      <th>siVIM-270(2'OMe6-8)</th>\n",
              "      <th>siVIM-270(2'OMe2-8)</th>\n",
              "      <th>ProbeID</th>\n",
              "      <th>GeneSymbol</th>\n",
              "      <th>NumHits</th>\n",
              "      <th>log2(RNA/mock)</th>\n",
              "    </tr>\n",
              "  </thead>\n",
              "  <tbody>\n",
              "    <tr>\n",
              "      <th>0</th>\n",
              "      <td>8370</td>\n",
              "      <td>18885</td>\n",
              "      <td>0</td>\n",
              "      <td>A_21_P0014513</td>\n",
              "      <td>ENST00000518570</td>\n",
              "      <td>610.3906</td>\n",
              "      <td>41.32947</td>\n",
              "      <td>41.46609</td>\n",
              "      <td>46.29550</td>\n",
              "      <td>29.80138</td>\n",
              "      <td>A_21_P0014513</td>\n",
              "      <td>unknown</td>\n",
              "      <td>0.0</td>\n",
              "      <td>-3.884490</td>\n",
              "    </tr>\n",
              "    <tr>\n",
              "      <th>1</th>\n",
              "      <td>4580</td>\n",
              "      <td>10498</td>\n",
              "      <td>0</td>\n",
              "      <td>A_33_P3397716</td>\n",
              "      <td>ENST00000355837</td>\n",
              "      <td>195.2470</td>\n",
              "      <td>17.37097</td>\n",
              "      <td>24.58954</td>\n",
              "      <td>20.62478</td>\n",
              "      <td>28.07602</td>\n",
              "      <td>A_33_P3397716</td>\n",
              "      <td>unknown</td>\n",
              "      <td>0.0</td>\n",
              "      <td>-3.490550</td>\n",
              "    </tr>\n",
              "    <tr>\n",
              "      <th>2</th>\n",
              "      <td>12475</td>\n",
              "      <td>27990</td>\n",
              "      <td>0</td>\n",
              "      <td>A_33_P3219245</td>\n",
              "      <td>NR_023390</td>\n",
              "      <td>238.7709</td>\n",
              "      <td>34.05103</td>\n",
              "      <td>36.50751</td>\n",
              "      <td>38.06785</td>\n",
              "      <td>42.29378</td>\n",
              "      <td>A_33_P3219245</td>\n",
              "      <td>LINC00476</td>\n",
              "      <td>0.0</td>\n",
              "      <td>-2.809857</td>\n",
              "    </tr>\n",
              "  </tbody>\n",
              "</table>\n",
              "</div>"
            ],
            "text/plain": [
              "   index  FeatureNum  ControlType  ... GeneSymbol NumHits  log2(RNA/mock)\n",
              "0   8370       18885            0  ...    unknown     0.0       -3.884490\n",
              "1   4580       10498            0  ...    unknown     0.0       -3.490550\n",
              "2  12475       27990            0  ...  LINC00476     0.0       -2.809857\n",
              "\n",
              "[3 rows x 14 columns]"
            ]
          },
          "metadata": {
            "tags": []
          },
          "execution_count": 124
        }
      ]
    },
    {
      "cell_type": "code",
      "metadata": {
        "id": "PoGw-Iolridk"
      },
      "source": [
        "y = [i/len(df_is_matched) for i in range(len(df_is_matched))]\n",
        "x = df_is_matched[\"log2(RNA/mock)\"].values"
      ],
      "execution_count": null,
      "outputs": []
    },
    {
      "cell_type": "code",
      "metadata": {
        "id": "GChbLTieXZFs"
      },
      "source": [
        ""
      ],
      "execution_count": null,
      "outputs": []
    },
    {
      "cell_type": "markdown",
      "metadata": {
        "id": "6LWjMQIosHT4"
      },
      "source": [
        "### 7.2 さらに遊んでみる。\n",
        "\n"
      ]
    },
    {
      "cell_type": "markdown",
      "metadata": {
        "id": "Qioz90FfsL3a"
      },
      "source": [
        "　ここから先は、みなさんが興味を持った点について、思う存分データで遊んでいただく時間です。\n",
        "\n",
        "- マッチするシードの数（`NumHits`）って、多い方が抑制されてる？？\n",
        "- そもそもなんで2-8の7merでオフターゲット効果が起きるの？？\n",
        "  - 1-7や3-9は？？\n",
        "  - 6merや9merは？？\n",
        "  - Argonauteタンパク質と結合（loading）し、RISC(RNA induced silencing complex)を形成するが、構造的に…\n",
        "- 統計的に有意だと言える？？\n",
        "\n",
        "面白そうなことについては、積極的に調べて見てください！！\n",
        "\n",
        "※ 以下に、使えそうなツールを用意しておきました。ぜひ解析に役立ててください！！"
      ]
    },
    {
      "cell_type": "code",
      "metadata": {
        "id": "uBtTiEVXsMQJ"
      },
      "source": [
        "from teilab.seedmatch import get_matched_mRNAs"
      ],
      "execution_count": null,
      "outputs": []
    },
    {
      "cell_type": "code",
      "metadata": {
        "id": "bmM9GTwusPhS",
        "colab": {
          "base_uri": "https://localhost:8080/",
          "height": 204
        },
        "outputId": "1b39c85b-6bec-4f88-e4c9-fe3e4a546bd8"
      },
      "source": [
        "df_matched_mRNAs = get_matched_mRNAs(\"GTTGATG\")\n",
        "df_matched_mRNAs.head(5)"
      ],
      "execution_count": null,
      "outputs": [
        {
          "output_type": "execute_result",
          "data": {
            "text/html": [
              "<div>\n",
              "<style scoped>\n",
              "    .dataframe tbody tr th:only-of-type {\n",
              "        vertical-align: middle;\n",
              "    }\n",
              "\n",
              "    .dataframe tbody tr th {\n",
              "        vertical-align: top;\n",
              "    }\n",
              "\n",
              "    .dataframe thead th {\n",
              "        text-align: right;\n",
              "    }\n",
              "</style>\n",
              "<table border=\"1\" class=\"dataframe\">\n",
              "  <thead>\n",
              "    <tr style=\"text-align: right;\">\n",
              "      <th></th>\n",
              "      <th>SystematicName</th>\n",
              "      <th>NumHits</th>\n",
              "    </tr>\n",
              "  </thead>\n",
              "  <tbody>\n",
              "    <tr>\n",
              "      <th>0</th>\n",
              "      <td>NM_001013628</td>\n",
              "      <td>2</td>\n",
              "    </tr>\n",
              "    <tr>\n",
              "      <th>1</th>\n",
              "      <td>NM_001105520</td>\n",
              "      <td>1</td>\n",
              "    </tr>\n",
              "    <tr>\n",
              "      <th>2</th>\n",
              "      <td>NM_001146041</td>\n",
              "      <td>1</td>\n",
              "    </tr>\n",
              "    <tr>\n",
              "      <th>3</th>\n",
              "      <td>NM_001134657</td>\n",
              "      <td>1</td>\n",
              "    </tr>\n",
              "    <tr>\n",
              "      <th>4</th>\n",
              "      <td>NM_001134659</td>\n",
              "      <td>1</td>\n",
              "    </tr>\n",
              "  </tbody>\n",
              "</table>\n",
              "</div>"
            ],
            "text/plain": [
              "  SystematicName NumHits\n",
              "0   NM_001013628       2\n",
              "1   NM_001105520       1\n",
              "2   NM_001146041       1\n",
              "3   NM_001134657       1\n",
              "4   NM_001134659       1"
            ]
          },
          "metadata": {
            "tags": []
          },
          "execution_count": 132
        }
      ]
    },
    {
      "cell_type": "code",
      "metadata": {
        "id": "jFdEpmQ4sSYR"
      },
      "source": [
        ""
      ],
      "execution_count": null,
      "outputs": []
    }
  ]
}