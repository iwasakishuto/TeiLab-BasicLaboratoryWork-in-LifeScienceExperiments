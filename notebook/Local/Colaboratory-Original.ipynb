{
 "cells": [
  {
   "cell_type": "markdown",
   "id": "72d8a1c6",
   "metadata": {},
   "source": [
    "# マイクロアレイデータ解析"
   ]
  },
  {
   "cell_type": "markdown",
   "id": "92ffc9d4",
   "metadata": {},
   "source": [
    "Google Colaboratory 作成時の元となったノートブックです。"
   ]
  },
  {
   "cell_type": "code",
   "execution_count": 19,
   "id": "ed49755d",
   "metadata": {},
   "outputs": [
    {
     "name": "stdout",
     "output_type": "stream",
     "text": [
      "3.8.9 (default, Apr  3 2021, 01:50:09) \n",
      "[Clang 12.0.0 (clang-1200.0.32.29)]\n",
      "teilab version: \"2022S\"\n"
     ]
    }
   ],
   "source": [
    "import sys\n",
    "import teilab\n",
    "\n",
    "print(sys.version)\n",
    "print(f'teilab version: \"{teilab.__version__}\"')"
   ]
  },
  {
   "cell_type": "markdown",
   "id": "bdaccab8",
   "metadata": {},
   "source": [
    "## 0 匿名で質問をとばす"
   ]
  },
  {
   "cell_type": "code",
   "execution_count": 20,
   "id": "ab1fed01",
   "metadata": {},
   "outputs": [],
   "source": [
    "from teilab.question import ask\n",
    "\n",
    "ret = ask(\n",
    "    text=\"Question from local jupyter notebook\", \n",
    "    username=\"anonymous\", \n",
    "    icon_emoji=\":grinning:\", \n",
    ")"
   ]
  },
  {
   "cell_type": "markdown",
   "id": "238e7d84",
   "metadata": {},
   "source": [
    "## 1 データの準備"
   ]
  },
  {
   "cell_type": "markdown",
   "id": "eaba2b85",
   "metadata": {},
   "source": [
    "続いて、データの準備に取り掛かります。`teilab` パッケージを用いてデータのダウンロードを行います。"
   ]
  },
  {
   "cell_type": "code",
   "execution_count": 98,
   "id": "9e2d8bd5",
   "metadata": {},
   "outputs": [],
   "source": [
    "import numpy as np\n",
    "import pandas as pd\n",
    "import numpy.typing as npt\n",
    "from teilab.datasets import TeiLabDataSets\n",
    "from typing import List, Optional, Union\n",
    "\n",
    "dataset = TeiLabDataSets()"
   ]
  },
  {
   "cell_type": "code",
   "execution_count": 41,
   "id": "ade419bf",
   "metadata": {},
   "outputs": [],
   "source": [
    "password1 = \"microarray2021S\"\n",
    "path1 = dataset.get_data(password=password1)"
   ]
  },
  {
   "cell_type": "code",
   "execution_count": 40,
   "id": "6899bad6",
   "metadata": {},
   "outputs": [],
   "source": [
    "password2 = \"microarray2022S\"\n",
    "path2 = dataset.get_data(password=password2)"
   ]
  },
  {
   "cell_type": "code",
   "execution_count": 43,
   "id": "ea2d9897",
   "metadata": {},
   "outputs": [],
   "source": [
    "password3 = \"microarray2022S-sup\"\n",
    "path3 = dataset.get_data(password=password3)"
   ]
  },
  {
   "cell_type": "code",
   "execution_count": 44,
   "id": "f61f358e",
   "metadata": {},
   "outputs": [
    {
     "name": "stdout",
     "output_type": "stream",
     "text": [
      "  idx  Condition              gn  GroupName                              FileName\n",
      "-----  -------------------  ----  -------------------------------------  ---------------------------------------------------\n",
      "    0  mock                    0  SG19378659_257236339458_S001_GE1_1200  SG19378659_257236339458_S001_GE1_1200_Jun14_1_1.txt\n",
      "    1  siVIM-270               0  SG19378659_257236339458_S001_GE1_1200  SG19378659_257236339458_S001_GE1_1200_Jun14_1_2.txt\n",
      "    2  siVIM-270(2'OMe2-5)     0  SG19378659_257236339458_S001_GE1_1200  SG19378659_257236339458_S001_GE1_1200_Jun14_1_3.txt\n",
      "    3  siVIM-270(2'OMe6-8)     0  SG19378659_257236339458_S001_GE1_1200  SG19378659_257236339458_S001_GE1_1200_Jun14_1_4.txt\n",
      "    4  siVIM-270(2'OMe2-8)     0  SG19378659_257236339458_S001_GE1_1200  SG19378659_257236339458_S001_GE1_1200_Jun14_2_1.txt\n",
      "    5  mock(1)                 1  US91503671_253949442637_S01_GE1_105    US91503671_253949442637_S01_GE1_105_Dec08_2_1.txt\n",
      "    6  siVIM-270(LNA3-5)       1  US91503671_253949442637_S01_GE1_105    US91503671_253949442637_S01_GE1_105_Dec08_2_3.txt\n",
      "    7  siVIM-270(LNA2-8)       1  US91503671_253949442637_S01_GE1_105    US91503671_253949442637_S01_GE1_105_Dec08_2_4.txt\n",
      "    8  mock(2)                 1  US91503671_253949442637_S01_GE1_105    US91503671_253949442637_S01_GE1_105_Dec08_1_1.txt\n",
      "    9  siVIM-270               1  US91503671_253949442637_S01_GE1_105    US91503671_253949442637_S01_GE1_105_Dec08_1_2.txt\n",
      "   10  siVIM-270(2'OMe4-6)     1  US91503671_253949442637_S01_GE1_105    US91503671_253949442637_S01_GE1_105_Dec08_1_3.txt\n",
      "   11  siVIM-270(2'OMe3-7)     1  US91503671_253949442637_S01_GE1_105    US91503671_253949442637_S01_GE1_105_Dec08_1_4.txt\n",
      "   12  siVIM-270(2'OMe2-8)     1  US91503671_253949442637_S01_GE1_105    US91503671_253949442637_S01_GE1_105_Dec08_2_2.txt\n"
     ]
    }
   ],
   "source": [
    "dataset.samples.show_groups()"
   ]
  },
  {
   "cell_type": "code",
   "execution_count": 45,
   "id": "ae834d56",
   "metadata": {},
   "outputs": [
    {
     "data": {
      "text/plain": [
       "array([PosixPath('/Users/iwasakishuto/Github/portfolio/TeiLab-BasicLaboratoryWork-in-LifeScienceExperiments/teilab/data/microarray2021S/SG19378659_257236339458_S001_GE1_1200_Jun14_1_1.txt'),\n",
       "       PosixPath('/Users/iwasakishuto/Github/portfolio/TeiLab-BasicLaboratoryWork-in-LifeScienceExperiments/teilab/data/microarray2021S/SG19378659_257236339458_S001_GE1_1200_Jun14_1_2.txt'),\n",
       "       PosixPath('/Users/iwasakishuto/Github/portfolio/TeiLab-BasicLaboratoryWork-in-LifeScienceExperiments/teilab/data/microarray2021S/SG19378659_257236339458_S001_GE1_1200_Jun14_1_3.txt'),\n",
       "       PosixPath('/Users/iwasakishuto/Github/portfolio/TeiLab-BasicLaboratoryWork-in-LifeScienceExperiments/teilab/data/microarray2021S/SG19378659_257236339458_S001_GE1_1200_Jun14_1_4.txt'),\n",
       "       PosixPath('/Users/iwasakishuto/Github/portfolio/TeiLab-BasicLaboratoryWork-in-LifeScienceExperiments/teilab/data/microarray2021S/SG19378659_257236339458_S001_GE1_1200_Jun14_2_1.txt'),\n",
       "       PosixPath('/Users/iwasakishuto/Github/portfolio/TeiLab-BasicLaboratoryWork-in-LifeScienceExperiments/teilab/data/microarray2022S/実習解析用データ/US91503671_253949442637_S01_GE1_105_Dec08_2_1.txt'),\n",
       "       PosixPath('/Users/iwasakishuto/Github/portfolio/TeiLab-BasicLaboratoryWork-in-LifeScienceExperiments/teilab/data/microarray2022S/実習解析用データ/US91503671_253949442637_S01_GE1_105_Dec08_2_3.txt'),\n",
       "       PosixPath('/Users/iwasakishuto/Github/portfolio/TeiLab-BasicLaboratoryWork-in-LifeScienceExperiments/teilab/data/microarray2022S/実習解析用データ/US91503671_253949442637_S01_GE1_105_Dec08_2_4.txt'),\n",
       "       PosixPath('/Users/iwasakishuto/Github/portfolio/TeiLab-BasicLaboratoryWork-in-LifeScienceExperiments/teilab/data/microarray2022S/実習解析用データ/US91503671_253949442637_S01_GE1_105_Dec08_1_1.txt'),\n",
       "       PosixPath('/Users/iwasakishuto/Github/portfolio/TeiLab-BasicLaboratoryWork-in-LifeScienceExperiments/teilab/data/microarray2022S/実習解析用データ/US91503671_253949442637_S01_GE1_105_Dec08_1_2.txt'),\n",
       "       PosixPath('/Users/iwasakishuto/Github/portfolio/TeiLab-BasicLaboratoryWork-in-LifeScienceExperiments/teilab/data/microarray2022S/実習解析用データ/US91503671_253949442637_S01_GE1_105_Dec08_1_3.txt'),\n",
       "       PosixPath('/Users/iwasakishuto/Github/portfolio/TeiLab-BasicLaboratoryWork-in-LifeScienceExperiments/teilab/data/microarray2022S/実習解析用データ/US91503671_253949442637_S01_GE1_105_Dec08_1_4.txt'),\n",
       "       PosixPath('/Users/iwasakishuto/Github/portfolio/TeiLab-BasicLaboratoryWork-in-LifeScienceExperiments/teilab/data/microarray2022S/実習解析用データ/US91503671_253949442637_S01_GE1_105_Dec08_2_2.txt')],\n",
       "      dtype=object)"
      ]
     },
     "execution_count": 45,
     "metadata": {},
     "output_type": "execute_result"
    }
   ],
   "source": [
    "dataset.filePaths"
   ]
  },
  {
   "cell_type": "markdown",
   "id": "834da403",
   "metadata": {},
   "source": [
    "## 2 データの読み込み"
   ]
  },
  {
   "cell_type": "code",
   "execution_count": 50,
   "id": "0c6a50f2",
   "metadata": {},
   "outputs": [
    {
     "name": "stdout",
     "output_type": "stream",
     "text": [
      "Read data from 'microarray2022S/実習解析用データ/US91503671_253949442637_S01_GE1_105_Dec08_2_1.txt'\n"
     ]
    },
    {
     "data": {
      "text/html": [
       "<div>\n",
       "<style scoped>\n",
       "    .dataframe tbody tr th:only-of-type {\n",
       "        vertical-align: middle;\n",
       "    }\n",
       "\n",
       "    .dataframe tbody tr th {\n",
       "        vertical-align: top;\n",
       "    }\n",
       "\n",
       "    .dataframe thead th {\n",
       "        text-align: right;\n",
       "    }\n",
       "</style>\n",
       "<table border=\"1\" class=\"dataframe\">\n",
       "  <thead>\n",
       "    <tr style=\"text-align: right;\">\n",
       "      <th></th>\n",
       "      <th>FEATURES</th>\n",
       "      <th>FeatureNum</th>\n",
       "      <th>Row</th>\n",
       "      <th>Col</th>\n",
       "      <th>accessions</th>\n",
       "      <th>chr_coord</th>\n",
       "      <th>SubTypeMask</th>\n",
       "      <th>SubTypeName</th>\n",
       "      <th>Start</th>\n",
       "      <th>Sequence</th>\n",
       "      <th>...</th>\n",
       "      <th>SpotExtentX</th>\n",
       "      <th>SpotExtentY</th>\n",
       "      <th>gNetSignal</th>\n",
       "      <th>gMultDetrendSignal</th>\n",
       "      <th>gProcessedBackground</th>\n",
       "      <th>gProcessedBkngError</th>\n",
       "      <th>IsUsedBGAdjust</th>\n",
       "      <th>gInterpolatedNegCtrlSub</th>\n",
       "      <th>gIsInNegCtrlRange</th>\n",
       "      <th>gIsUsedInMD</th>\n",
       "    </tr>\n",
       "  </thead>\n",
       "  <tbody>\n",
       "    <tr>\n",
       "      <th>0</th>\n",
       "      <td>DATA</td>\n",
       "      <td>1</td>\n",
       "      <td>1</td>\n",
       "      <td>1</td>\n",
       "      <td>NaN</td>\n",
       "      <td></td>\n",
       "      <td>260</td>\n",
       "      <td>BrightCorner</td>\n",
       "      <td>0</td>\n",
       "      <td>NaN</td>\n",
       "      <td>...</td>\n",
       "      <td>29.2509</td>\n",
       "      <td>29.2509</td>\n",
       "      <td>121818.000</td>\n",
       "      <td>0.974399</td>\n",
       "      <td>161.308</td>\n",
       "      <td>27.5193</td>\n",
       "      <td>0</td>\n",
       "      <td>121307.0000</td>\n",
       "      <td>0</td>\n",
       "      <td>0</td>\n",
       "    </tr>\n",
       "    <tr>\n",
       "      <th>1</th>\n",
       "      <td>DATA</td>\n",
       "      <td>2</td>\n",
       "      <td>1</td>\n",
       "      <td>2</td>\n",
       "      <td>NaN</td>\n",
       "      <td></td>\n",
       "      <td>66</td>\n",
       "      <td>Structural</td>\n",
       "      <td>0</td>\n",
       "      <td>NaN</td>\n",
       "      <td>...</td>\n",
       "      <td>28.6351</td>\n",
       "      <td>28.6351</td>\n",
       "      <td>556.483</td>\n",
       "      <td>0.965784</td>\n",
       "      <td>158.115</td>\n",
       "      <td>27.7880</td>\n",
       "      <td>0</td>\n",
       "      <td>48.2755</td>\n",
       "      <td>0</td>\n",
       "      <td>0</td>\n",
       "    </tr>\n",
       "    <tr>\n",
       "      <th>2</th>\n",
       "      <td>DATA</td>\n",
       "      <td>3</td>\n",
       "      <td>1</td>\n",
       "      <td>3</td>\n",
       "      <td>NaN</td>\n",
       "      <td></td>\n",
       "      <td>66</td>\n",
       "      <td>Structural</td>\n",
       "      <td>0</td>\n",
       "      <td>NaN</td>\n",
       "      <td>...</td>\n",
       "      <td>25.0287</td>\n",
       "      <td>25.0287</td>\n",
       "      <td>544.361</td>\n",
       "      <td>0.957612</td>\n",
       "      <td>153.953</td>\n",
       "      <td>27.3548</td>\n",
       "      <td>0</td>\n",
       "      <td>38.0862</td>\n",
       "      <td>0</td>\n",
       "      <td>0</td>\n",
       "    </tr>\n",
       "  </tbody>\n",
       "</table>\n",
       "<p>3 rows × 62 columns</p>\n",
       "</div>"
      ],
      "text/plain": [
       "  FEATURES  FeatureNum  Row  Col accessions chr_coord  SubTypeMask  \\\n",
       "0     DATA           1    1    1        NaN                    260   \n",
       "1     DATA           2    1    2        NaN                     66   \n",
       "2     DATA           3    1    3        NaN                     66   \n",
       "\n",
       "    SubTypeName  Start Sequence  ...  SpotExtentX  SpotExtentY  gNetSignal  \\\n",
       "0  BrightCorner      0      NaN  ...      29.2509      29.2509  121818.000   \n",
       "1    Structural      0      NaN  ...      28.6351      28.6351     556.483   \n",
       "2    Structural      0      NaN  ...      25.0287      25.0287     544.361   \n",
       "\n",
       "  gMultDetrendSignal gProcessedBackground gProcessedBkngError  IsUsedBGAdjust  \\\n",
       "0           0.974399              161.308             27.5193               0   \n",
       "1           0.965784              158.115             27.7880               0   \n",
       "2           0.957612              153.953             27.3548               0   \n",
       "\n",
       "   gInterpolatedNegCtrlSub  gIsInNegCtrlRange  gIsUsedInMD  \n",
       "0              121307.0000                  0            0  \n",
       "1                  48.2755                  0            0  \n",
       "2                  38.0862                  0            0  \n",
       "\n",
       "[3 rows x 62 columns]"
      ]
     },
     "execution_count": 50,
     "metadata": {},
     "output_type": "execute_result"
    }
   ],
   "source": [
    "# 以下のコードで、楽に読み込みできる\n",
    "df1_1_1 = dataset.read_data(no=5)\n",
    "df1_1_1.head(3)"
   ]
  },
  {
   "cell_type": "code",
   "execution_count": 51,
   "id": "69ed20a8",
   "metadata": {},
   "outputs": [
    {
     "name": "stdout",
     "output_type": "stream",
     "text": [
      "Read data from 'microarray2021S/SG19378659_257236339458_S001_GE1_1200_Jun14_1_1.txt'\n"
     ]
    },
    {
     "data": {
      "text/html": [
       "<div>\n",
       "<style scoped>\n",
       "    .dataframe tbody tr th:only-of-type {\n",
       "        vertical-align: middle;\n",
       "    }\n",
       "\n",
       "    .dataframe tbody tr th {\n",
       "        vertical-align: top;\n",
       "    }\n",
       "\n",
       "    .dataframe thead th {\n",
       "        text-align: right;\n",
       "    }\n",
       "</style>\n",
       "<table border=\"1\" class=\"dataframe\">\n",
       "  <thead>\n",
       "    <tr style=\"text-align: right;\">\n",
       "      <th></th>\n",
       "      <th>FEATURES</th>\n",
       "      <th>FeatureNum</th>\n",
       "      <th>Row</th>\n",
       "      <th>Col</th>\n",
       "      <th>SubTypeMask</th>\n",
       "      <th>ControlType</th>\n",
       "      <th>ProbeName</th>\n",
       "      <th>SystematicName</th>\n",
       "      <th>PositionX</th>\n",
       "      <th>PositionY</th>\n",
       "      <th>...</th>\n",
       "      <th>gIsFeatNonUnifOL</th>\n",
       "      <th>gIsBGNonUnifOL</th>\n",
       "      <th>gIsFeatPopnOL</th>\n",
       "      <th>gIsBGPopnOL</th>\n",
       "      <th>IsManualFlag</th>\n",
       "      <th>gBGSubSignal</th>\n",
       "      <th>gIsPosAndSignif</th>\n",
       "      <th>gIsWellAboveBG</th>\n",
       "      <th>SpotExtentX</th>\n",
       "      <th>gBGMeanSignal</th>\n",
       "    </tr>\n",
       "  </thead>\n",
       "  <tbody>\n",
       "    <tr>\n",
       "      <th>0</th>\n",
       "      <td>DATA</td>\n",
       "      <td>1</td>\n",
       "      <td>1</td>\n",
       "      <td>1</td>\n",
       "      <td>260</td>\n",
       "      <td>1</td>\n",
       "      <td>GE_BrightCorner</td>\n",
       "      <td>GE_BrightCorner</td>\n",
       "      <td>697.237</td>\n",
       "      <td>401.288</td>\n",
       "      <td>...</td>\n",
       "      <td>0</td>\n",
       "      <td>0</td>\n",
       "      <td>0</td>\n",
       "      <td>1</td>\n",
       "      <td>0</td>\n",
       "      <td>226487.00000</td>\n",
       "      <td>1</td>\n",
       "      <td>1</td>\n",
       "      <td>25.7804</td>\n",
       "      <td>31.3989</td>\n",
       "    </tr>\n",
       "    <tr>\n",
       "      <th>1</th>\n",
       "      <td>DATA</td>\n",
       "      <td>2</td>\n",
       "      <td>1</td>\n",
       "      <td>2</td>\n",
       "      <td>66</td>\n",
       "      <td>1</td>\n",
       "      <td>DarkCorner</td>\n",
       "      <td>DarkCorner</td>\n",
       "      <td>718.433</td>\n",
       "      <td>401.701</td>\n",
       "      <td>...</td>\n",
       "      <td>0</td>\n",
       "      <td>0</td>\n",
       "      <td>0</td>\n",
       "      <td>1</td>\n",
       "      <td>0</td>\n",
       "      <td>-3.99340</td>\n",
       "      <td>0</td>\n",
       "      <td>0</td>\n",
       "      <td>26.8687</td>\n",
       "      <td>31.8721</td>\n",
       "    </tr>\n",
       "    <tr>\n",
       "      <th>2</th>\n",
       "      <td>DATA</td>\n",
       "      <td>3</td>\n",
       "      <td>1</td>\n",
       "      <td>3</td>\n",
       "      <td>66</td>\n",
       "      <td>1</td>\n",
       "      <td>DarkCorner</td>\n",
       "      <td>DarkCorner</td>\n",
       "      <td>739.793</td>\n",
       "      <td>401.293</td>\n",
       "      <td>...</td>\n",
       "      <td>0</td>\n",
       "      <td>0</td>\n",
       "      <td>0</td>\n",
       "      <td>0</td>\n",
       "      <td>0</td>\n",
       "      <td>-5.38443</td>\n",
       "      <td>0</td>\n",
       "      <td>0</td>\n",
       "      <td>25.5572</td>\n",
       "      <td>32.2257</td>\n",
       "    </tr>\n",
       "  </tbody>\n",
       "</table>\n",
       "<p>3 rows × 26 columns</p>\n",
       "</div>"
      ],
      "text/plain": [
       "  FEATURES  FeatureNum  Row  Col  SubTypeMask  ControlType        ProbeName  \\\n",
       "0     DATA           1    1    1          260            1  GE_BrightCorner   \n",
       "1     DATA           2    1    2           66            1       DarkCorner   \n",
       "2     DATA           3    1    3           66            1       DarkCorner   \n",
       "\n",
       "    SystematicName  PositionX  PositionY  ...  gIsFeatNonUnifOL  \\\n",
       "0  GE_BrightCorner    697.237    401.288  ...                 0   \n",
       "1       DarkCorner    718.433    401.701  ...                 0   \n",
       "2       DarkCorner    739.793    401.293  ...                 0   \n",
       "\n",
       "   gIsBGNonUnifOL  gIsFeatPopnOL  gIsBGPopnOL  IsManualFlag  gBGSubSignal  \\\n",
       "0               0              0            1             0  226487.00000   \n",
       "1               0              0            1             0      -3.99340   \n",
       "2               0              0            0             0      -5.38443   \n",
       "\n",
       "   gIsPosAndSignif  gIsWellAboveBG  SpotExtentX  gBGMeanSignal  \n",
       "0                1               1      25.7804        31.3989  \n",
       "1                0               0      26.8687        31.8721  \n",
       "2                0               0      25.5572        32.2257  \n",
       "\n",
       "[3 rows x 26 columns]"
      ]
     },
     "execution_count": 51,
     "metadata": {},
     "output_type": "execute_result"
    }
   ],
   "source": [
    "df2_1_1 = dataset.read_data(no=0)\n",
    "df2_1_1.head(3)"
   ]
  },
  {
   "cell_type": "code",
   "execution_count": 53,
   "id": "5533e84f",
   "metadata": {},
   "outputs": [
    {
     "name": "stdout",
     "output_type": "stream",
     "text": [
      "5 mock(1)\n",
      "6 siVIM-270(LNA3-5)\n",
      "7 siVIM-270(LNA2-8)\n",
      "8 mock(2)\n",
      "9 siVIM-270\n",
      "10 siVIM-270(2'OMe4-6)\n",
      "11 siVIM-270(2'OMe3-7)\n",
      "12 siVIM-270(2'OMe2-8)\n"
     ]
    }
   ],
   "source": [
    "# このノートブックで扱うgroupのnumberリストを取得しておきます。\n",
    "group_numbers = dataset.samples.get_group_numbers(group_no=1)\n",
    "conditions = dataset.samples.Condition[group_numbers]\n",
    "for gn,cnd in zip(group_numbers, conditions):\n",
    "    print(gn, cnd)"
   ]
  },
  {
   "cell_type": "markdown",
   "id": "b211fc7b",
   "metadata": {},
   "source": [
    "## 3 データの結合"
   ]
  },
  {
   "cell_type": "markdown",
   "id": "add1a63f",
   "metadata": {},
   "source": [
    "それでは、昨日のExcelを使った解析と同様に、全サンプルのデータを一つにまとめていきましょう。\n",
    "\n",
    "行番号とプローブ番号の対応関係は（同じタイミングの実験であれば）どのサンプルも同じであるので、サンプル $X$ のデータの隣にサンプル $Y$ のデータを concatenate すれば1枚のワークシート（DataFrame）にまとまります。\n",
    "\n",
    "そこで、これを繰り返して、全サンプルの gProcessedSignal の値を1つのテーブルにまとめていきましょう。"
   ]
  },
  {
   "cell_type": "markdown",
   "id": "3343c22d",
   "metadata": {},
   "source": [
    "### 3.1 アノテーションデータの読み込み\n",
    "\n",
    "　まず、各プローブのアノテーションデータ（どういうプローブかの説明。以下のカラムの情報が大事）を取り出します。なお、このデータはサンプルに寄らないので、8つのサンプルのうち一つから一度だけ取り出します。"
   ]
  },
  {
   "cell_type": "code",
   "execution_count": 54,
   "id": "ab97e9b5",
   "metadata": {},
   "outputs": [],
   "source": [
    "USE_COLS_ANNO  = [\n",
    "    \"FeatureNum\", \"ControlType\", \"ProbeName\", \"GeneName\", \"SystematicName\"\n",
    "]"
   ]
  },
  {
   "cell_type": "markdown",
   "id": "5842485c",
   "metadata": {},
   "source": [
    "|column name|description|\n",
    "|:-:|:-|\n",
    "|`FeatureNum`|スポットの番号|\n",
    "|`ControlType`|<ul><li>positive controlは `1`</li> <li>negative controlは `-1`</li><li>それ以外（解析で用いる）は `0`</li></ul>|\n",
    "|`ProbeName`|プローブ名|\n",
    "|`GeneName`|遺伝子名|\n",
    "|`SystematicName`|遺伝子名|"
   ]
  },
  {
   "cell_type": "code",
   "execution_count": 57,
   "id": "9bfb7c69",
   "metadata": {},
   "outputs": [
    {
     "name": "stdout",
     "output_type": "stream",
     "text": [
      "Read data from 'microarray2022S/実習解析用データ/US91503671_253949442637_S01_GE1_105_Dec08_2_1.txt'\n"
     ]
    },
    {
     "data": {
      "text/html": [
       "<div>\n",
       "<style scoped>\n",
       "    .dataframe tbody tr th:only-of-type {\n",
       "        vertical-align: middle;\n",
       "    }\n",
       "\n",
       "    .dataframe tbody tr th {\n",
       "        vertical-align: top;\n",
       "    }\n",
       "\n",
       "    .dataframe thead th {\n",
       "        text-align: right;\n",
       "    }\n",
       "</style>\n",
       "<table border=\"1\" class=\"dataframe\">\n",
       "  <thead>\n",
       "    <tr style=\"text-align: right;\">\n",
       "      <th></th>\n",
       "      <th>FeatureNum</th>\n",
       "      <th>ControlType</th>\n",
       "      <th>ProbeName</th>\n",
       "      <th>GeneName</th>\n",
       "      <th>SystematicName</th>\n",
       "    </tr>\n",
       "  </thead>\n",
       "  <tbody>\n",
       "    <tr>\n",
       "      <th>0</th>\n",
       "      <td>1</td>\n",
       "      <td>1</td>\n",
       "      <td>GE_BrightCorner</td>\n",
       "      <td>GE_BrightCorner</td>\n",
       "      <td>GE_BrightCorner</td>\n",
       "    </tr>\n",
       "    <tr>\n",
       "      <th>1</th>\n",
       "      <td>2</td>\n",
       "      <td>1</td>\n",
       "      <td>DarkCorner</td>\n",
       "      <td>DarkCorner</td>\n",
       "      <td>DarkCorner</td>\n",
       "    </tr>\n",
       "    <tr>\n",
       "      <th>2</th>\n",
       "      <td>3</td>\n",
       "      <td>1</td>\n",
       "      <td>DarkCorner</td>\n",
       "      <td>DarkCorner</td>\n",
       "      <td>DarkCorner</td>\n",
       "    </tr>\n",
       "    <tr>\n",
       "      <th>3</th>\n",
       "      <td>4</td>\n",
       "      <td>0</td>\n",
       "      <td>A_23_P117082</td>\n",
       "      <td>HEBP1</td>\n",
       "      <td>NM_015987</td>\n",
       "    </tr>\n",
       "    <tr>\n",
       "      <th>4</th>\n",
       "      <td>5</td>\n",
       "      <td>0</td>\n",
       "      <td>A_33_P3246448</td>\n",
       "      <td>KCNE4</td>\n",
       "      <td>NM_080671</td>\n",
       "    </tr>\n",
       "  </tbody>\n",
       "</table>\n",
       "</div>"
      ],
      "text/plain": [
       "   FeatureNum  ControlType        ProbeName         GeneName   SystematicName\n",
       "0           1            1  GE_BrightCorner  GE_BrightCorner  GE_BrightCorner\n",
       "1           2            1       DarkCorner       DarkCorner       DarkCorner\n",
       "2           3            1       DarkCorner       DarkCorner       DarkCorner\n",
       "3           4            0     A_23_P117082            HEBP1        NM_015987\n",
       "4           5            0    A_33_P3246448            KCNE4        NM_080671"
      ]
     },
     "execution_count": 57,
     "metadata": {},
     "output_type": "execute_result"
    }
   ],
   "source": [
    "df_anno = dataset.read_data(no=5, usecols=USE_COLS_ANNO)\n",
    "df_anno.head(5)"
   ]
  },
  {
   "cell_type": "markdown",
   "id": "790740e9",
   "metadata": {},
   "source": [
    "### 3.2 シグナル値の読み込み"
   ]
  },
  {
   "cell_type": "markdown",
   "id": "e032cb4b",
   "metadata": {},
   "source": [
    "続いて、各サンプルのシグナル強度( `gProcessedSignal` )のデータを取得します。\n",
    "\n",
    "なお、この時 `gIsWellAboveBG` が `0` のものは「（真の）シグナルがバックグラウンドのシグナルよりも低く、信頼できないデータである」ということを意味するため、取り除きます。"
   ]
  },
  {
   "cell_type": "code",
   "execution_count": 55,
   "id": "883652ba",
   "metadata": {},
   "outputs": [],
   "source": [
    "USE_COLS_SYGNAL = [\n",
    "    \"gProcessedSignal\", \"gIsWellAboveBG\"\n",
    "]"
   ]
  },
  {
   "cell_type": "markdown",
   "id": "f081580a",
   "metadata": {},
   "source": [
    "|column name|description|\n",
    "|:-:|:-|\n",
    "|`gProcessedSignal`|green(Cy-3)のシグナル強度（＝発現量）|\n",
    "|`gIsWellAboveBG`|（真の）シグナルがバックグラウンドのシグナルより十分高いか？（＝信頼できるデータか）|"
   ]
  },
  {
   "cell_type": "code",
   "execution_count": 60,
   "id": "f8bbb386",
   "metadata": {},
   "outputs": [
    {
     "name": "stdout",
     "output_type": "stream",
     "text": [
      "データ数(before): 62976\n",
      "Read data from 'microarray2022S/実習解析用データ/US91503671_253949442637_S01_GE1_105_Dec08_2_1.txt'\n",
      "Read data from 'microarray2022S/実習解析用データ/US91503671_253949442637_S01_GE1_105_Dec08_2_3.txt'\n",
      "Read data from 'microarray2022S/実習解析用データ/US91503671_253949442637_S01_GE1_105_Dec08_2_4.txt'\n",
      "Read data from 'microarray2022S/実習解析用データ/US91503671_253949442637_S01_GE1_105_Dec08_1_1.txt'\n",
      "Read data from 'microarray2022S/実習解析用データ/US91503671_253949442637_S01_GE1_105_Dec08_1_2.txt'\n",
      "Read data from 'microarray2022S/実習解析用データ/US91503671_253949442637_S01_GE1_105_Dec08_1_3.txt'\n",
      "Read data from 'microarray2022S/実習解析用データ/US91503671_253949442637_S01_GE1_105_Dec08_1_4.txt'\n",
      "Read data from 'microarray2022S/実習解析用データ/US91503671_253949442637_S01_GE1_105_Dec08_2_2.txt'\n",
      "データ数(after) : 21798\n"
     ]
    }
   ],
   "source": [
    "df_combined = df_anno.copy(deep=True)\n",
    "index = set(df_combined.index)\n",
    "print(f\"データ数(before): {len(df_combined)}\")\n",
    "\n",
    "for gn,cnd in zip(group_numbers, conditions):\n",
    "    df_signal = dataset.read_data(no=gn, usecols=USE_COLS_SYGNAL)\n",
    "    index = index & set(df_signal[(df_signal.gIsWellAboveBG==1)].index)\n",
    "    df_combined = pd.concat([df_combined, df_signal[[\"gProcessedSignal\"]].rename(columns={\"gProcessedSignal\" : cnd})], axis=1)\n",
    "\n",
    "df_filtered_1 = df_combined.loc[list(index), :]\n",
    "print(f\"データ数(after) : {len(df_filtered_1)}\")"
   ]
  },
  {
   "cell_type": "markdown",
   "id": "4e10a080",
   "metadata": {},
   "source": [
    "また、`ControlType` の値が $\\pm1$ のものはコントロールであるため、`0` のもののみ取り出します。"
   ]
  },
  {
   "cell_type": "code",
   "execution_count": 62,
   "id": "9e38059b",
   "metadata": {},
   "outputs": [
    {
     "name": "stdout",
     "output_type": "stream",
     "text": [
      "データ数(before): 21798\n",
      "データ数(after) : 21511\n"
     ]
    }
   ],
   "source": [
    "print(\"データ数(before):\", len(df_filtered_1))\n",
    "df_filtered_2 = df_filtered_1[df_filtered_1.ControlType == 0]\n",
    "print(\"データ数(after) :\", len(df_filtered_2))"
   ]
  },
  {
   "cell_type": "code",
   "execution_count": 65,
   "id": "e20a2b02",
   "metadata": {},
   "outputs": [
    {
     "data": {
      "text/html": [
       "<div>\n",
       "<style scoped>\n",
       "    .dataframe tbody tr th:only-of-type {\n",
       "        vertical-align: middle;\n",
       "    }\n",
       "\n",
       "    .dataframe tbody tr th {\n",
       "        vertical-align: top;\n",
       "    }\n",
       "\n",
       "    .dataframe thead th {\n",
       "        text-align: right;\n",
       "    }\n",
       "</style>\n",
       "<table border=\"1\" class=\"dataframe\">\n",
       "  <thead>\n",
       "    <tr style=\"text-align: right;\">\n",
       "      <th></th>\n",
       "      <th>FeatureNum</th>\n",
       "      <th>ControlType</th>\n",
       "      <th>ProbeName</th>\n",
       "      <th>GeneName</th>\n",
       "      <th>SystematicName</th>\n",
       "      <th>mock(1)</th>\n",
       "      <th>siVIM-270(LNA3-5)</th>\n",
       "      <th>siVIM-270(LNA2-8)</th>\n",
       "      <th>mock(2)</th>\n",
       "      <th>siVIM-270</th>\n",
       "      <th>siVIM-270(2'OMe4-6)</th>\n",
       "      <th>siVIM-270(2'OMe3-7)</th>\n",
       "      <th>siVIM-270(2'OMe2-8)</th>\n",
       "    </tr>\n",
       "  </thead>\n",
       "  <tbody>\n",
       "    <tr>\n",
       "      <th>3</th>\n",
       "      <td>4</td>\n",
       "      <td>0</td>\n",
       "      <td>A_23_P117082</td>\n",
       "      <td>HEBP1</td>\n",
       "      <td>NM_015987</td>\n",
       "      <td>12416.270</td>\n",
       "      <td>14213.960</td>\n",
       "      <td>13553.84</td>\n",
       "      <td>12566.870</td>\n",
       "      <td>12356.960</td>\n",
       "      <td>12896.740</td>\n",
       "      <td>12860.240</td>\n",
       "      <td>13869.810</td>\n",
       "    </tr>\n",
       "    <tr>\n",
       "      <th>8</th>\n",
       "      <td>9</td>\n",
       "      <td>0</td>\n",
       "      <td>A_21_P0000509</td>\n",
       "      <td>SNAR-G2</td>\n",
       "      <td>NR_024244</td>\n",
       "      <td>117447.400</td>\n",
       "      <td>113802.500</td>\n",
       "      <td>107326.70</td>\n",
       "      <td>122723.700</td>\n",
       "      <td>117958.900</td>\n",
       "      <td>118623.000</td>\n",
       "      <td>128495.100</td>\n",
       "      <td>124273.000</td>\n",
       "    </tr>\n",
       "    <tr>\n",
       "      <th>9</th>\n",
       "      <td>10</td>\n",
       "      <td>0</td>\n",
       "      <td>A_21_P0000744</td>\n",
       "      <td>LOC100506844</td>\n",
       "      <td>NR_038269</td>\n",
       "      <td>1251.119</td>\n",
       "      <td>1302.718</td>\n",
       "      <td>1264.15</td>\n",
       "      <td>1234.146</td>\n",
       "      <td>1281.739</td>\n",
       "      <td>1128.132</td>\n",
       "      <td>1199.297</td>\n",
       "      <td>1141.723</td>\n",
       "    </tr>\n",
       "  </tbody>\n",
       "</table>\n",
       "</div>"
      ],
      "text/plain": [
       "   FeatureNum  ControlType      ProbeName      GeneName SystematicName  \\\n",
       "3           4            0   A_23_P117082         HEBP1      NM_015987   \n",
       "8           9            0  A_21_P0000509       SNAR-G2      NR_024244   \n",
       "9          10            0  A_21_P0000744  LOC100506844      NR_038269   \n",
       "\n",
       "      mock(1)  siVIM-270(LNA3-5)  siVIM-270(LNA2-8)     mock(2)   siVIM-270  \\\n",
       "3   12416.270          14213.960           13553.84   12566.870   12356.960   \n",
       "8  117447.400         113802.500          107326.70  122723.700  117958.900   \n",
       "9    1251.119           1302.718            1264.15    1234.146    1281.739   \n",
       "\n",
       "   siVIM-270(2'OMe4-6)  siVIM-270(2'OMe3-7)  siVIM-270(2'OMe2-8)  \n",
       "3            12896.740            12860.240            13869.810  \n",
       "8           118623.000           128495.100           124273.000  \n",
       "9             1128.132             1199.297             1141.723  "
      ]
     },
     "execution_count": 65,
     "metadata": {},
     "output_type": "execute_result"
    }
   ],
   "source": [
    "df_filtered_2.head(3)"
   ]
  },
  {
   "cell_type": "markdown",
   "id": "0439f409",
   "metadata": {},
   "source": [
    "インデックスを振り直します。"
   ]
  },
  {
   "cell_type": "code",
   "execution_count": 66,
   "id": "d3c30853",
   "metadata": {},
   "outputs": [
    {
     "data": {
      "text/html": [
       "<div>\n",
       "<style scoped>\n",
       "    .dataframe tbody tr th:only-of-type {\n",
       "        vertical-align: middle;\n",
       "    }\n",
       "\n",
       "    .dataframe tbody tr th {\n",
       "        vertical-align: top;\n",
       "    }\n",
       "\n",
       "    .dataframe thead th {\n",
       "        text-align: right;\n",
       "    }\n",
       "</style>\n",
       "<table border=\"1\" class=\"dataframe\">\n",
       "  <thead>\n",
       "    <tr style=\"text-align: right;\">\n",
       "      <th></th>\n",
       "      <th>FeatureNum</th>\n",
       "      <th>ControlType</th>\n",
       "      <th>ProbeName</th>\n",
       "      <th>GeneName</th>\n",
       "      <th>SystematicName</th>\n",
       "      <th>mock(1)</th>\n",
       "      <th>siVIM-270(LNA3-5)</th>\n",
       "      <th>siVIM-270(LNA2-8)</th>\n",
       "      <th>mock(2)</th>\n",
       "      <th>siVIM-270</th>\n",
       "      <th>siVIM-270(2'OMe4-6)</th>\n",
       "      <th>siVIM-270(2'OMe3-7)</th>\n",
       "      <th>siVIM-270(2'OMe2-8)</th>\n",
       "    </tr>\n",
       "  </thead>\n",
       "  <tbody>\n",
       "    <tr>\n",
       "      <th>0</th>\n",
       "      <td>4</td>\n",
       "      <td>0</td>\n",
       "      <td>A_23_P117082</td>\n",
       "      <td>HEBP1</td>\n",
       "      <td>NM_015987</td>\n",
       "      <td>12416.270</td>\n",
       "      <td>14213.960</td>\n",
       "      <td>13553.84</td>\n",
       "      <td>12566.870</td>\n",
       "      <td>12356.960</td>\n",
       "      <td>12896.740</td>\n",
       "      <td>12860.240</td>\n",
       "      <td>13869.810</td>\n",
       "    </tr>\n",
       "    <tr>\n",
       "      <th>1</th>\n",
       "      <td>9</td>\n",
       "      <td>0</td>\n",
       "      <td>A_21_P0000509</td>\n",
       "      <td>SNAR-G2</td>\n",
       "      <td>NR_024244</td>\n",
       "      <td>117447.400</td>\n",
       "      <td>113802.500</td>\n",
       "      <td>107326.70</td>\n",
       "      <td>122723.700</td>\n",
       "      <td>117958.900</td>\n",
       "      <td>118623.000</td>\n",
       "      <td>128495.100</td>\n",
       "      <td>124273.000</td>\n",
       "    </tr>\n",
       "    <tr>\n",
       "      <th>2</th>\n",
       "      <td>10</td>\n",
       "      <td>0</td>\n",
       "      <td>A_21_P0000744</td>\n",
       "      <td>LOC100506844</td>\n",
       "      <td>NR_038269</td>\n",
       "      <td>1251.119</td>\n",
       "      <td>1302.718</td>\n",
       "      <td>1264.15</td>\n",
       "      <td>1234.146</td>\n",
       "      <td>1281.739</td>\n",
       "      <td>1128.132</td>\n",
       "      <td>1199.297</td>\n",
       "      <td>1141.723</td>\n",
       "    </tr>\n",
       "  </tbody>\n",
       "</table>\n",
       "</div>"
      ],
      "text/plain": [
       "   FeatureNum  ControlType      ProbeName      GeneName SystematicName  \\\n",
       "0           4            0   A_23_P117082         HEBP1      NM_015987   \n",
       "1           9            0  A_21_P0000509       SNAR-G2      NR_024244   \n",
       "2          10            0  A_21_P0000744  LOC100506844      NR_038269   \n",
       "\n",
       "      mock(1)  siVIM-270(LNA3-5)  siVIM-270(LNA2-8)     mock(2)   siVIM-270  \\\n",
       "0   12416.270          14213.960           13553.84   12566.870   12356.960   \n",
       "1  117447.400         113802.500          107326.70  122723.700  117958.900   \n",
       "2    1251.119           1302.718            1264.15    1234.146    1281.739   \n",
       "\n",
       "   siVIM-270(2'OMe4-6)  siVIM-270(2'OMe3-7)  siVIM-270(2'OMe2-8)  \n",
       "0            12896.740            12860.240            13869.810  \n",
       "1           118623.000           128495.100           124273.000  \n",
       "2             1128.132             1199.297             1141.723  "
      ]
     },
     "execution_count": 66,
     "metadata": {},
     "output_type": "execute_result"
    }
   ],
   "source": [
    "df_filtered = df_filtered_2.reset_index(drop=True)\n",
    "df_filtered.head(3)"
   ]
  },
  {
   "cell_type": "markdown",
   "id": "81946ae4",
   "metadata": {},
   "source": [
    "データフレームの一番左側の数字（インデックス）が、0,1,2...と振り直せたことがわかります。"
   ]
  },
  {
   "cell_type": "markdown",
   "id": "b0a38688",
   "metadata": {},
   "source": [
    "## 4 データの前処理"
   ]
  },
  {
   "cell_type": "markdown",
   "id": "440a67a1",
   "metadata": {},
   "source": [
    "無事にデータがダウンロードできたので、実験上のバイアス等を取り除くためにデータの前処理を行います。（ここでは、Summarizationのみを行います。）"
   ]
  },
  {
   "cell_type": "code",
   "execution_count": 67,
   "id": "d5d03351",
   "metadata": {},
   "outputs": [
    {
     "data": {
      "text/plain": [
       "Index(['FeatureNum', 'ControlType', 'ProbeName', 'GeneName', 'SystematicName',\n",
       "       'mock(1)', 'siVIM-270(LNA3-5)', 'siVIM-270(LNA2-8)', 'mock(2)',\n",
       "       'siVIM-270', 'siVIM-270(2'OMe4-6)', 'siVIM-270(2'OMe3-7)',\n",
       "       'siVIM-270(2'OMe2-8)'],\n",
       "      dtype='object')"
      ]
     },
     "execution_count": 67,
     "metadata": {},
     "output_type": "execute_result"
    }
   ],
   "source": [
    "df_filtered.columns"
   ]
  },
  {
   "cell_type": "code",
   "execution_count": 68,
   "id": "d04bb5fb",
   "metadata": {},
   "outputs": [],
   "source": [
    "# それぞれ単純に平均化を行う。\n",
    "# df_filtered = df_filtered.groupby(\"GeneName\").mean().reset_index()\n",
    "df_filtered[\"mock\"] = df_filtered[[\"mock(1)\", \"mock(2)\"]].mean(axis=1)"
   ]
  },
  {
   "cell_type": "markdown",
   "id": "70875325",
   "metadata": {},
   "source": [
    "## 5 解析 & 可視化"
   ]
  },
  {
   "cell_type": "markdown",
   "id": "93108f75",
   "metadata": {},
   "source": [
    "ここでは、XYプロットとMAプロットを図示し、シグナル強度の分布を調べます。"
   ]
  },
  {
   "cell_type": "code",
   "execution_count": 71,
   "id": "e177e582",
   "metadata": {},
   "outputs": [],
   "source": [
    "import plotly.express as px\n",
    "import plotly.graph_objects as go\n",
    "\n",
    "from plotly import offline\n",
    "from plotly.subplots import make_subplots"
   ]
  },
  {
   "cell_type": "markdown",
   "id": "06ab806f",
   "metadata": {},
   "source": [
    "### 5.1 X-Y プロット"
   ]
  },
  {
   "cell_type": "markdown",
   "id": "93c7897f",
   "metadata": {},
   "source": [
    "- サンプル $X$ の `gProcessedSignal` の値を横軸\n",
    "- サンプル $Y$ の `gProcessedSignal` の値を縦軸\n",
    "\n",
    "にプロットしたものを **X-Yプロット** と呼びます。"
   ]
  },
  {
   "cell_type": "code",
   "execution_count": 72,
   "id": "a03f25fb",
   "metadata": {},
   "outputs": [],
   "source": [
    "def XYplot(df: pd.DataFrame, x: str, y: str, hover_name: str = \"\", hover_data: str = \"\"):\n",
    "    fig = px.scatter(\n",
    "        df, x=x, y=y, hover_name=hover_name, hover_data=hover_data, title=f\"XY plot ({x} vs {y})\"\n",
    "    )\n",
    "    return fig"
   ]
  },
  {
   "cell_type": "code",
   "execution_count": 111,
   "id": "04bc03fd",
   "metadata": {},
   "outputs": [],
   "source": [
    "fig = XYplot(df=df_filtered, x=\"mock\", y=\"siVIM-270\", hover_name=\"GeneName\")\n",
    "fig.show()"
   ]
  },
  {
   "cell_type": "markdown",
   "id": "be6b4324",
   "metadata": {},
   "source": [
    "> \"vimentin\" を探してみましょう。"
   ]
  },
  {
   "cell_type": "markdown",
   "id": "27424ec9",
   "metadata": {},
   "source": [
    "### 5.2 MAプロット\n",
    "\n",
    "- $log_2(Y/X)$ を縦軸 (Minus)\n",
    "- $log_{10}(XY)$ を横軸 (Average)\n",
    "\n",
    "にプロットしたものを **M-Aプロット** と呼びます。"
   ]
  },
  {
   "cell_type": "code",
   "execution_count": 101,
   "id": "c8b10a5e",
   "metadata": {},
   "outputs": [],
   "source": [
    "def MAplot(df: pd.DataFrame, control: str, target: str, hover_data: Optional[str] = None) -> go.Figure:\n",
    "    control_signals = df[control].values\n",
    "    target_signals = df[target].values\n",
    "    X = np.log10(control_signals * target_signals)\n",
    "    Y = np.log2(target_signals / control_signals)\n",
    "    if hover_data is None:\n",
    "        hover_data = []\n",
    "\n",
    "    fig = go.Figure(data=go.Scatter(x=X, y=Y, hovertext=df[hover_data].values, mode=\"markers\", marker_size=3))\n",
    "    fig.update_layout(\n",
    "        title=f\"MA plot ({control} vs {target})\",\n",
    "        xaxis_title=\"$log_{10}\" + f\"({target} * {control})$\",\n",
    "        yaxis_title=f\"$log_2{target}/{control}$\",\n",
    "    )\n",
    "    return fig\n"
   ]
  },
  {
   "cell_type": "code",
   "execution_count": 110,
   "id": "8cc69233",
   "metadata": {},
   "outputs": [],
   "source": [
    "# fig = MAplot(df=df_filtered, control=\"mock\", target=\"siVIM-270\", hover_data=\"GeneName\")\n",
    "fig.show()"
   ]
  },
  {
   "cell_type": "markdown",
   "id": "c435b64b",
   "metadata": {},
   "source": [
    "> - VIM はどこにあると予想できますか？？実際に確認してみてください！\n",
    "> - 縦軸が $0$ / $1$ / $-1$  とは何を意味しますか？？\n",
    "> - 横軸は何を意味しますか？？"
   ]
  },
  {
   "cell_type": "markdown",
   "id": "39d4d8b2",
   "metadata": {},
   "source": [
    "## 6 発展"
   ]
  },
  {
   "cell_type": "markdown",
   "id": "e44de6f6",
   "metadata": {},
   "source": [
    "### 6.1 データの正規化"
   ]
  },
  {
   "cell_type": "code",
   "execution_count": 87,
   "id": "5a8213b7",
   "metadata": {},
   "outputs": [],
   "source": [
    "from scipy.stats.mstats import gmean"
   ]
  },
  {
   "cell_type": "code",
   "execution_count": 102,
   "id": "b7f3113c",
   "metadata": {},
   "outputs": [],
   "source": [
    "# 累積度数をプロットする。\n",
    "def plotDensities(\n",
    "    data: npt.NDArray[np.float64],\n",
    "    names: npt.NDArray[np.object0],\n",
    "    col: int = 1,\n",
    "    fig: Optional[go.Figure] = None,\n",
    "    title: str = \"\",\n",
    ") -> go.Figure:\n",
    "    n_samples, n_features = data.shape\n",
    "    if n_samples != len(names):\n",
    "        raise TypeError(f\"'data' and 'names' arrays must have the same shape, but got {n_samples}!={len(names)}\")\n",
    "    fig = fig or make_subplots(rows=1, cols=1)\n",
    "    for ith_data, name in zip(np.log2(data), names):\n",
    "        hist, bin_edges = np.histogram(a=ith_data, bins=100, density=True)\n",
    "        fig.add_trace(trace=go.Scatter(x=bin_edges[1:], y=hist, name=name, mode=\"lines\"), row=1, col=col)\n",
    "    fig.update_layout(\n",
    "        title=title,\n",
    "        xaxis_title=\"$log_2(\\\\text{gProcessedSignal})$\",\n",
    "        yaxis_title=\"Density\",\n",
    "    )\n",
    "    return fig"
   ]
  },
  {
   "cell_type": "code",
   "execution_count": 103,
   "id": "1692a02d",
   "metadata": {},
   "outputs": [
    {
     "name": "stdout",
     "output_type": "stream",
     "text": [
      "raw_data.shape = (8, 21511)\n"
     ]
    }
   ],
   "source": [
    "raw_data = df_filtered[conditions].T.values\n",
    "print(f\"raw_data.shape = {raw_data.shape}\")"
   ]
  },
  {
   "cell_type": "code",
   "execution_count": 105,
   "id": "75702c3f",
   "metadata": {},
   "outputs": [
    {
     "data": {
      "text/plain": [
       "(8,)"
      ]
     },
     "execution_count": 105,
     "metadata": {},
     "output_type": "execute_result"
    }
   ],
   "source": [
    "conditions.shape"
   ]
  },
  {
   "cell_type": "code",
   "execution_count": 109,
   "id": "ce51f73e",
   "metadata": {},
   "outputs": [],
   "source": [
    "fig = plotDensities(raw_data, names=conditions, title=\"raw data.\")\n",
    "fig.show()"
   ]
  },
  {
   "cell_type": "markdown",
   "id": "9b032923",
   "metadata": {},
   "source": [
    "#### 6.1.1 75%tile\n",
    "\n",
    "最も単純な正規化手法\n",
    "\n",
    "1. 各サンプルごとに、発現量の小さい方から数えて順位75%に位置するものの値を求める。\n",
    "2. この75%tileの値は通常サンプルごとに異なるが、それらの（相乗）平均 `a` を求める。\n",
    "3. 各サンプルごとに、全プローブの値に 「 $a$ /そのサンプルにおける75%tileの値」をかける（つまり、全サンプルで75%tile値を $a$ に揃える。）"
   ]
  },
  {
   "cell_type": "code",
   "execution_count": 106,
   "id": "604cea2c",
   "metadata": {},
   "outputs": [],
   "source": [
    "def tile75_normalization(data: npt.NDArray[np.float64]) -> npt.NDArray[np.float64]:\n",
    "    percentiles = np.percentile(a=data, q=75, axis=1)\n",
    "    a = gmean(percentiles)\n",
    "    return data * (a / percentiles)[:, np.newaxis]"
   ]
  },
  {
   "cell_type": "code",
   "execution_count": 107,
   "id": "7060f499",
   "metadata": {},
   "outputs": [
    {
     "name": "stdout",
     "output_type": "stream",
     "text": [
      "tile75_data.shape = (8, 21511)\n"
     ]
    }
   ],
   "source": [
    "tile75_data = tile75_normalization(raw_data)\n",
    "print(f\"tile75_data.shape = {tile75_data.shape}\")"
   ]
  },
  {
   "cell_type": "code",
   "execution_count": 108,
   "id": "700473c0",
   "metadata": {},
   "outputs": [],
   "source": [
    "# fig = plotDensities(tile75_data, names=conditions, title=\"75%tile\")\n",
    "# fig.show()"
   ]
  },
  {
   "cell_type": "markdown",
   "id": "65dacc12",
   "metadata": {},
   "source": [
    "#### 6.1.2 quantile法\n",
    "\n",
    "1. 各サンプルごとに発現量の値を順番に並べ替え、各順位の値をそれぞれ同順位のシグナル値の相乗平均で置き換える。\n",
    "2. その結果、全サンプルで分布が同一になる。"
   ]
  },
  {
   "cell_type": "code",
   "execution_count": 112,
   "id": "ca4146df",
   "metadata": {},
   "outputs": [],
   "source": [
    "def quantile_normalization(data: npt.NDArray[np.float64]) -> npt.NDArray[np.float64]:\n",
    "    return gmean(a=np.sort(a=data, axis=1), axis=0)[np.argsort(np.argsort(data, axis=1), axis=1)]"
   ]
  },
  {
   "cell_type": "code",
   "execution_count": 113,
   "id": "64d62818",
   "metadata": {},
   "outputs": [
    {
     "name": "stdout",
     "output_type": "stream",
     "text": [
      "quantiled_data.shape = (8, 21511)\n"
     ]
    }
   ],
   "source": [
    "quantiled_data = quantile_normalization(raw_data)\n",
    "print(f\"quantiled_data.shape = {quantiled_data.shape}\")"
   ]
  },
  {
   "cell_type": "code",
   "execution_count": 114,
   "id": "50a499de",
   "metadata": {},
   "outputs": [],
   "source": [
    "fig = plotDensities(quantiled_data, names=conditions, title=\"quantile\")\n",
    "fig.show()"
   ]
  },
  {
   "cell_type": "markdown",
   "id": "64bf984a",
   "metadata": {},
   "source": [
    "#### 6.1.3 正規化手法の比較\n",
    "\n",
    "各正規化処理後のデータを比較して見ましょう。"
   ]
  },
  {
   "cell_type": "code",
   "execution_count": 115,
   "id": "d4f6f128",
   "metadata": {},
   "outputs": [],
   "source": [
    "fig = make_subplots(rows=1, cols=3)\n",
    "plotDensities(raw_data,       names=sample_names, fig=fig, col=1)\n",
    "plotDensities(tile75_data,    names=sample_names, fig=fig, col=2)\n",
    "plotDensities(quantiled_data, names=sample_names, title=\"Comparison of normalization methods\", fig=fig, col=3)\n",
    "fig.show()"
   ]
  },
  {
   "cell_type": "markdown",
   "id": "bf973e09",
   "metadata": {},
   "source": [
    "### 6.2 seedマッチする遺伝子群の累積度数を調べる\n",
    "\n",
    "入力した配列を3'UTRにもつ遺伝子（アクセッション番号）のリストを表示するページ（[seedmatch](http://atlas.RNAi.jp/seedmatch/)）を用いて、siRNAのガイド鎖のseed（`UGAACUC`）と相補的な配列（`GAGTTCA`）が3'UTRに存在する遺伝子を検索する。"
   ]
  },
  {
   "cell_type": "markdown",
   "id": "ded3836c",
   "metadata": {},
   "source": [
    "#### 6.2.1 seed領域で調べてみる。\n",
    "\n",
    "まずは、siRNAのガイド鎖のseed（UGAACUC）と相補的な配列（GAGTTCA）が3'UTRに存在する遺伝子の発現量が本当に下がっているのか調べて見ましょう。つまり、オフターゲット効果を検証する、ということです。"
   ]
  },
  {
   "cell_type": "code",
   "execution_count": 118,
   "id": "9d7b3219",
   "metadata": {},
   "outputs": [],
   "source": [
    "from teilab.seedmatch import get_matched_mRNAs"
   ]
  },
  {
   "cell_type": "code",
   "execution_count": 119,
   "id": "a47d851e",
   "metadata": {},
   "outputs": [
    {
     "data": {
      "text/html": [
       "<div>\n",
       "<style scoped>\n",
       "    .dataframe tbody tr th:only-of-type {\n",
       "        vertical-align: middle;\n",
       "    }\n",
       "\n",
       "    .dataframe tbody tr th {\n",
       "        vertical-align: top;\n",
       "    }\n",
       "\n",
       "    .dataframe thead th {\n",
       "        text-align: right;\n",
       "    }\n",
       "</style>\n",
       "<table border=\"1\" class=\"dataframe\">\n",
       "  <thead>\n",
       "    <tr style=\"text-align: right;\">\n",
       "      <th></th>\n",
       "      <th>SystematicName</th>\n",
       "      <th>NumHits</th>\n",
       "    </tr>\n",
       "  </thead>\n",
       "  <tbody>\n",
       "    <tr>\n",
       "      <th>0</th>\n",
       "      <td>NM_001004713</td>\n",
       "      <td>1</td>\n",
       "    </tr>\n",
       "    <tr>\n",
       "      <th>1</th>\n",
       "      <td>NM_173860</td>\n",
       "      <td>1</td>\n",
       "    </tr>\n",
       "    <tr>\n",
       "      <th>2</th>\n",
       "      <td>NM_001005493</td>\n",
       "      <td>1</td>\n",
       "    </tr>\n",
       "    <tr>\n",
       "      <th>3</th>\n",
       "      <td>NM_001005516</td>\n",
       "      <td>1</td>\n",
       "    </tr>\n",
       "    <tr>\n",
       "      <th>4</th>\n",
       "      <td>NM_007084</td>\n",
       "      <td>1</td>\n",
       "    </tr>\n",
       "  </tbody>\n",
       "</table>\n",
       "</div>"
      ],
      "text/plain": [
       "  SystematicName NumHits\n",
       "0   NM_001004713       1\n",
       "1      NM_173860       1\n",
       "2   NM_001005493       1\n",
       "3   NM_001005516       1\n",
       "4      NM_007084       1"
      ]
     },
     "execution_count": 119,
     "metadata": {},
     "output_type": "execute_result"
    }
   ],
   "source": [
    "df_matched_mRNAs = get_matched_mRNAs(\"GAGTTCA\")\n",
    "df_matched_mRNAs.head(5)"
   ]
  },
  {
   "cell_type": "code",
   "execution_count": 120,
   "id": "a2c052fd",
   "metadata": {},
   "outputs": [],
   "source": [
    "# seedmatchで検索したデータと紐付ける。\n",
    "df_is_matched = pd.merge(df_filtered, df_matched_mRNAs, on=\"SystematicName\", how=\"left\").fillna(0)"
   ]
  },
  {
   "cell_type": "code",
   "execution_count": 121,
   "id": "80d6e232",
   "metadata": {},
   "outputs": [
    {
     "data": {
      "text/html": [
       "<div>\n",
       "<style scoped>\n",
       "    .dataframe tbody tr th:only-of-type {\n",
       "        vertical-align: middle;\n",
       "    }\n",
       "\n",
       "    .dataframe tbody tr th {\n",
       "        vertical-align: top;\n",
       "    }\n",
       "\n",
       "    .dataframe thead th {\n",
       "        text-align: right;\n",
       "    }\n",
       "</style>\n",
       "<table border=\"1\" class=\"dataframe\">\n",
       "  <thead>\n",
       "    <tr style=\"text-align: right;\">\n",
       "      <th></th>\n",
       "      <th>index</th>\n",
       "      <th>FeatureNum</th>\n",
       "      <th>ControlType</th>\n",
       "      <th>ProbeName</th>\n",
       "      <th>GeneName</th>\n",
       "      <th>SystematicName</th>\n",
       "      <th>mock(1)</th>\n",
       "      <th>siVIM-270(LNA3-5)</th>\n",
       "      <th>siVIM-270(LNA2-8)</th>\n",
       "      <th>mock(2)</th>\n",
       "      <th>siVIM-270</th>\n",
       "      <th>siVIM-270(2'OMe4-6)</th>\n",
       "      <th>siVIM-270(2'OMe3-7)</th>\n",
       "      <th>siVIM-270(2'OMe2-8)</th>\n",
       "      <th>mock</th>\n",
       "      <th>NumHits</th>\n",
       "      <th>log2(RNA/mock)</th>\n",
       "    </tr>\n",
       "  </thead>\n",
       "  <tbody>\n",
       "    <tr>\n",
       "      <th>0</th>\n",
       "      <td>13728</td>\n",
       "      <td>40255</td>\n",
       "      <td>0</td>\n",
       "      <td>A_23_P161190</td>\n",
       "      <td>VIM</td>\n",
       "      <td>NM_003380</td>\n",
       "      <td>97095.4100</td>\n",
       "      <td>28738.2500</td>\n",
       "      <td>107303.0000</td>\n",
       "      <td>113061.4000</td>\n",
       "      <td>11273.03000</td>\n",
       "      <td>13240.8100</td>\n",
       "      <td>13071.9200</td>\n",
       "      <td>19334.3000</td>\n",
       "      <td>105078.40500</td>\n",
       "      <td>0</td>\n",
       "      <td>-3.220519</td>\n",
       "    </tr>\n",
       "    <tr>\n",
       "      <th>1</th>\n",
       "      <td>1261</td>\n",
       "      <td>3725</td>\n",
       "      <td>0</td>\n",
       "      <td>A_24_P396231</td>\n",
       "      <td>LAMP2</td>\n",
       "      <td>NM_002294</td>\n",
       "      <td>445.2353</td>\n",
       "      <td>338.8382</td>\n",
       "      <td>415.8079</td>\n",
       "      <td>450.9737</td>\n",
       "      <td>95.27578</td>\n",
       "      <td>277.0111</td>\n",
       "      <td>283.0721</td>\n",
       "      <td>390.5766</td>\n",
       "      <td>448.10450</td>\n",
       "      <td>2</td>\n",
       "      <td>-2.233654</td>\n",
       "    </tr>\n",
       "    <tr>\n",
       "      <th>2</th>\n",
       "      <td>9684</td>\n",
       "      <td>28371</td>\n",
       "      <td>0</td>\n",
       "      <td>A_24_P4705</td>\n",
       "      <td>PPME1</td>\n",
       "      <td>NM_016147</td>\n",
       "      <td>830.8831</td>\n",
       "      <td>330.5200</td>\n",
       "      <td>354.1883</td>\n",
       "      <td>822.7149</td>\n",
       "      <td>246.87330</td>\n",
       "      <td>376.0636</td>\n",
       "      <td>331.0058</td>\n",
       "      <td>377.5120</td>\n",
       "      <td>826.79900</td>\n",
       "      <td>1</td>\n",
       "      <td>-1.743766</td>\n",
       "    </tr>\n",
       "    <tr>\n",
       "      <th>3</th>\n",
       "      <td>5998</td>\n",
       "      <td>17634</td>\n",
       "      <td>0</td>\n",
       "      <td>A_23_P146417</td>\n",
       "      <td>C9orf5</td>\n",
       "      <td>NM_032012</td>\n",
       "      <td>3145.1030</td>\n",
       "      <td>3127.5030</td>\n",
       "      <td>3795.3370</td>\n",
       "      <td>3189.5740</td>\n",
       "      <td>976.94710</td>\n",
       "      <td>2191.7760</td>\n",
       "      <td>1788.6940</td>\n",
       "      <td>3437.1110</td>\n",
       "      <td>3167.33850</td>\n",
       "      <td>2</td>\n",
       "      <td>-1.696919</td>\n",
       "    </tr>\n",
       "    <tr>\n",
       "      <th>4</th>\n",
       "      <td>3515</td>\n",
       "      <td>10343</td>\n",
       "      <td>0</td>\n",
       "      <td>A_33_P3413701</td>\n",
       "      <td>ERAP1</td>\n",
       "      <td>NM_001040458</td>\n",
       "      <td>592.7684</td>\n",
       "      <td>478.5547</td>\n",
       "      <td>563.1971</td>\n",
       "      <td>609.4255</td>\n",
       "      <td>189.86100</td>\n",
       "      <td>530.7483</td>\n",
       "      <td>431.6865</td>\n",
       "      <td>595.4490</td>\n",
       "      <td>601.09695</td>\n",
       "      <td>1</td>\n",
       "      <td>-1.662654</td>\n",
       "    </tr>\n",
       "  </tbody>\n",
       "</table>\n",
       "</div>"
      ],
      "text/plain": [
       "   index  FeatureNum  ControlType      ProbeName GeneName SystematicName  \\\n",
       "0  13728       40255            0   A_23_P161190      VIM      NM_003380   \n",
       "1   1261        3725            0   A_24_P396231    LAMP2      NM_002294   \n",
       "2   9684       28371            0     A_24_P4705    PPME1      NM_016147   \n",
       "3   5998       17634            0   A_23_P146417   C9orf5      NM_032012   \n",
       "4   3515       10343            0  A_33_P3413701    ERAP1   NM_001040458   \n",
       "\n",
       "      mock(1)  siVIM-270(LNA3-5)  siVIM-270(LNA2-8)      mock(2)    siVIM-270  \\\n",
       "0  97095.4100         28738.2500        107303.0000  113061.4000  11273.03000   \n",
       "1    445.2353           338.8382           415.8079     450.9737     95.27578   \n",
       "2    830.8831           330.5200           354.1883     822.7149    246.87330   \n",
       "3   3145.1030          3127.5030          3795.3370    3189.5740    976.94710   \n",
       "4    592.7684           478.5547           563.1971     609.4255    189.86100   \n",
       "\n",
       "   siVIM-270(2'OMe4-6)  siVIM-270(2'OMe3-7)  siVIM-270(2'OMe2-8)  \\\n",
       "0           13240.8100           13071.9200           19334.3000   \n",
       "1             277.0111             283.0721             390.5766   \n",
       "2             376.0636             331.0058             377.5120   \n",
       "3            2191.7760            1788.6940            3437.1110   \n",
       "4             530.7483             431.6865             595.4490   \n",
       "\n",
       "           mock NumHits  log2(RNA/mock)  \n",
       "0  105078.40500       0       -3.220519  \n",
       "1     448.10450       2       -2.233654  \n",
       "2     826.79900       1       -1.743766  \n",
       "3    3167.33850       2       -1.696919  \n",
       "4     601.09695       1       -1.662654  "
      ]
     },
     "execution_count": 121,
     "metadata": {},
     "output_type": "execute_result"
    }
   ],
   "source": [
    "# 累積度数曲線を描くために、ソートする。\n",
    "df_is_matched[\"log2(RNA/mock)\"] = np.log2(df_is_matched[\"siVIM-270\"]/df_is_matched[\"mock\"])\n",
    "df_is_matched = df_is_matched.sort_values(by=\"log2(RNA/mock)\").reset_index(drop=False)\n",
    "df_is_matched.head(5)"
   ]
  },
  {
   "cell_type": "code",
   "execution_count": 122,
   "id": "67f1531b",
   "metadata": {},
   "outputs": [],
   "source": [
    "def CFC_trace_create(data:npt.NDArray, name:str=\"\") -> go.Scatter:\n",
    "    \"\"\"Create a CFC(Cumulative Frequency Curve)\"\"\"\n",
    "    num_data = len(data)\n",
    "    trace = go.Scatter(x=data, y=[(i+1)/num_data for i in range(num_data)], mode=\"lines\", name=name)\n",
    "    return trace"
   ]
  },
  {
   "cell_type": "code",
   "execution_count": 125,
   "id": "6306c6e3",
   "metadata": {},
   "outputs": [],
   "source": [
    "fig = {\n",
    "    \"data\":[\n",
    "        CFC_trace_create(data=df_is_matched[\"log2(RNA/mock)\"].values, name=\"all\"),\n",
    "        CFC_trace_create(data=df_is_matched[df_is_matched[\"NumHits\"]!=0][\"log2(RNA/mock)\"].values, name=\"seed matched mRNAs\")\n",
    "    ],\n",
    "    \"layout\": go.Layout(title=\"The expression level(All vs seed matched mRNAs)\", xaxis_title=\"$log_2(RNA/mock)$\", yaxis_title=\"Cumulative frequency\")\n",
    "}\n",
    "offline.iplot(fig)"
   ]
  },
  {
   "cell_type": "markdown",
   "id": "8646bd6a",
   "metadata": {},
   "source": [
    "#### 6.2.2 seedマッチで色々遊んでみる。\n",
    "\n",
    "　ここから先は、みなさんが興味を持った点について、思う存分データで遊んでいただく時間です。\n",
    "\n",
    "- マッチするシードの数（`NumHits`）って、多い方が抑制されてる？？\n",
    "- そもそもなんで2-8の7merでオフターゲット効果が起きるの？？\n",
    "  - 1-7や3-9は？？\n",
    "  - 6merや9merは？？\n",
    "  - Argonauteタンパク質と結合（loading）し、RISC(RNA induced silencing complex)を形成するが、構造的に…\n",
    "- 統計的に有意だと言える？？\n",
    "\n",
    "面白そうなことについては、積極的に調べて見てください！！"
   ]
  }
 ],
 "metadata": {
  "hide_input": false,
  "kernelspec": {
   "display_name": "UiTeiLab",
   "language": "python",
   "name": "uiteilab"
  },
  "language_info": {
   "codemirror_mode": {
    "name": "ipython",
    "version": 3
   },
   "file_extension": ".py",
   "mimetype": "text/x-python",
   "name": "python",
   "nbconvert_exporter": "python",
   "pygments_lexer": "ipython3",
   "version": "3.8.9"
  }
 },
 "nbformat": 4,
 "nbformat_minor": 5
}
