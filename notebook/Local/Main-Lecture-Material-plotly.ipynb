{
 "cells": [
  {
   "cell_type": "markdown",
   "metadata": {},
   "source": [
    "# MicroArray Data Analysis"
   ]
  },
  {
   "cell_type": "markdown",
   "metadata": {},
   "source": [
    "```python\n",
    "# If you have any questions, please run the following command to send me a message :)\n",
    "from teilab.question import ask\n",
    "ask(text=\"I have a question about...\")\n",
    "```"
   ]
  },
  {
   "cell_type": "code",
   "execution_count": 1,
   "metadata": {},
   "outputs": [],
   "source": [
    "import numpy as np\n",
    "import pandas as pd\n",
    "from teilab.datasets import TeiLabDataSets\n",
    "from teilab.normalizations import quantile\n",
    "from teilab.plot.plotly import densityplot\n",
    "from teilab.utils import subplots_create\n",
    "\n",
    "pd.set_option('display.max_columns', 200)"
   ]
  },
  {
   "cell_type": "markdown",
   "metadata": {},
   "source": [
    "### Prepare Required Data\n",
    "\n",
    "Some data are **\"unpublished\"**, so please treat it carefully."
   ]
  },
  {
   "cell_type": "code",
   "execution_count": 14,
   "metadata": {},
   "outputs": [],
   "source": [
    "datasets = TeiLabDataSets(verbose=False)"
   ]
  },
  {
   "cell_type": "code",
   "execution_count": 15,
   "metadata": {},
   "outputs": [],
   "source": [
    "data_dir1 = datasets.get_data(password=\"microarray2020A\")\n",
    "data_dir2 = datasets.get_data(password=\"microarray2021S\")"
   ]
  },
  {
   "cell_type": "code",
   "execution_count": 16,
   "metadata": {},
   "outputs": [
    {
     "name": "stdout",
     "output_type": "stream",
     "text": [
      "  idx    gn  GroupName                              FileName\n",
      "-----  ----  -------------------------------------  ---------------------------------------------------\n",
      "    0     0  SG19378659_257236339458_S001_GE1_1200  SG19378659_257236339458_S001_GE1_1200_Jun14_1_1.txt\n",
      "    1     0  SG19378659_257236339458_S001_GE1_1200  SG19378659_257236339458_S001_GE1_1200_Jun14_1_2.txt\n",
      "    2     0  SG19378659_257236339458_S001_GE1_1200  SG19378659_257236339458_S001_GE1_1200_Jun14_1_3.txt\n",
      "    3     0  SG19378659_257236339458_S001_GE1_1200  SG19378659_257236339458_S001_GE1_1200_Jun14_1_4.txt\n",
      "    4     0  SG19378659_257236339458_S001_GE1_1200  SG19378659_257236339458_S001_GE1_1200_Jun14_2_1.txt\n",
      "    5     1  US91503671_253949442637_S01_GE1_105    US91503671_253949442637_S01_GE1_105_Dec08_1_1.txt\n",
      "    6     1  US91503671_253949442637_S01_GE1_105    US91503671_253949442637_S01_GE1_105_Dec08_2_3.txt\n",
      "    7     1  US91503671_253949442637_S01_GE1_105    US91503671_253949442637_S01_GE1_105_Dec08_2_4.txt\n",
      "    8     1  US91503671_253949442637_S01_GE1_105    US91503671_253949442637_S01_GE1_105_Dec08_2_1.txt\n",
      "    9     1  US91503671_253949442637_S01_GE1_105    US91503671_253949442637_S01_GE1_105_Dec08_1_2.txt\n",
      "   10     1  US91503671_253949442637_S01_GE1_105    US91503671_253949442637_S01_GE1_105_Dec08_1_3.txt\n",
      "   11     1  US91503671_253949442637_S01_GE1_105    US91503671_253949442637_S01_GE1_105_Dec08_1_4.txt\n",
      "   12     1  US91503671_253949442637_S01_GE1_105    US91503671_253949442637_S01_GE1_105_Dec08_2_2.txt\n"
     ]
    }
   ],
   "source": [
    "datasets.samples.show_groups()"
   ]
  },
  {
   "cell_type": "markdown",
   "metadata": {},
   "source": [
    "### 2. Read Data & Merge"
   ]
  },
  {
   "cell_type": "code",
   "execution_count": 37,
   "metadata": {},
   "outputs": [],
   "source": [
    "from teilab.utils import subplots_create\n",
    "fig = subplots_create(style=\"plotly\")"
   ]
  },
  {
   "cell_type": "code",
   "execution_count": 85,
   "metadata": {},
   "outputs": [],
   "source": [
    "from teilab.plot.plotly import MAplot"
   ]
  },
  {
   "cell_type": "code",
   "execution_count": null,
   "metadata": {},
   "outputs": [],
   "source": []
  },
  {
   "cell_type": "code",
   "execution_count": null,
   "metadata": {},
   "outputs": [],
   "source": []
  },
  {
   "cell_type": "code",
   "execution_count": 39,
   "metadata": {},
   "outputs": [],
   "source": [
    ">>> fig1 = XYplot(df=df_combined, x=datasets.samples.Condition[0], y=datasets.samples.Condition[1], hover_name=\"SystematicName\", height=600, width=600)"
   ]
  },
  {
   "cell_type": "code",
   "execution_count": 17,
   "metadata": {},
   "outputs": [
    {
     "name": "stdout",
     "output_type": "stream",
     "text": [
      "[5, 6, 7, 8, 9, 10, 11, 12]\n"
     ]
    }
   ],
   "source": [
    "sample_numbers = datasets.samples.get_group_numbers(group_no=1)\n",
    "print(sample_numbers)"
   ]
  },
  {
   "cell_type": "code",
   "execution_count": 18,
   "metadata": {},
   "outputs": [
    {
     "name": "stdout",
     "output_type": "stream",
     "text": [
      "[Before] The number of data: 62976\n",
      "[After] The number of data: 20947\n"
     ]
    }
   ],
   "source": [
    "df_anno = datasets.read_data(no=sample_numbers[0], usecols=datasets.ANNO_COLNAMES)\n",
    "reliable_index = set(df_anno.index)\n",
    "print(f\"[Before] The number of data: {len(df_anno)}\")\n",
    "\n",
    "df_combined = df_anno.copy(deep=True)\n",
    "for no in sample_numbers:\n",
    "    df_data = datasets.read_data(no=no)\n",
    "    reliable_index = reliable_index & set(datasets.reliable_filter(df=df_data))\n",
    "    df_combined = pd.concat([\n",
    "        df_combined, \n",
    "        df_data[[datasets.TARGET_COLNAME]].rename(columns={datasets.TARGET_COLNAME: datasets.samples.Condition[no]})\n",
    "    ], axis=1)\n",
    "\n",
    "df_combined = df_combined.loc[reliable_index, :].reset_index(drop=True)\n",
    "print(f\"[After] The number of data: {len(df_combined)}\")"
   ]
  },
  {
   "cell_type": "code",
   "execution_count": 23,
   "metadata": {},
   "outputs": [
    {
     "data": {
      "text/plain": [
       "0         12566.8700\n",
       "1        122723.7000\n",
       "2          1234.1460\n",
       "3           994.2160\n",
       "4          4842.2340\n",
       "            ...     \n",
       "20942       673.4793\n",
       "20943      3253.3950\n",
       "20944       262.7825\n",
       "20945     75533.9700\n",
       "20946       619.1220\n",
       "Name: mock(1), Length: 20947, dtype: float64"
      ]
     },
     "execution_count": 23,
     "metadata": {},
     "output_type": "execute_result"
    }
   ],
   "source": [
    "df_combined[\"mock(1)\"]"
   ]
  },
  {
   "cell_type": "markdown",
   "metadata": {},
   "source": [
    "$\\log_2{(da)}$"
   ]
  },
  {
   "cell_type": "markdown",
   "metadata": {},
   "source": [
    "### 3. Normalization"
   ]
  },
  {
   "cell_type": "code",
   "execution_count": null,
   "metadata": {},
   "outputs": [],
   "source": [
    "\n",
    "n_samples = 8\n",
    "cmap = plt.get_cmap(name=None)\n",
    "colors = [cmap(((i+1)/(n_samples))) for i in range(n_samples)]\n",
    "colors"
   ]
  },
  {
   "cell_type": "code",
   "execution_count": null,
   "metadata": {},
   "outputs": [],
   "source": []
  },
  {
   "cell_type": "code",
   "execution_count": null,
   "metadata": {},
   "outputs": [],
   "source": [
    "print(get_colorList(n=data.shape[1], style=\"plotly\"))"
   ]
  },
  {
   "cell_type": "code",
   "execution_count": null,
   "metadata": {},
   "outputs": [],
   "source": [
    "from matplotlib.colors import Colormap\n",
    "Colormap(\"bwr\")"
   ]
  },
  {
   "cell_type": "code",
   "execution_count": null,
   "metadata": {},
   "outputs": [],
   "source": [
    "get_colorList(n=3, cmap=\"bwr\", style=\"plotly\")"
   ]
  },
  {
   "cell_type": "code",
   "execution_count": null,
   "metadata": {},
   "outputs": [],
   "source": []
  },
  {
   "cell_type": "code",
   "execution_count": null,
   "metadata": {},
   "outputs": [],
   "source": []
  },
  {
   "cell_type": "code",
   "execution_count": null,
   "metadata": {},
   "outputs": [],
   "source": [
    "data = df_combined[expression_colnames].values"
   ]
  },
  {
   "cell_type": "code",
   "execution_count": null,
   "metadata": {},
   "outputs": [],
   "source": [
    "densityplot(np.log2(data.T), cmap=\"bwr\", xlabel=\"$\\\\log_{2}(\\\\text{gProcessedSignal})$\", colors=['rgba(64,64,255,255)', 'rgba(128,128,255,0.3)', 'rgba(192,192,255,0.2)', 'rgba(255,254,254,0.3)', 'rgba(255,190,190,0.3)', 'rgba(255,126,126,0.3)', 'rgba(255,62,62,0.2)', 'rgba(255,0,0,255)'])"
   ]
  },
  {
   "cell_type": "code",
   "execution_count": null,
   "metadata": {},
   "outputs": [],
   "source": []
  },
  {
   "cell_type": "code",
   "execution_count": null,
   "metadata": {},
   "outputs": [],
   "source": [
    "fig"
   ]
  },
  {
   "cell_type": "code",
   "execution_count": null,
   "metadata": {},
   "outputs": [],
   "source": [
    "import plotly.graph_objects as go"
   ]
  },
  {
   "cell_type": "code",
   "execution_count": null,
   "metadata": {},
   "outputs": [],
   "source": []
  },
  {
   "cell_type": "code",
   "execution_count": null,
   "metadata": {},
   "outputs": [],
   "source": []
  }
 ],
 "metadata": {
  "hide_input": false,
  "kernelspec": {
   "display_name": "TeiLab-BasicLaboratoryWork",
   "language": "python",
   "name": "teilab-basiclaboratorywork"
  },
  "language_info": {
   "codemirror_mode": {
    "name": "ipython",
    "version": 3
   },
   "file_extension": ".py",
   "mimetype": "text/x-python",
   "name": "python",
   "nbconvert_exporter": "python",
   "pygments_lexer": "ipython3",
   "version": "3.8.9"
  }
 },
 "nbformat": 4,
 "nbformat_minor": 4
}
