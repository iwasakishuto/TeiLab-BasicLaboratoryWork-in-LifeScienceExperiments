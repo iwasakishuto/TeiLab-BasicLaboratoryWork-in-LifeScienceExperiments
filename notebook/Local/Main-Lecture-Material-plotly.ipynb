{
 "cells": [
  {
   "cell_type": "markdown",
   "metadata": {},
   "source": [
    "# MicroArray Data Analysis"
   ]
  },
  {
   "cell_type": "markdown",
   "metadata": {},
   "source": [
    "```python\n",
    "# If you have any questions, please run the following command to send me a message :)\n",
    "from teilab.question import ask\n",
    "ask(text=\"I have a question about...\")\n",
    "```"
   ]
  },
  {
   "cell_type": "code",
   "execution_count": 1,
   "metadata": {},
   "outputs": [],
   "source": [
    "import numpy as np\n",
    "import pandas as pd\n",
    "\n",
    "pd.set_option('display.max_columns', 200)"
   ]
  },
  {
   "cell_type": "markdown",
   "metadata": {},
   "source": [
    "### Prepare Required Data\n",
    "\n",
    "Some data are **\"unpublished\"**, so please treat it carefully."
   ]
  },
  {
   "cell_type": "code",
   "execution_count": 2,
   "metadata": {},
   "outputs": [],
   "source": [
    "from teilab.datasets import TeiLabDataSets"
   ]
  },
  {
   "cell_type": "code",
   "execution_count": 3,
   "metadata": {},
   "outputs": [],
   "source": [
    "datasets = TeiLabDataSets(verbose=False)"
   ]
  },
  {
   "cell_type": "code",
   "execution_count": 5,
   "metadata": {},
   "outputs": [],
   "source": [
    "data_dir1 = datasets.get_data(password=\"<>\")\n",
    "data_dir2 = datasets.get_data(password=\"<>\")"
   ]
  },
  {
   "cell_type": "code",
   "execution_count": 6,
   "metadata": {},
   "outputs": [
    {
     "name": "stdout",
     "output_type": "stream",
     "text": [
      "  idx    gn  GroupName                              FileName\n",
      "-----  ----  -------------------------------------  ---------------------------------------------------\n",
      "    0     0  SG19378659_257236339458_S001_GE1_1200  SG19378659_257236339458_S001_GE1_1200_Jun14_1_1.txt\n",
      "    1     0  SG19378659_257236339458_S001_GE1_1200  SG19378659_257236339458_S001_GE1_1200_Jun14_1_2.txt\n",
      "    2     0  SG19378659_257236339458_S001_GE1_1200  SG19378659_257236339458_S001_GE1_1200_Jun14_1_3.txt\n",
      "    3     0  SG19378659_257236339458_S001_GE1_1200  SG19378659_257236339458_S001_GE1_1200_Jun14_1_4.txt\n",
      "    4     0  SG19378659_257236339458_S001_GE1_1200  SG19378659_257236339458_S001_GE1_1200_Jun14_2_1.txt\n",
      "    5     1  US91503671_253949442637_S01_GE1_105    US91503671_253949442637_S01_GE1_105_Dec08_1_1.txt\n",
      "    6     1  US91503671_253949442637_S01_GE1_105    US91503671_253949442637_S01_GE1_105_Dec08_2_3.txt\n",
      "    7     1  US91503671_253949442637_S01_GE1_105    US91503671_253949442637_S01_GE1_105_Dec08_2_4.txt\n",
      "    8     1  US91503671_253949442637_S01_GE1_105    US91503671_253949442637_S01_GE1_105_Dec08_2_1.txt\n",
      "    9     1  US91503671_253949442637_S01_GE1_105    US91503671_253949442637_S01_GE1_105_Dec08_1_2.txt\n",
      "   10     1  US91503671_253949442637_S01_GE1_105    US91503671_253949442637_S01_GE1_105_Dec08_1_3.txt\n",
      "   11     1  US91503671_253949442637_S01_GE1_105    US91503671_253949442637_S01_GE1_105_Dec08_1_4.txt\n",
      "   12     1  US91503671_253949442637_S01_GE1_105    US91503671_253949442637_S01_GE1_105_Dec08_2_2.txt\n"
     ]
    }
   ],
   "source": [
    "datasets.samples.show_groups()"
   ]
  },
  {
   "cell_type": "markdown",
   "metadata": {},
   "source": [
    "### 2. Read Data & Merge"
   ]
  },
  {
   "cell_type": "code",
   "execution_count": 18,
   "metadata": {},
   "outputs": [
    {
     "name": "stdout",
     "output_type": "stream",
     "text": [
      "  idx  Condition              gn  GroupName                              FileName\n",
      "-----  -------------------  ----  -------------------------------------  ---------------------------------------------------\n",
      "    0  mock                    0  SG19378659_257236339458_S001_GE1_1200  SG19378659_257236339458_S001_GE1_1200_Jun14_1_1.txt\n",
      "    1  siVIM-270               0  SG19378659_257236339458_S001_GE1_1200  SG19378659_257236339458_S001_GE1_1200_Jun14_1_2.txt\n",
      "    2  siVIM-270(2'OMe2-5)     0  SG19378659_257236339458_S001_GE1_1200  SG19378659_257236339458_S001_GE1_1200_Jun14_1_3.txt\n",
      "    3  siVIM-270(2'OMe6-8)     0  SG19378659_257236339458_S001_GE1_1200  SG19378659_257236339458_S001_GE1_1200_Jun14_1_4.txt\n",
      "    4  siVIM-270(2'OMe2-8)     0  SG19378659_257236339458_S001_GE1_1200  SG19378659_257236339458_S001_GE1_1200_Jun14_2_1.txt\n",
      "    5  mock(1)                 1  US91503671_253949442637_S01_GE1_105    US91503671_253949442637_S01_GE1_105_Dec08_1_1.txt\n",
      "    6  siVIM-270(LNA3-5)       1  US91503671_253949442637_S01_GE1_105    US91503671_253949442637_S01_GE1_105_Dec08_2_3.txt\n",
      "    7  siVIM-270(LNA2-8)       1  US91503671_253949442637_S01_GE1_105    US91503671_253949442637_S01_GE1_105_Dec08_2_4.txt\n",
      "    8  mock(2)                 1  US91503671_253949442637_S01_GE1_105    US91503671_253949442637_S01_GE1_105_Dec08_2_1.txt\n",
      "    9  siVIM-270               1  US91503671_253949442637_S01_GE1_105    US91503671_253949442637_S01_GE1_105_Dec08_1_2.txt\n",
      "   10  siVIM-270(2'OMe4-6)     1  US91503671_253949442637_S01_GE1_105    US91503671_253949442637_S01_GE1_105_Dec08_1_3.txt\n",
      "   11  siVIM-270(2'OMe3-7)     1  US91503671_253949442637_S01_GE1_105    US91503671_253949442637_S01_GE1_105_Dec08_1_4.txt\n",
      "   12  siVIM-270(2'OMe2-8)     1  US91503671_253949442637_S01_GE1_105    US91503671_253949442637_S01_GE1_105_Dec08_2_2.txt\n"
     ]
    }
   ],
   "source": [
    "datasets.samples.show_groups()"
   ]
  },
  {
   "cell_type": "code",
   "execution_count": 7,
   "metadata": {},
   "outputs": [
    {
     "name": "stdout",
     "output_type": "stream",
     "text": [
      "[5, 6, 7, 8, 9, 10, 11, 12]\n"
     ]
    }
   ],
   "source": [
    "sample_numbers = datasets.samples.get_group_numbers(group_no=1)\n",
    "print(sample_numbers)"
   ]
  },
  {
   "cell_type": "code",
   "execution_count": 8,
   "metadata": {},
   "outputs": [
    {
     "name": "stdout",
     "output_type": "stream",
     "text": [
      "[Before] The number of data: 62976\n",
      "[After] The number of data: 20947\n"
     ]
    }
   ],
   "source": [
    "df_anno = datasets.read_data(no=sample_numbers[0], usecols=datasets.ANNO_COLNAMES)\n",
    "reliable_index = set(df_anno.index)\n",
    "print(f\"[Before] The number of data: {len(df_anno)}\")\n",
    "\n",
    "df_combined = df_anno.copy(deep=True)\n",
    "for no in sample_numbers:\n",
    "    df_data = datasets.read_data(no=no)\n",
    "    reliable_index = reliable_index & set(datasets.reliable_filter(df=df_data))\n",
    "    df_combined = pd.concat([\n",
    "        df_combined, \n",
    "        df_data[[datasets.TARGET_COLNAME]].rename(columns={datasets.TARGET_COLNAME: datasets.samples.Condition[no]})\n",
    "    ], axis=1)\n",
    "\n",
    "df_combined = df_combined.loc[reliable_index, :].reset_index(drop=True)\n",
    "print(f\"[After] The number of data: {len(df_combined)}\")"
   ]
  },
  {
   "cell_type": "markdown",
   "metadata": {},
   "source": [
    "### 3. Normalization"
   ]
  },
  {
   "cell_type": "code",
   "execution_count": 9,
   "metadata": {},
   "outputs": [
    {
     "name": "stdout",
     "output_type": "stream",
     "text": [
      "0 mock(1)\n",
      "1 siVIM-270(LNA3-5)\n",
      "2 siVIM-270(LNA2-8)\n",
      "3 mock(2)\n",
      "4 siVIM-270\n",
      "5 siVIM-270(2'OMe4-6)\n",
      "6 siVIM-270(2'OMe3-7)\n",
      "7 siVIM-270(2'OMe2-8)\n"
     ]
    }
   ],
   "source": [
    "target_colnames = datasets.samples.Condition[sample_numbers]\n",
    "for i,col in enumerate(target_colnames):\n",
    "    print(i, col)"
   ]
  },
  {
   "cell_type": "code",
   "execution_count": 10,
   "metadata": {},
   "outputs": [
    {
     "name": "stdout",
     "output_type": "stream",
     "text": [
      "Number of Samples : 8\n",
      "Number of Features: 20947\n"
     ]
    }
   ],
   "source": [
    "data = df_combined[target_colnames].values.T\n",
    "SystematicNames = df_combined[\"SystematicName\"].values\n",
    "n_samples, n_features = data.shape\n",
    "print(\n",
    "    f\"Number of Samples : {n_samples}\",\n",
    "    f\"Number of Features: {n_features}\",\n",
    "    sep=\"\\n\"\n",
    ")"
   ]
  },
  {
   "cell_type": "code",
   "execution_count": 19,
   "metadata": {},
   "outputs": [],
   "source": [
    "# # Normalization\n",
    "# data_75percentiled = percentile(data=data, percent=75)\n",
    "# data_quantiled = quantile(data=data)"
   ]
  },
  {
   "cell_type": "markdown",
   "metadata": {},
   "source": [
    "### 4. Summarization"
   ]
  },
  {
   "cell_type": "code",
   "execution_count": null,
   "metadata": {},
   "outputs": [],
   "source": [
    "from teilab.normalizations import median_polish"
   ]
  },
  {
   "cell_type": "code",
   "execution_count": null,
   "metadata": {},
   "outputs": [],
   "source": [
    "# Summarization (Median Polish)\n",
    "data_median_polished               = median_polish(data=data,               labels=SystematicNames)\n",
    "data_75percentiled_median_polished = median_polish(data=data_75percentiled, labels=SystematicNames)\n",
    "data_quantiled_median_polished     = median_polish(data=data_quantiled,     labels=SystematicNames)"
   ]
  },
  {
   "cell_type": "markdown",
   "metadata": {},
   "source": [
    "```python\n",
    "# Use 'groupby' method for DataFrame.\n",
    "g = df_combined[target_colnames.tolist() + [\"SystematicName\"]].groupby(\"SystematicName\")\n",
    "g.mean()\n",
    "g.apply(median_polish_group_wise)\n",
    "```"
   ]
  },
  {
   "cell_type": "code",
   "execution_count": null,
   "metadata": {},
   "outputs": [],
   "source": [
    "all_data = [\n",
    "    data_sumarized,\n",
    "    data_75percentiled_sumarized,\n",
    "    data_quantiled_sumarized,\n",
    "]\n",
    "data_descriptions = [\n",
    "    \"Raw + Summarization\",\n",
    "    \"75%tile + Summarization\",\n",
    "    \"quantile + Summarization\",\n",
    "]"
   ]
  },
  {
   "cell_type": "markdown",
   "metadata": {},
   "source": [
    "### 5. Analysis"
   ]
  },
  {
   "cell_type": "code",
   "execution_count": null,
   "metadata": {},
   "outputs": [],
   "source": [
    "from teilab.utils import subplots_create\n",
    "from teilab.plot.plotly import density_plot"
   ]
  },
  {
   "cell_type": "markdown",
   "metadata": {},
   "source": [
    "#### Density Plot"
   ]
  },
  {
   "cell_type": "code",
   "execution_count": null,
   "metadata": {},
   "outputs": [],
   "source": [
    "density_plot(np.log2(data), labels=target_colnames)"
   ]
  },
  {
   "cell_type": "markdown",
   "metadata": {},
   "source": [
    "#### XY plot"
   ]
  },
  {
   "cell_type": "code",
   "execution_count": null,
   "metadata": {},
   "outputs": [],
   "source": [
    "density_plot(np.log2(data), labels=target_colnames)"
   ]
  },
  {
   "cell_type": "markdown",
   "metadata": {},
   "source": [
    "#### MA plot"
   ]
  }
 ],
 "metadata": {
  "hide_input": false,
  "kernelspec": {
   "display_name": "TeiLab-BasicLaboratoryWork",
   "language": "python",
   "name": "teilab-basiclaboratorywork"
  },
  "language_info": {
   "codemirror_mode": {
    "name": "ipython",
    "version": 3
   },
   "file_extension": ".py",
   "mimetype": "text/x-python",
   "name": "python",
   "nbconvert_exporter": "python",
   "pygments_lexer": "ipython3",
   "version": "3.8.9"
  }
 },
 "nbformat": 4,
 "nbformat_minor": 4
}
