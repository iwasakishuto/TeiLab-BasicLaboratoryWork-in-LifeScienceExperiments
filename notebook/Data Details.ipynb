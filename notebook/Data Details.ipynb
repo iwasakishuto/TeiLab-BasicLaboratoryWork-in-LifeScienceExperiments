{
 "cells": [
  {
   "cell_type": "markdown",
   "metadata": {},
   "source": [
    "# Data details"
   ]
  },
  {
   "cell_type": "code",
   "execution_count": 1,
   "metadata": {},
   "outputs": [],
   "source": [
    "from teilab.datasets import TeiLabDataSets"
   ]
  },
  {
   "cell_type": "code",
   "execution_count": 2,
   "metadata": {},
   "outputs": [],
   "source": [
    "datasets = TeiLabDataSets(verbose=False)\n",
    "_ = datasets.get_data(password=\"<PASSWORD1>\")\n",
    "_ = datasets.get_data(password=\"<PASSWORD2>\")"
   ]
  },
  {
   "cell_type": "code",
   "execution_count": 3,
   "metadata": {
    "scrolled": true
   },
   "outputs": [
    {
     "name": "stdout",
     "output_type": "stream",
     "text": [
      "Group Names   : ['SG19378659_257236339458_S001_GE1_1200', 'US91503671_253949442637_S01_GE1_105']\n",
      "Group Numbers : [0, 0, 0, 0, 0, 1, 1, 1, 1, 1, 1, 1, 1]\n"
     ]
    }
   ],
   "source": [
    "print(f\"Group Names   : {datasets.samples._group_names}\")\n",
    "print(f\"Group Numbers : {datasets.samples._group_numbers}\")"
   ]
  },
  {
   "cell_type": "markdown",
   "metadata": {},
   "source": [
    "## Group0"
   ]
  },
  {
   "cell_type": "markdown",
   "metadata": {},
   "source": [
    "Since there is little data in ``df_meta``, we will omit it here and check with [**Group1**](#Group1)"
   ]
  },
  {
   "cell_type": "markdown",
   "metadata": {},
   "source": [
    "## Group1"
   ]
  },
  {
   "cell_type": "markdown",
   "metadata": {},
   "source": [
    "Use data in group1 (`US91503671_253949442637_S01_GE1_105_MMMDD_X_X.txt`)"
   ]
  },
  {
   "cell_type": "code",
   "execution_count": 4,
   "metadata": {},
   "outputs": [
    {
     "name": "stdout",
     "output_type": "stream",
     "text": [
      "Sample No: -1\n",
      "Filename : US91503671_253949442637_S01_GE1_105_Dec08_2_2.txt\n",
      "Condition: siVIM-270(2'OMe2-8)\n"
     ]
    }
   ],
   "source": [
    "no = -1\n",
    "print(\n",
    "    f\"Sample No: {no}\",\n",
    "    f\"Filename : {datasets.samples.FileName[no]}\",\n",
    "    f\"Condition: {datasets.samples.Condition[no]}\",\n",
    "    sep=\"\\n\"\n",
    ")"
   ]
  },
  {
   "cell_type": "code",
   "execution_count": 5,
   "metadata": {},
   "outputs": [],
   "source": [
    "df_meta    = datasets.read_meta(no=no)\n",
    "df_summary = datasets.read_summary(no=no)\n",
    "df_data    = datasets.read_data(no=no)"
   ]
  },
  {
   "cell_type": "markdown",
   "metadata": {},
   "source": [
    "###  Background Subtraction Method"
   ]
  },
  {
   "cell_type": "markdown",
   "metadata": {},
   "source": [
    "Since the value of `gProcessedSignal` is **\"Background Subtracted\"** data by _Agilent Scanner_, check what kind of processing was done."
   ]
  },
  {
   "cell_type": "markdown",
   "metadata": {},
   "source": [
    "> Reference: [Agilent Feature Extraction 12.0 Reference Guide](https://www.agilent.com/cs/library/usermanuals/public/G4460-90052_FE_RefGuide.pdf)"
   ]
  },
  {
   "cell_type": "markdown",
   "metadata": {},
   "source": [
    "<table>\n",
    "  <thead>\n",
    "    <tr>\n",
    "      <th>Background Subtraction Method</th>\n",
    "      <th>Background Subtraction Variable</th>\n",
    "      <th>SpDe OFF<br>GBA OFF</th>\n",
    "      <th>SpDe ON<br>GBA OFF</th>\n",
    "      <th>SpDe OFF<br>GBA ON</th>\n",
    "      <th>SpDe ON<br>GBA ON</th>\n",
    "    </tr>\n",
    "  </thead>\n",
    "  <tbody>\n",
    "    <tr>\n",
    "      <td rowspan=\"3\">No background subtract</td>\n",
    "      <td><code>BGUsed</code> =</td>\n",
    "      <td><code>BGMeanSignal</code></td>\n",
    "      <td><code>SDSV</code></td>\n",
    "      <td><code>BGAdjust</code></td>\n",
    "      <td><code>SDSV</code> + <code>BGAdjust</code></td>\n",
    "    </tr>\n",
    "    <tr>\n",
    "      <td><code>BGSDUsed</code> = </td>\n",
    "      <td><code>BGPixSDev</code></td>\n",
    "      <td><code>BGPixSDev</code></td>\n",
    "      <td><code>BGPixSDev</code></td>\n",
    "      <td><code>BGPixSDev</code></td>\n",
    "    </tr>\n",
    "    <tr>\n",
    "      <td><code>BGSubSignal</code> = </td>\n",
    "      <td><code>MeanSignal</code></td>\n",
    "      <td><code>MeanSignal</code> - <code>BGUsed</code></td>\n",
    "      <td><code>MeanSignal</code> - <code>BGUsed</code></td>\n",
    "      <td><code>MeanSignal</code> - <code>BGUsed</code></td>\n",
    "    </tr>\n",
    "    <tr>\n",
    "      <td rowspan=\"3\">Local Background</td>\n",
    "      <td><code>BGUsed</code> = </td>\n",
    "      <td><code>BGMeanSignal</code></td>\n",
    "      <td><code>BGMeanSignal</code> + <code>SDSV</code></td>\n",
    "      <td><code>BGMeanSignal</code> + <code>BGAdjust</code></td>\n",
    "      <td><code>BGMeanSignal</code> + <code>SDSV</code> + <code>BGAdjust</code></td>\n",
    "    </tr>\n",
    "    <tr>\n",
    "      <td><code>BGSDUsed</code> = </td>\n",
    "      <td><code>BGPixSDev</code></td>\n",
    "      <td><code>BGPixSDev</code></td>\n",
    "      <td><code>BGPixSDev</code></td>\n",
    "      <td><code>BGPixSDev</code></td>\n",
    "    </tr>\n",
    "    <tr>\n",
    "      <td><code>BGSubSignal</code> = </td>\n",
    "      <td><code>MeanSignal</code> - <code>BGUsed</code></td>\n",
    "      <td><code>MeanSignal</code> - <code>BGUsed</code></td>\n",
    "      <td><code>MeanSignal</code> - <code>BGUsed</code></td>\n",
    "      <td><code>MeanSignal</code> - <code>BGUsed</code></td>\n",
    "    </tr>\n",
    "    <tr>\n",
    "      <td rowspan=\"3\">Global Background method</td>\n",
    "      <td><code>BGUsed</code> = </td>\n",
    "      <td><code>GBGIA</code></td>\n",
    "      <td><code>GBGIA</code> + <code>SDSV</code></td>\n",
    "      <td><code>GBGIA</code> + <code>BGAdjust</code></td>\n",
    "      <td><code>GBGIA</code> + <code>SDSV</code> + <code>BGAdjust</code></td>\n",
    "    </tr>\n",
    "    <tr>\n",
    "      <td><code>BGSDUsed</code> = </td>\n",
    "      <td><code>GBGISD</code></td>\n",
    "      <td><code>GBGISD</code></td>\n",
    "      <td><code>GBGISD</code></td>\n",
    "      <td><code>GBGISD</code></td>\n",
    "    </tr>\n",
    "    <tr>\n",
    "      <td><code>BGSubSignal</code> = </td>\n",
    "      <td><code>MeanSignal</code> - <code>BGUsed</code></td>\n",
    "      <td><code>MeanSignal</code> - <code>BGUsed</code></td>\n",
    "      <td><code>MeanSignal</code> - <code>BGUsed</code></td>\n",
    "      <td><code>MeanSignal</code> - <code>BGUsed</code></td>\n",
    "    </tr>\n",
    "  </tbody>\n",
    "</table>"
   ]
  },
  {
   "cell_type": "code",
   "execution_count": 6,
   "metadata": {},
   "outputs": [
    {
     "name": "stdout",
     "output_type": "stream",
     "text": [
      "BGSubtractor_BGSubMethod: 7\n"
     ]
    }
   ],
   "source": [
    "print(f'BGSubtractor_BGSubMethod: {df_meta[\"BGSubtractor_BGSubMethod\"].values[0]}')"
   ]
  },
  {
   "cell_type": "markdown",
   "metadata": {},
   "source": [
    "> The `BGSubMethod` of `7` corresponds to \"No Background Subtraction method\" (see [Table 17 on page 129](https://www.agilent.com/cs/library/usermanuals/public/G4460-90052_FE_RefGuide.pdf).). \n",
    "\n",
    "- Global Background Adjustment is turned Off. \n",
    "- Spatial Detrending is turned On."
   ]
  },
  {
   "cell_type": "code",
   "execution_count": 7,
   "metadata": {},
   "outputs": [],
   "source": [
    "assert all(df_data[\"gBGUsed\"] == df_data[\"gSpatialDetrendSurfaceValue\"])\n",
    "assert all(abs(df_data[\"gBGSDUsed\"] - df_data[\"gBGPixSDev\"])<1e3)\n",
    "assert all(abs((df_data[\"gBGSubSignal\"] - (df_data[\"gMeanSignal\"] - df_data[\"gBGUsed\"]))/df_data[\"gBGSubSignal\"]) < 1e4)"
   ]
  },
  {
   "cell_type": "code",
   "execution_count": null,
   "metadata": {},
   "outputs": [],
   "source": []
  }
 ],
 "metadata": {
  "hide_input": false,
  "kernelspec": {
   "display_name": "TeiLab-BasicLaboratoryWork",
   "language": "python",
   "name": "teilab-basiclaboratorywork"
  },
  "language_info": {
   "codemirror_mode": {
    "name": "ipython",
    "version": 3
   },
   "file_extension": ".py",
   "mimetype": "text/x-python",
   "name": "python",
   "nbconvert_exporter": "python",
   "pygments_lexer": "ipython3",
   "version": "3.8.9"
  }
 },
 "nbformat": 4,
 "nbformat_minor": 4
}
