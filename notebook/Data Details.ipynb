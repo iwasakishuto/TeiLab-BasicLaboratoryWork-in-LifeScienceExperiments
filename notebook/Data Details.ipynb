{
 "cells": [
  {
   "cell_type": "markdown",
   "metadata": {},
   "source": [
    "# Data details"
   ]
  },
  {
   "cell_type": "code",
   "execution_count": 2,
   "metadata": {},
   "outputs": [],
   "source": [
    "from teilab.datasets import TeiLabDataSets"
   ]
  },
  {
   "cell_type": "code",
   "execution_count": 7,
   "metadata": {},
   "outputs": [
    {
     "name": "stdout",
     "output_type": "stream",
     "text": [
      "Try to get data from https://drive.google.com/u/0/uc?export=download&confirm=bPRo&id=1xUCG7WZWHFmWFRy0OjgJr_-GKCSJrv2C\n",
      "This is published data :)\n",
      "Data already exists, so do nothing here.\n"
     ]
    }
   ],
   "source": [
    "datasets = TeiLabDataSets(verbose=True)\n",
    "_ = datasets.get_data(password=\"<Password1>\")"
   ]
  },
  {
   "cell_type": "code",
   "execution_count": 14,
   "metadata": {},
   "outputs": [
    {
     "name": "stdout",
     "output_type": "stream",
     "text": [
      "Group Names   : ['SG19378659_257236339458_S001_GE1_1200', 'US91503671_253949442637_S01_GE1_105']\n",
      "Group Numbers : [0, 0, 0, 0, 0, 1, 1, 1, 1, 1, 1, 1, 1]\n"
     ]
    }
   ],
   "source": [
    "print(f\"Group Names   : {datasets.samples._group_names}\")\n",
    "print(f\"Group Numbers : {datasets.samples._group_numbers}\")"
   ]
  },
  {
   "cell_type": "markdown",
   "metadata": {},
   "source": [
    "## Group1"
   ]
  },
  {
   "cell_type": "markdown",
   "metadata": {},
   "source": [
    "Use data in group1 (`US91503671_253949442637_S01_GE1_105_MMMDD_X_X.txt`)"
   ]
  },
  {
   "cell_type": "code",
   "execution_count": 17,
   "metadata": {},
   "outputs": [
    {
     "name": "stdout",
     "output_type": "stream",
     "text": [
      "Read data from 'microarray2020A/実習解析用データ/US91503671_253949442637_S01_GE1_105_Dec08_2_2.txt'\n",
      "Read data from 'microarray2020A/実習解析用データ/US91503671_253949442637_S01_GE1_105_Dec08_2_2.txt'\n",
      "Read data from 'microarray2020A/実習解析用データ/US91503671_253949442637_S01_GE1_105_Dec08_2_2.txt'\n"
     ]
    }
   ],
   "source": [
    "df_meta    = datasets.read_meta(no=-1)\n",
    "df_summary = datasets.read_summary(no=-1)\n",
    "df_data    = datasets.read_data(no=-1)"
   ]
  },
  {
   "cell_type": "code",
   "execution_count": 32,
   "metadata": {},
   "outputs": [
    {
     "data": {
      "text/plain": [
       "Index(['FEATURES', 'FeatureNum', 'Row', 'Col', 'accessions', 'chr_coord',\n",
       "       'SubTypeMask', 'SubTypeName', 'Start', 'Sequence', 'ProbeUID',\n",
       "       'ControlType', 'ProbeName', 'GeneName', 'SystematicName', 'Description',\n",
       "       'PositionX', 'PositionY', 'gSurrogateUsed', 'gIsFound',\n",
       "       'gProcessedSignal', 'gProcessedSigError', 'gNumPixOLHi', 'gNumPixOLLo',\n",
       "       'gNumPix', 'gMeanSignal', 'gMedianSignal', 'gPixSDev', 'gPixNormIQR',\n",
       "       'gBGNumPix', 'gBGMeanSignal', 'gBGMedianSignal', 'gBGPixSDev',\n",
       "       'gBGPixNormIQR', 'gNumSatPix', 'gIsSaturated', 'gIsFeatNonUnifOL',\n",
       "       'gIsBGNonUnifOL', 'gIsFeatPopnOL', 'gIsBGPopnOL', 'IsManualFlag',\n",
       "       'gBGSubSignal', 'gBGSubSigError', 'gIsPosAndSignif', 'gPValFeatEqBG',\n",
       "       'gNumBGUsed', 'gIsWellAboveBG', 'gBGUsed', 'gBGSDUsed', 'ErrorModel',\n",
       "       'gSpatialDetrendIsInFilteredSet', 'gSpatialDetrendSurfaceValue',\n",
       "       'SpotExtentX', 'SpotExtentY', 'gNetSignal', 'gMultDetrendSignal',\n",
       "       'gProcessedBackground', 'gProcessedBkngError', 'IsUsedBGAdjust',\n",
       "       'gInterpolatedNegCtrlSub', 'gIsInNegCtrlRange', 'gIsUsedInMD',\n",
       "       'gMeanSigna - gBGUsed'],\n",
       "      dtype='object')"
      ]
     },
     "execution_count": 32,
     "metadata": {},
     "output_type": "execute_result"
    }
   ],
   "source": [
    "df_data.columns"
   ]
  },
  {
   "cell_type": "markdown",
   "metadata": {},
   "source": [
    "### Background Subtraction Method"
   ]
  },
  {
   "cell_type": "markdown",
   "metadata": {},
   "source": [
    "<table>\n",
    "  <thead>\n",
    "    <tr>\n",
    "      <th>Background Subtraction Method</th>\n",
    "      <th>Background Subtraction Variable</th>\n",
    "      <th>SpDe OFF<br>GBA OFF</th>\n",
    "      <th>SpDe ON<br>GBA OFF</th>\n",
    "      <th>SpDe OFF<br>GBA ON</th>\n",
    "      <th>SpDe ON<br>GBA ON</th>\n",
    "    </tr>\n",
    "  </thead>\n",
    "  <tbody>\n",
    "    <tr>\n",
    "      <td rowspan=\"3\">No background subtract</td>\n",
    "      <td><code>BGUsed</code> =</td>\n",
    "      <td><code>BGMeanSignal</code></td>\n",
    "      <td><code>SDSV</code></td>\n",
    "      <td><code>BGAdjust</code></td>\n",
    "      <td><code>SDSV</code> + <code>BGAdjust</code></td>\n",
    "    </tr>\n",
    "    <tr>\n",
    "      <td><code>BGSDUsed</code> = </td>\n",
    "      <td><code>BGPixSDev</code></td>\n",
    "      <td><code>BGPixSDev</code></td>\n",
    "      <td><code>BGPixSDev</code></td>\n",
    "      <td><code>BGPixSDev</code></td>\n",
    "    </tr>\n",
    "    <tr>\n",
    "      <td><code>BGSubSignal</code> = </td>\n",
    "      <td><code>MeanSignal</code></td>\n",
    "      <td><code>MeanSignal</code> - <code>BGUsed</code></td>\n",
    "      <td><code>MeanSignal</code> - <code>BGUsed</code></td>\n",
    "      <td><code>MeanSignal</code> - <code>BGUsed</code></td>\n",
    "    </tr>\n",
    "    <tr>\n",
    "      <td rowspan=\"3\">Local Background</td>\n",
    "      <td><code>BGUsed</code> = </td>\n",
    "      <td><code>BGMeanSignal</code></td>\n",
    "      <td><code>BGMeanSignal</code> + <code>SDSV</code></td>\n",
    "      <td><code>BGMeanSignal</code> + <code>BGAdjust</code></td>\n",
    "      <td><code>BGMeanSignal</code> + <code>SDSV</code> + <code>BGAdjust</code></td>\n",
    "    </tr>\n",
    "    <tr>\n",
    "      <td><code>BGSDUsed</code> = </td>\n",
    "      <td><code>BGPixSDev</code></td>\n",
    "      <td><code>BGPixSDev</code></td>\n",
    "      <td><code>BGPixSDev</code></td>\n",
    "      <td><code>BGPixSDev</code></td>\n",
    "    </tr>\n",
    "    <tr>\n",
    "      <td><code>BGSubSignal</code> = </td>\n",
    "      <td><code>MeanSignal</code> - <code>BGUsed</code></td>\n",
    "      <td><code>MeanSignal</code> - <code>BGUsed</code></td>\n",
    "      <td><code>MeanSignal</code> - <code>BGUsed</code></td>\n",
    "      <td><code>MeanSignal</code> - <code>BGUsed</code></td>\n",
    "    </tr>\n",
    "    <tr>\n",
    "      <td rowspan=\"3\">Global Background method</td>\n",
    "      <td><code>BGUsed</code> = </td>\n",
    "      <td><code>GBGIA</code></td>\n",
    "      <td><code>GBGIA</code> + <code>SDSV</code></td>\n",
    "      <td><code>GBGIA</code> + <code>BGAdjust</code></td>\n",
    "      <td><code>GBGIA</code> + <code>SDSV</code> + <code>BGAdjust</code></td>\n",
    "    </tr>\n",
    "    <tr>\n",
    "      <td><code>BGSDUsed</code> = </td>\n",
    "      <td><code>GBGISD</code></td>\n",
    "      <td><code>GBGISD</code></td>\n",
    "      <td><code>GBGISD</code></td>\n",
    "      <td><code>GBGISD</code></td>\n",
    "    </tr>\n",
    "    <tr>\n",
    "      <td><code>BGSubSignal</code> = </td>\n",
    "      <td><code>MeanSignal</code> - <code>BGUsed</code></td>\n",
    "      <td><code>MeanSignal</code> - <code>BGUsed</code></td>\n",
    "      <td><code>MeanSignal</code> - <code>BGUsed</code></td>\n",
    "      <td><code>MeanSignal</code> - <code>BGUsed</code></td>\n",
    "    </tr>\n",
    "  </tbody>\n",
    "</table>"
   ]
  },
  {
   "cell_type": "code",
   "execution_count": 39,
   "metadata": {},
   "outputs": [
    {
     "name": "stdout",
     "output_type": "stream",
     "text": [
      "Read data from 'microarray2020A/実習解析用データ/US91503671_253949442637_S01_GE1_105_Dec08_2_2.txt'\n"
     ]
    },
    {
     "data": {
      "text/plain": [
       "7"
      ]
     },
     "execution_count": 39,
     "metadata": {},
     "output_type": "execute_result"
    }
   ],
   "source": [
    "df_meta = datasets.read_meta(no=-1)\n",
    "df_meta[\"BGSubtractor_BGSubMethod\"].values[0]"
   ]
  },
  {
   "cell_type": "markdown",
   "metadata": {},
   "source": [
    "> The `BGSubMethod` of `7` corresponds to \"No Background Subtraction method\" (see [Table 17 on page 129](https://www.agilent.com/cs/library/usermanuals/public/G4460-90052_FE_RefGuide.pdf).). \n",
    "\n",
    "- Global Background Adjustment is turned Off. \n",
    "- Spatial Detrending is turned On."
   ]
  },
  {
   "cell_type": "code",
   "execution_count": 34,
   "metadata": {},
   "outputs": [
    {
     "name": "stdout",
     "output_type": "stream",
     "text": [
      "Read data from 'microarray2021S/SG19378659_257236339458_S001_GE1_1200_Jun14_1_1.txt'\n"
     ]
    }
   ],
   "source": [
    "df_meta = datasets.read_meta(no=0)"
   ]
  },
  {
   "cell_type": "code",
   "execution_count": 40,
   "metadata": {},
   "outputs": [
    {
     "name": "stdout",
     "output_type": "stream",
     "text": [
      "Read data from 'microarray2020A/実習解析用データ/US91503671_253949442637_S01_GE1_105_Dec08_2_2.txt'\n"
     ]
    },
    {
     "data": {
      "text/plain": [
       "0        True\n",
       "1        True\n",
       "2        True\n",
       "3        True\n",
       "4        True\n",
       "         ... \n",
       "62971    True\n",
       "62972    True\n",
       "62973    True\n",
       "62974    True\n",
       "62975    True\n",
       "Length: 62976, dtype: bool"
      ]
     },
     "execution_count": 40,
     "metadata": {},
     "output_type": "execute_result"
    }
   ],
   "source": [
    ">>> from teilab.datasets import TeiLabDataSets\n",
    ">>> datasets = TeiLabDataSets(verbose=False)\n",
    ">>> df_data = datasets.read_data(no=-1)\n",
    ">>> all(df_data[\"gBGUsed\"] == df_data[\"gSpatialDetrendSurfaceValue\"])"
   ]
  },
  {
   "cell_type": "code",
   "execution_count": 41,
   "metadata": {},
   "outputs": [
    {
     "data": {
      "text/plain": [
       "True"
      ]
     },
     "execution_count": 41,
     "metadata": {},
     "output_type": "execute_result"
    }
   ],
   "source": [
    "all(df_data[\"gBGUsed\"] == df_data[\"gSpatialDetrendSurfaceValue\"])"
   ]
  },
  {
   "cell_type": "code",
   "execution_count": 23,
   "metadata": {},
   "outputs": [
    {
     "data": {
      "text/html": [
       "<div>\n",
       "<style scoped>\n",
       "    .dataframe tbody tr th:only-of-type {\n",
       "        vertical-align: middle;\n",
       "    }\n",
       "\n",
       "    .dataframe tbody tr th {\n",
       "        vertical-align: top;\n",
       "    }\n",
       "\n",
       "    .dataframe thead th {\n",
       "        text-align: right;\n",
       "    }\n",
       "</style>\n",
       "<table border=\"1\" class=\"dataframe\">\n",
       "  <thead>\n",
       "    <tr style=\"text-align: right;\">\n",
       "      <th></th>\n",
       "      <th>gBGUsed</th>\n",
       "      <th>gBGMeanSignal</th>\n",
       "      <th>gSpatialDetrendSurfaceValue</th>\n",
       "      <th>IsUsedBGAdjust</th>\n",
       "    </tr>\n",
       "  </thead>\n",
       "  <tbody>\n",
       "    <tr>\n",
       "      <th>0</th>\n",
       "      <td>477.174</td>\n",
       "      <td>136.1580</td>\n",
       "      <td>477.174</td>\n",
       "      <td>0</td>\n",
       "    </tr>\n",
       "    <tr>\n",
       "      <th>1</th>\n",
       "      <td>476.428</td>\n",
       "      <td>131.6455</td>\n",
       "      <td>476.428</td>\n",
       "      <td>0</td>\n",
       "    </tr>\n",
       "    <tr>\n",
       "      <th>2</th>\n",
       "      <td>475.769</td>\n",
       "      <td>129.2818</td>\n",
       "      <td>475.769</td>\n",
       "      <td>0</td>\n",
       "    </tr>\n",
       "  </tbody>\n",
       "</table>\n",
       "</div>"
      ],
      "text/plain": [
       "   gBGUsed  gBGMeanSignal  gSpatialDetrendSurfaceValue  IsUsedBGAdjust\n",
       "0  477.174       136.1580                      477.174               0\n",
       "1  476.428       131.6455                      476.428               0\n",
       "2  475.769       129.2818                      475.769               0"
      ]
     },
     "execution_count": 23,
     "metadata": {},
     "output_type": "execute_result"
    }
   ],
   "source": [
    "df_data[[\"gBGUsed\",\"gBGMeanSignal\",\"gSpatialDetrendSurfaceValue\",\"IsUsedBGAdjust\"]].head(3)"
   ]
  },
  {
   "cell_type": "code",
   "execution_count": 49,
   "metadata": {},
   "outputs": [
    {
     "data": {
      "text/plain": [
       "True"
      ]
     },
     "execution_count": 49,
     "metadata": {},
     "output_type": "execute_result"
    }
   ],
   "source": [
    "all(abs(df_data[\"gBGSDUsed\"] - df_data[\"gBGPixSDev\"])<1e3)"
   ]
  },
  {
   "cell_type": "code",
   "execution_count": 54,
   "metadata": {},
   "outputs": [
    {
     "data": {
      "text/plain": [
       "True"
      ]
     },
     "execution_count": 54,
     "metadata": {},
     "output_type": "execute_result"
    }
   ],
   "source": [
    "all(abs((df_data[\"gBGSubSignal\"] - (df_data[\"gMeanSignal\"] - df_data[\"gBGUsed\"]))/df_data[\"gBGSubSignal\"]) < 1e4)"
   ]
  },
  {
   "cell_type": "code",
   "execution_count": 67,
   "metadata": {},
   "outputs": [
    {
     "data": {
      "text/plain": [
       "True"
      ]
     },
     "execution_count": 67,
     "metadata": {},
     "output_type": "execute_result"
    }
   ],
   "source": [
    "all(abs( (df_data[\"gBGSubSignal\"]-(df_data[\"gMeanSignal\"]-df_data[\"gBGUsed\"]))/df_data[\"gBGSubSignal\"] ) < 1)"
   ]
  },
  {
   "cell_type": "code",
   "execution_count": 76,
   "metadata": {},
   "outputs": [
    {
     "data": {
      "text/plain": [
       "True"
      ]
     },
     "execution_count": 76,
     "metadata": {},
     "output_type": "execute_result"
    }
   ],
   "source": [
    "all(abs((df_data[\"gBGSubSignal\"]-(df_data[\"gMeanSignal\"]-df_data[\"gBGUsed\"]))/df_data[\"gBGSubSignal\"]) < 1.4e-1)"
   ]
  },
  {
   "cell_type": "code",
   "execution_count": 91,
   "metadata": {},
   "outputs": [],
   "source": [
    "row_flattd_data = [np.mean(df_data[\"gBGSDUsed\"].values[i*164:(i+1)*164]) for i in range(384)]"
   ]
  },
  {
   "cell_type": "code",
   "execution_count": 92,
   "metadata": {},
   "outputs": [],
   "source": [
    "import matplotlib.pyplot as plt"
   ]
  },
  {
   "cell_type": "code",
   "execution_count": 95,
   "metadata": {},
   "outputs": [
    {
     "data": {
      "text/plain": [
       "[<matplotlib.lines.Line2D at 0x11bc8caf0>]"
      ]
     },
     "execution_count": 95,
     "metadata": {},
     "output_type": "execute_result"
    },
    {
     "data": {
      "image/png": "[encoded data removed]",
      "text/plain": [
       "<Figure size 432x288 with 1 Axes>"
      ]
     },
     "metadata": {
      "needs_background": "light"
     },
     "output_type": "display_data"
    }
   ],
   "source": [
    "plt.plot(row_flattd_data)"
   ]
  },
  {
   "cell_type": "code",
   "execution_count": null,
   "metadata": {},
   "outputs": [],
   "source": []
  }
 ],
 "metadata": {
  "hide_input": false,
  "kernelspec": {
   "display_name": "TeiLab-BasicLaboratoryWork",
   "language": "python",
   "name": "teilab-basiclaboratorywork"
  },
  "language_info": {
   "codemirror_mode": {
    "name": "ipython",
    "version": 3
   },
   "file_extension": ".py",
   "mimetype": "text/x-python",
   "name": "python",
   "nbconvert_exporter": "python",
   "pygments_lexer": "ipython3",
   "version": "3.8.9"
  }
 },
 "nbformat": 4,
 "nbformat_minor": 4
}
