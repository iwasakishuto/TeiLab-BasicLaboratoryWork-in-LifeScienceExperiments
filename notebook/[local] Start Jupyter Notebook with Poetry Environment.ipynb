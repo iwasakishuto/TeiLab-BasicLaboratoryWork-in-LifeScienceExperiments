{
 "cells": [
  {
   "cell_type": "markdown",
   "metadata": {},
   "source": [
    "## Start using Jupyter Notebook with Poetry Environment.\n",
    "\n",
    "If you want to use jupyter notebook with the environment for [this repository](https://github.com/iwasakishuto/TeiLab-BasicLaboratoryWork-in-LifeScienceExperiments), please run the following commands:"
   ]
  },
  {
   "cell_type": "markdown",
   "metadata": {},
   "source": [
    "```sh\n",
    "$ git clone https://github.com/iwasakishuto/TeiLab-BasicLaboratoryWork-in-LifeScienceExperiments.git\n",
    "$ cd TeiLab-BasicLaboratoryWork-in-LifeScienceExperiments\n",
    "$ poetry install\n",
    "$ poetry shell\n",
    "Spawning shell within path/to/TeiLab-BasicLaboratoryWork-in-LifeScienceExperiments/.venv\n",
    "$ . /path/to/TeiLab-BasicLaboratoryWork-in-LifeScienceExperiments/.venv/bin/activate\n",
    "(.venv) $ ipython kernel install --user --name=TeiLab-BasicLaboratoryWork\n",
    "(.venv) $ exit\n",
    "$ jupyter notebook\n",
    "# If something goes wrong, edit the configuration file.\n",
    "$ cat ~/Library/Jupyter/kernels/teilab-basiclaboratorywork/kernel.json\n",
    "```"
   ]
  },
  {
   "cell_type": "code",
   "execution_count": 1,
   "metadata": {},
   "outputs": [
    {
     "name": "stdout",
     "output_type": "stream",
     "text": [
      "Current Directory : /Users/iwasakishuto/Github/TeiLab-BasicLaboratoryWork-in-LifeScienceExperiments/notebook\n",
      "Executable Binary : /Users/iwasakishuto/Github/TeiLab-BasicLaboratoryWork-in-LifeScienceExperiments/.venv/bin/python\n",
      "Python Version    : 3.8.9\n",
      "Versions          : 2021 Spring Semester\n"
     ]
    }
   ],
   "source": [
    "import os\n",
    "import sys\n",
    "import teilab\n",
    "\n",
    "print(\n",
    "    f\"Current Directory : {os.getcwd()}\",\n",
    "    f\"Executable Binary : {sys.executable}\",\n",
    "    f\"Python Version    : {sys.version.split(' ')[0]}\",\n",
    "    f\"Versions          : {teilab.__version__}\",\n",
    "    sep=\"\\n\"\n",
    ")"
   ]
  },
  {
   "cell_type": "code",
   "execution_count": null,
   "metadata": {},
   "outputs": [],
   "source": []
  }
 ],
 "metadata": {
  "hide_input": false,
  "kernelspec": {
   "display_name": "TeiLab-BasicLaboratoryWork",
   "language": "python",
   "name": "teilab-basiclaboratorywork"
  },
  "language_info": {
   "codemirror_mode": {
    "name": "ipython",
    "version": 3
   },
   "file_extension": ".py",
   "mimetype": "text/x-python",
   "name": "python",
   "nbconvert_exporter": "python",
   "pygments_lexer": "ipython3",
   "version": "3.8.9"
  }
 },
 "nbformat": 4,
 "nbformat_minor": 4
}
